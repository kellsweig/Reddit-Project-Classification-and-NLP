{
 "cells": [
  {
   "cell_type": "code",
   "execution_count": 1,
   "id": "92605211-4d73-4f11-94f7-ee840cc8f3f6",
   "metadata": {
    "tags": []
   },
   "outputs": [],
   "source": [
    "import praw\n",
    "import pandas as pd"
   ]
  },
  {
   "cell_type": "code",
   "execution_count": 2,
   "id": "db62cf52-aa47-4c7c-85a0-81a72b165fbc",
   "metadata": {
    "tags": []
   },
   "outputs": [
    {
     "data": {
      "text/plain": [
       "['k0w98OlsD1oZb8vySUtYODw4ovm_MQ']"
      ]
     },
     "execution_count": 2,
     "metadata": {},
     "output_type": "execute_result"
    }
   ],
   "source": [
    "#Accessing client secret from untracked text file\n",
    "var = open('credentials.txt').readlines()\n",
    "var"
   ]
  },
  {
   "cell_type": "code",
   "execution_count": 3,
   "id": "fdc9e8c7-d91d-4d34-955a-335f1c8c276e",
   "metadata": {
    "tags": []
   },
   "outputs": [],
   "source": [
    "reddit = praw.Reddit(\n",
    "    client_id='AVV_s0cMo6_Zb6YLG7PIsg',\n",
    "    client_secret = var[0],\n",
    "    user_agent='project by u/iamnotthethrowaway',\n",
    "    username='iamnotthethrowaway'\n",
    ")"
   ]
  },
  {
   "cell_type": "code",
   "execution_count": null,
   "id": "958fb517-772e-4115-9c06-5053b2affd28",
   "metadata": {},
   "outputs": [],
   "source": []
  },
  {
   "cell_type": "code",
   "execution_count": 10,
   "id": "2173f419-1a4c-402f-88c1-1b9f55df9fed",
   "metadata": {
    "tags": []
   },
   "outputs": [],
   "source": [
    "subreddit = reddit.subreddit('Camping')\n",
    "\n",
    "posts = subreddit.controversial(limit=5000)"
   ]
  },
  {
   "cell_type": "code",
   "execution_count": 4,
   "id": "a619ce57-2de2-42b4-b4e2-08f78ae3cbce",
   "metadata": {},
   "outputs": [],
   "source": [
    "data = []"
   ]
  },
  {
   "cell_type": "code",
   "execution_count": 11,
   "id": "d85083d9-f1fa-4506-bdfe-6181d0e40416",
   "metadata": {
    "tags": []
   },
   "outputs": [],
   "source": [
    "for post in posts:\n",
    "    data.append([post.created_utc, post.title, post.selftext, post.subreddit])"
   ]
  },
  {
   "cell_type": "code",
   "execution_count": 5,
   "id": "08155047-c26f-490b-ae20-10b3d2d99c25",
   "metadata": {
    "tags": []
   },
   "outputs": [],
   "source": [
    "subreddit = reddit.subreddit('Camping')\n",
    "#Using .new\n",
    "posts = subreddit.new(limit=1000)\n",
    "\n",
    "for post in posts:\n",
    "    data.append([post.created_utc, post.title, post.selftext, post.subreddit])"
   ]
  },
  {
   "cell_type": "code",
   "execution_count": 12,
   "id": "7b569615-24e2-4a9f-a102-68b9e3cb929a",
   "metadata": {},
   "outputs": [],
   "source": [
    "subreddit = reddit.subreddit('Camping')\n",
    "#.top\n",
    "posts = subreddit.top(limit=1000)\n",
    "\n",
    "for post in posts:\n",
    "    data.append([post.created_utc, post.title, post.selftext, post.subreddit])"
   ]
  },
  {
   "cell_type": "code",
   "execution_count": 13,
   "id": "fff8ba8d-9e06-4d5c-b20e-bedc8c708e6e",
   "metadata": {},
   "outputs": [],
   "source": [
    "subreddit = reddit.subreddit('Camping')\n",
    "#.hot\n",
    "posts = subreddit.hot(limit=1000)\n",
    "\n",
    "for post in posts:\n",
    "    data.append([post.created_utc, post.title, post.selftext, post.subreddit])"
   ]
  },
  {
   "cell_type": "code",
   "execution_count": 14,
   "id": "e128424c-596c-416d-91ac-f79a0cc0cfd9",
   "metadata": {
    "tags": []
   },
   "outputs": [
    {
     "data": {
      "text/plain": [
       "(3832, 4)"
      ]
     },
     "execution_count": 14,
     "metadata": {},
     "output_type": "execute_result"
    }
   ],
   "source": [
    "camping = pd.DataFrame(data, columns = ['created_utc', 'title', 'self_text', 'subreddit'])\n",
    "camping.head()\n",
    "camping.shape"
   ]
  },
  {
   "cell_type": "code",
   "execution_count": 15,
   "id": "9ea2898e-b76d-4be0-a715-095fc98533e2",
   "metadata": {
    "tags": []
   },
   "outputs": [
    {
     "data": {
      "text/plain": [
       "created_utc    2845\n",
       "title          2834\n",
       "self_text      1216\n",
       "subreddit         1\n",
       "dtype: int64"
      ]
     },
     "execution_count": 15,
     "metadata": {},
     "output_type": "execute_result"
    }
   ],
   "source": [
    "camping.nunique()"
   ]
  },
  {
   "cell_type": "code",
   "execution_count": 16,
   "id": "436bc6ee-5516-41f2-b0df-5b1441b30e72",
   "metadata": {
    "tags": []
   },
   "outputs": [],
   "source": [
    "camping.drop_duplicates(inplace=True)"
   ]
  },
  {
   "cell_type": "code",
   "execution_count": 17,
   "id": "f725621a-fc2e-4da8-8fdd-fb6337d00511",
   "metadata": {
    "tags": []
   },
   "outputs": [
    {
     "data": {
      "text/plain": [
       "(2845, 4)"
      ]
     },
     "execution_count": 17,
     "metadata": {},
     "output_type": "execute_result"
    }
   ],
   "source": [
    "camping.shape"
   ]
  },
  {
   "cell_type": "code",
   "execution_count": 18,
   "id": "8abfdac7-808e-480e-9da7-bc3ea5573edc",
   "metadata": {
    "tags": []
   },
   "outputs": [],
   "source": [
    "camping.to_csv('data/camping4.csv')"
   ]
  },
  {
   "cell_type": "code",
   "execution_count": null,
   "id": "2954f14e-8908-4fe3-8ec1-f6adbc563b43",
   "metadata": {},
   "outputs": [],
   "source": []
  }
 ],
 "metadata": {
  "kernelspec": {
   "display_name": "Python 3 (ipykernel)",
   "language": "python",
   "name": "python3"
  },
  "language_info": {
   "codemirror_mode": {
    "name": "ipython",
    "version": 3
   },
   "file_extension": ".py",
   "mimetype": "text/x-python",
   "name": "python",
   "nbconvert_exporter": "python",
   "pygments_lexer": "ipython3",
   "version": "3.11.4"
  }
 },
 "nbformat": 4,
 "nbformat_minor": 5
}
