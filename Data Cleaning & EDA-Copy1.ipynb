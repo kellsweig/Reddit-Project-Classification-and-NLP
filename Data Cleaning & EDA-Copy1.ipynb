{
 "cells": [
  {
   "cell_type": "markdown",
   "id": "462c1452-f5e7-4966-9683-da5dce7acae2",
   "metadata": {},
   "source": [
    "# Data Cleaning & EDA"
   ]
  },
  {
   "cell_type": "markdown",
   "id": "6b78a343-102f-4c8d-9054-0cfe136eea98",
   "metadata": {
    "tags": []
   },
   "source": [
    "### Data Cleaning Steps/ Goals:\n",
    "\n",
    "1. Read in various dataframes and append into 1 dataframe\n",
    "2. Drop duplicated values\n",
    "3. Handle missing values (missing text)\n",
    "4. Handle links & short 'posts'\n",
    "5. Countvectorize (text & title?- combine both or keep separate?) \n",
    "6. Examine trends (average word-count, sentiment analysis etc)\n",
    "7. Store dataframe without vectorized columns\n"
   ]
  },
  {
   "cell_type": "code",
   "execution_count": 126,
   "id": "cac81797-cad8-475a-8b51-349ce89d27ed",
   "metadata": {
    "tags": []
   },
   "outputs": [],
   "source": [
    "# Imports:\n",
    "import pandas as pd\n",
    "import numpy as np\n",
    "import matplotlib.pyplot as plt\n",
    "\n",
    "from sklearn.model_selection import train_test_split, GridSearchCV\n",
    "from sklearn.pipeline import Pipeline\n",
    "\n",
    "from nltk.sentiment.vader import SentimentIntensityAnalyzer\n",
    "from sklearn.metrics import confusion_matrix, ConfusionMatrixDisplay\n",
    "\n",
    "from sklearn.feature_extraction.text import CountVectorizer, TfidfVectorizer\n"
   ]
  },
  {
   "cell_type": "markdown",
   "id": "d549450e-fc5e-4224-a5c2-bbae05cdac21",
   "metadata": {},
   "source": [
    "### Combining datasets and Dropping Duplicates"
   ]
  },
  {
   "cell_type": "code",
   "execution_count": 127,
   "id": "b43587ff-9eb0-4d8d-a3ec-5a1e0444db0f",
   "metadata": {
    "tags": []
   },
   "outputs": [],
   "source": [
    "# Read in ultralight data\n",
    "u1 = pd.read_csv('data/Ultralight/ultralight.csv')\n",
    "u2 = pd.read_csv('data/Ultralight/ultralight1.csv')\n",
    "u3 = pd.read_csv('data/Ultralight/ultralight2.csv')\n",
    "u4 = pd.read_csv('data/Ultralight/ultralight3.csv')\n",
    "u5 = pd.read_csv('data/Ultralight/ultralight4.csv')\n"
   ]
  },
  {
   "cell_type": "code",
   "execution_count": 128,
   "id": "9ce85b7f-35f6-42cf-8111-51c6ac4f2899",
   "metadata": {
    "tags": []
   },
   "outputs": [],
   "source": [
    "#Combine into 1 ultralight dataset\n",
    "datasets = [u1, u2, u3, u4, u5]\n",
    "ultralight = pd.concat(datasets)"
   ]
  },
  {
   "cell_type": "code",
   "execution_count": 129,
   "id": "9c1a42d6-53b0-4da5-a195-f30052d9f9a4",
   "metadata": {
    "tags": []
   },
   "outputs": [
    {
     "data": {
      "text/plain": [
       "(9445, 5)"
      ]
     },
     "execution_count": 129,
     "metadata": {},
     "output_type": "execute_result"
    }
   ],
   "source": [
    "ultralight.shape"
   ]
  },
  {
   "cell_type": "code",
   "execution_count": 130,
   "id": "14200ba9-62f2-429f-9b6d-7b78497006d7",
   "metadata": {
    "tags": []
   },
   "outputs": [
    {
     "data": {
      "text/plain": [
       "Unnamed: 0     3974\n",
       "created_utc    2001\n",
       "title          1996\n",
       "self_text      2584\n",
       "subreddit         1\n",
       "dtype: int64"
      ]
     },
     "execution_count": 130,
     "metadata": {},
     "output_type": "execute_result"
    }
   ],
   "source": [
    "ultralight.nunique()"
   ]
  },
  {
   "cell_type": "code",
   "execution_count": 131,
   "id": "d01b0411-d097-4a32-8f92-5ed86f89d709",
   "metadata": {
    "tags": []
   },
   "outputs": [
    {
     "data": {
      "text/plain": [
       "7"
      ]
     },
     "execution_count": 131,
     "metadata": {},
     "output_type": "execute_result"
    }
   ],
   "source": [
    "ultralight.duplicated().sum()"
   ]
  },
  {
   "cell_type": "code",
   "execution_count": 132,
   "id": "c3621590-52a2-45eb-81c7-8023b7b85b7d",
   "metadata": {
    "tags": []
   },
   "outputs": [],
   "source": [
    "# Drop any duplicate posts\n",
    "ultralight.drop_duplicates(inplace=True)"
   ]
  },
  {
   "cell_type": "code",
   "execution_count": 133,
   "id": "57c6e8ec-28d3-433c-b9e0-5c82d2276bf9",
   "metadata": {
    "tags": []
   },
   "outputs": [
    {
     "data": {
      "text/plain": [
       "(9438, 5)"
      ]
     },
     "execution_count": 133,
     "metadata": {},
     "output_type": "execute_result"
    }
   ],
   "source": [
    "ultralight.shape"
   ]
  },
  {
   "cell_type": "code",
   "execution_count": 134,
   "id": "e6be3dee-0a01-4a50-ba7a-090fc3ea243f",
   "metadata": {
    "tags": []
   },
   "outputs": [],
   "source": [
    "# Read in all camping datasets\n",
    "c1 = pd.read_csv('data/Camping/camping.csv')\n",
    "c2 = pd.read_csv('data/Camping/camping1.csv')\n",
    "c3 = pd.read_csv('data/Camping/camping2.csv')\n",
    "c4 = pd.read_csv('data/Camping/camping3.csv')\n",
    "c5 = pd.read_csv('data/Camping/camping4.csv')"
   ]
  },
  {
   "cell_type": "code",
   "execution_count": 135,
   "id": "3fbf6ef3-ea7b-4053-b64f-0fda0c694544",
   "metadata": {
    "tags": []
   },
   "outputs": [],
   "source": [
    "cdatasets= [c1, c2, c3, c4]"
   ]
  },
  {
   "cell_type": "code",
   "execution_count": 136,
   "id": "2f2b80d3-3d70-4f73-8799-8e2187f4ba01",
   "metadata": {
    "tags": []
   },
   "outputs": [],
   "source": [
    "# Combine into 1 camping datarame\n",
    "camping = pd.concat(cdatasets)"
   ]
  },
  {
   "cell_type": "code",
   "execution_count": 137,
   "id": "f74af42f-791c-4226-a796-66c55f6381d5",
   "metadata": {
    "tags": []
   },
   "outputs": [
    {
     "data": {
      "text/plain": [
       "(8609, 5)"
      ]
     },
     "execution_count": 137,
     "metadata": {},
     "output_type": "execute_result"
    }
   ],
   "source": [
    "camping.shape"
   ]
  },
  {
   "cell_type": "code",
   "execution_count": 138,
   "id": "123f41bc-17b7-4457-a477-c7113c329acf",
   "metadata": {
    "tags": []
   },
   "outputs": [
    {
     "data": {
      "text/plain": [
       "Unnamed: 0     3832\n",
       "created_utc    2862\n",
       "title          2851\n",
       "self_text      1610\n",
       "subreddit         1\n",
       "dtype: int64"
      ]
     },
     "execution_count": 138,
     "metadata": {},
     "output_type": "execute_result"
    }
   ],
   "source": [
    "camping.nunique()"
   ]
  },
  {
   "cell_type": "code",
   "execution_count": 139,
   "id": "76fa1b16-2197-4fef-a6bb-a05a577baa0b",
   "metadata": {
    "tags": []
   },
   "outputs": [
    {
     "data": {
      "text/plain": [
       "1319"
      ]
     },
     "execution_count": 139,
     "metadata": {},
     "output_type": "execute_result"
    }
   ],
   "source": [
    "camping.duplicated().sum()"
   ]
  },
  {
   "cell_type": "code",
   "execution_count": 140,
   "id": "8cc049f3-8b50-450f-9424-1bca155a825a",
   "metadata": {
    "tags": []
   },
   "outputs": [],
   "source": [
    "#Drop any duplicated posts from camping\n",
    "camping.drop_duplicates(inplace=True)"
   ]
  },
  {
   "cell_type": "code",
   "execution_count": 141,
   "id": "c94b7741-226a-4ca5-894a-5dc33766685a",
   "metadata": {
    "tags": []
   },
   "outputs": [
    {
     "data": {
      "text/plain": [
       "(7290, 5)"
      ]
     },
     "execution_count": 141,
     "metadata": {},
     "output_type": "execute_result"
    }
   ],
   "source": [
    "camping.shape"
   ]
  },
  {
   "cell_type": "code",
   "execution_count": 142,
   "id": "eb26dd8e-13ce-49eb-8816-2a1998ccea57",
   "metadata": {
    "tags": []
   },
   "outputs": [
    {
     "data": {
      "text/plain": [
       "0"
      ]
     },
     "execution_count": 142,
     "metadata": {},
     "output_type": "execute_result"
    }
   ],
   "source": [
    "camping.duplicated().sum()"
   ]
  },
  {
   "cell_type": "code",
   "execution_count": 143,
   "id": "8a210091-bb8e-4795-9b0b-58764dcb9f2f",
   "metadata": {
    "tags": []
   },
   "outputs": [
    {
     "data": {
      "text/plain": [
       "Unnamed: 0        0\n",
       "created_utc       0\n",
       "title             0\n",
       "self_text      3285\n",
       "subreddit         0\n",
       "dtype: int64"
      ]
     },
     "execution_count": 143,
     "metadata": {},
     "output_type": "execute_result"
    }
   ],
   "source": [
    "camping.isna().sum()"
   ]
  },
  {
   "cell_type": "code",
   "execution_count": 145,
   "id": "5e2005ca-46a4-4405-96c5-9dd420c7de93",
   "metadata": {
    "tags": []
   },
   "outputs": [
    {
     "data": {
      "text/plain": [
       "Unnamed: 0       0\n",
       "created_utc      0\n",
       "title            0\n",
       "self_text      459\n",
       "subreddit        0\n",
       "dtype: int64"
      ]
     },
     "execution_count": 145,
     "metadata": {},
     "output_type": "execute_result"
    }
   ],
   "source": [
    "ultralight.isna().sum()"
   ]
  },
  {
   "cell_type": "markdown",
   "id": "565d73e0-5fb4-4e87-a824-614569b96918",
   "metadata": {},
   "source": [
    "### Handling Missing Values"
   ]
  },
  {
   "cell_type": "markdown",
   "id": "982e6240-9c4b-42bf-b600-231ed00f19af",
   "metadata": {},
   "source": [
    "Since all the missing values in my dataframe are empty self-text and self-text is what the model will be trained on, all missing values in the dataframe can be dropped completely."
   ]
  },
  {
   "cell_type": "code",
   "execution_count": 144,
   "id": "1d1c27bd-c54f-41fb-97c1-083faec86e96",
   "metadata": {
    "tags": []
   },
   "outputs": [],
   "source": [
    "# Dropping missing from camping\n",
    "camping.dropna(inplace=True)"
   ]
  },
  {
   "cell_type": "code",
   "execution_count": 146,
   "id": "4f2a9a1e-c372-4bad-8d6a-96622278a5d3",
   "metadata": {},
   "outputs": [],
   "source": [
    "# Dropping missing values from ultralight\n",
    "ultralight.dropna(inplace=True)"
   ]
  },
  {
   "cell_type": "code",
   "execution_count": 147,
   "id": "6a38dc54-41ae-47da-9361-c09f0963e13f",
   "metadata": {
    "tags": []
   },
   "outputs": [
    {
     "data": {
      "text/plain": [
       "(8979, 5)"
      ]
     },
     "execution_count": 147,
     "metadata": {},
     "output_type": "execute_result"
    }
   ],
   "source": [
    "ultralight.shape"
   ]
  },
  {
   "cell_type": "code",
   "execution_count": 148,
   "id": "4459b57d-7ad6-4325-b4a7-57fadc70bf08",
   "metadata": {
    "tags": []
   },
   "outputs": [
    {
     "data": {
      "text/plain": [
       "(4005, 5)"
      ]
     },
     "execution_count": 148,
     "metadata": {},
     "output_type": "execute_result"
    }
   ],
   "source": [
    "camping.shape"
   ]
  },
  {
   "cell_type": "markdown",
   "id": "a7c11847-488b-4d90-adbc-4a2415adf9ca",
   "metadata": {},
   "source": [
    "### Combining the two subreddits into 1 dataframe "
   ]
  },
  {
   "cell_type": "code",
   "execution_count": 149,
   "id": "5e428128-ae3c-4968-85c6-27da580bdc97",
   "metadata": {
    "tags": []
   },
   "outputs": [],
   "source": [
    "#Combining ultralight and camping into 1 dataframe\n",
    "combined = [camping, ultralight]\n",
    "df = pd.concat(combined)"
   ]
  },
  {
   "cell_type": "code",
   "execution_count": 150,
   "id": "df926622-97d5-48d2-8306-3ce05357bfc3",
   "metadata": {},
   "outputs": [
    {
     "data": {
      "text/plain": [
       "1    8979\n",
       "0    4005\n",
       "Name: subreddit, dtype: int64"
      ]
     },
     "execution_count": 150,
     "metadata": {},
     "output_type": "execute_result"
    }
   ],
   "source": [
    "#Binarize Subreddit column with ultralight = 1 and camping = 0\n",
    "df['subreddit'] = df['subreddit'].replace({'Ultralight': 1, 'camping': 0})\n",
    "df.subreddit.value_counts()"
   ]
  },
  {
   "cell_type": "code",
   "execution_count": 151,
   "id": "23465990-cc48-4b06-b5d3-c36e8f21320b",
   "metadata": {
    "tags": []
   },
   "outputs": [
    {
     "data": {
      "text/plain": [
       "(12984, 5)"
      ]
     },
     "execution_count": 151,
     "metadata": {},
     "output_type": "execute_result"
    }
   ],
   "source": [
    "df.shape"
   ]
  },
  {
   "cell_type": "markdown",
   "id": "7d4338b2-b03e-4799-a7b7-52a96895c461",
   "metadata": {},
   "source": [
    "### Double-checking dataframe for any lingering issues"
   ]
  },
  {
   "cell_type": "code",
   "execution_count": 154,
   "id": "d1f9a95d-ca56-4c65-81a3-ebd825adc9a9",
   "metadata": {
    "tags": []
   },
   "outputs": [
    {
     "data": {
      "text/plain": [
       "Unnamed: 0     0\n",
       "created_utc    0\n",
       "title          0\n",
       "self_text      0\n",
       "subreddit      0\n",
       "dtype: int64"
      ]
     },
     "execution_count": 154,
     "metadata": {},
     "output_type": "execute_result"
    }
   ],
   "source": [
    "df.isna().sum()"
   ]
  },
  {
   "cell_type": "code",
   "execution_count": 155,
   "id": "16db4cd4-1b50-47eb-9d86-d5cae9a0a35e",
   "metadata": {
    "tags": []
   },
   "outputs": [
    {
     "data": {
      "text/plain": [
       "Unnamed: 0       int64\n",
       "created_utc    float64\n",
       "title           object\n",
       "self_text       object\n",
       "subreddit        int64\n",
       "dtype: object"
      ]
     },
     "execution_count": 155,
     "metadata": {},
     "output_type": "execute_result"
    }
   ],
   "source": [
    "df.dtypes"
   ]
  },
  {
   "cell_type": "markdown",
   "id": "6f479fef-c280-45cc-9729-320fba391efb",
   "metadata": {},
   "source": [
    "### Dropping unecessary Unnamed column"
   ]
  },
  {
   "cell_type": "code",
   "execution_count": null,
   "id": "254fe9bf-4923-49f4-bd1f-9da6fc9bf2e0",
   "metadata": {},
   "outputs": [],
   "source": [
    "df.drop(columns=['Unnamed: 0']"
   ]
  },
  {
   "cell_type": "markdown",
   "id": "3d5e4860-7f8b-4cad-a500-166619cdf32b",
   "metadata": {},
   "source": [
    "# Exploratory Data Analysis"
   ]
  },
  {
   "cell_type": "markdown",
   "id": "1565186c-09d4-410a-ac31-ce9b40874c41",
   "metadata": {},
   "source": [
    "Goals:\n",
    "1. Learn more about the differences between the two subreddits\n",
    "    - post length\n",
    "    - top words\n",
    "    - average sentiment\n",
    "2. Examine any trends that may be helpful for modeling\n",
    "3. Identify any patterns or trends that may create difficulties for modeling\n",
    "4. "
   ]
  },
  {
   "cell_type": "code",
   "execution_count": 156,
   "id": "d21bef77-e0bf-432c-aeb9-c8a72ff9c00c",
   "metadata": {
    "tags": []
   },
   "outputs": [
    {
     "name": "stdout",
     "output_type": "stream",
     "text": [
      "Number of rows with more than 10 words in 'self_text': 12702\n"
     ]
    }
   ],
   "source": [
    "#Use a lambda function to create a word count column\n",
    "df['word_count'] = df['self_text'].apply(lambda x: len(str(x).split()))\n",
    "\n",
    "#How many rows do I have where self-text is at least 10 words long?\n",
    "count_greater_than_10 = len(df[df['word_count'] > 10])\n",
    "count_greater_than_10 = (df['word_count'] > 10).sum()\n",
    "print(\"Number of rows with more than 10 words in 'self_text':\", count_greater_than_10)"
   ]
  },
  {
   "cell_type": "code",
   "execution_count": 157,
   "id": "4302b4c5-e5fc-4a21-aae6-37a099eae276",
   "metadata": {
    "tags": []
   },
   "outputs": [
    {
     "data": {
      "text/html": [
       "<div>\n",
       "<style scoped>\n",
       "    .dataframe tbody tr th:only-of-type {\n",
       "        vertical-align: middle;\n",
       "    }\n",
       "\n",
       "    .dataframe tbody tr th {\n",
       "        vertical-align: top;\n",
       "    }\n",
       "\n",
       "    .dataframe thead th {\n",
       "        text-align: right;\n",
       "    }\n",
       "</style>\n",
       "<table border=\"1\" class=\"dataframe\">\n",
       "  <thead>\n",
       "    <tr style=\"text-align: right;\">\n",
       "      <th></th>\n",
       "      <th>Unnamed: 0</th>\n",
       "      <th>created_utc</th>\n",
       "      <th>title</th>\n",
       "      <th>self_text</th>\n",
       "      <th>subreddit</th>\n",
       "      <th>word_count</th>\n",
       "    </tr>\n",
       "  </thead>\n",
       "  <tbody>\n",
       "    <tr>\n",
       "      <th>1</th>\n",
       "      <td>1</td>\n",
       "      <td>1.697501e+09</td>\n",
       "      <td>Car camping recommendations in the GA/NC/TN area?</td>\n",
       "      <td>Hi there! Looking for solid car camping recomm...</td>\n",
       "      <td>0</td>\n",
       "      <td>30</td>\n",
       "    </tr>\n",
       "    <tr>\n",
       "      <th>2</th>\n",
       "      <td>2</td>\n",
       "      <td>1.697499e+09</td>\n",
       "      <td>Oceano Dunes, CA</td>\n",
       "      <td>Annual trip with friends &amp; family. Always an e...</td>\n",
       "      <td>0</td>\n",
       "      <td>10</td>\n",
       "    </tr>\n",
       "    <tr>\n",
       "      <th>3</th>\n",
       "      <td>3</td>\n",
       "      <td>1.697498e+09</td>\n",
       "      <td>Fort pickens, Fl</td>\n",
       "      <td>Picks from this past weekend. Would recommend ...</td>\n",
       "      <td>0</td>\n",
       "      <td>10</td>\n",
       "    </tr>\n",
       "    <tr>\n",
       "      <th>4</th>\n",
       "      <td>4</td>\n",
       "      <td>1.697498e+09</td>\n",
       "      <td>Camping groups</td>\n",
       "      <td>Are there camping groups out there, that someo...</td>\n",
       "      <td>0</td>\n",
       "      <td>276</td>\n",
       "    </tr>\n",
       "    <tr>\n",
       "      <th>5</th>\n",
       "      <td>5</td>\n",
       "      <td>1.697497e+09</td>\n",
       "      <td>Camping in North Carolina</td>\n",
       "      <td>Where do you like to camp in NC? Is there any ...</td>\n",
       "      <td>0</td>\n",
       "      <td>14</td>\n",
       "    </tr>\n",
       "  </tbody>\n",
       "</table>\n",
       "</div>"
      ],
      "text/plain": [
       "   Unnamed: 0   created_utc  \\\n",
       "1           1  1.697501e+09   \n",
       "2           2  1.697499e+09   \n",
       "3           3  1.697498e+09   \n",
       "4           4  1.697498e+09   \n",
       "5           5  1.697497e+09   \n",
       "\n",
       "                                               title  \\\n",
       "1  Car camping recommendations in the GA/NC/TN area?   \n",
       "2                                   Oceano Dunes, CA   \n",
       "3                                   Fort pickens, Fl   \n",
       "4                                     Camping groups   \n",
       "5                          Camping in North Carolina   \n",
       "\n",
       "                                           self_text  subreddit  word_count  \n",
       "1  Hi there! Looking for solid car camping recomm...          0          30  \n",
       "2  Annual trip with friends & family. Always an e...          0          10  \n",
       "3  Picks from this past weekend. Would recommend ...          0          10  \n",
       "4  Are there camping groups out there, that someo...          0         276  \n",
       "5  Where do you like to camp in NC? Is there any ...          0          14  "
      ]
     },
     "execution_count": 157,
     "metadata": {},
     "output_type": "execute_result"
    }
   ],
   "source": [
    "df.head()"
   ]
  },
  {
   "cell_type": "markdown",
   "id": "ee9a0ea2-8256-4c75-964f-808261cb013c",
   "metadata": {},
   "source": [
    "### Sentiment Analysis\n",
    "\n",
    "How does the average sentiment of each subreddit differ if at all?"
   ]
  },
  {
   "cell_type": "code",
   "execution_count": 158,
   "id": "5b02012a-6602-476a-8ebe-7a53d753cdb0",
   "metadata": {},
   "outputs": [],
   "source": [
    "# Instantiate Sentiment Intensity Analyzer\n",
    "sa = SentimentIntensityAnalyzer()\n",
    "\n",
    "df['self_text'].fillna('', inplace=True)\n",
    "\n",
    "# Apply sentiment analysis to each row in the DataFrame\n",
    "df['sentiment'] = df['self_text'].apply(lambda x: sa.polarity_scores(x))"
   ]
  },
  {
   "cell_type": "code",
   "execution_count": 159,
   "id": "d1372099-d35b-48db-baba-f2d4d01d3741",
   "metadata": {
    "tags": []
   },
   "outputs": [],
   "source": [
    "df['vader_score'] = df['self_text'].apply(lambda x: sa.polarity_scores(x)['compound'])"
   ]
  },
  {
   "cell_type": "code",
   "execution_count": 160,
   "id": "3ef6b9dc-fc6b-4987-94df-1f224fbc86d3",
   "metadata": {
    "tags": []
   },
   "outputs": [
    {
     "data": {
      "text/html": [
       "<div>\n",
       "<style scoped>\n",
       "    .dataframe tbody tr th:only-of-type {\n",
       "        vertical-align: middle;\n",
       "    }\n",
       "\n",
       "    .dataframe tbody tr th {\n",
       "        vertical-align: top;\n",
       "    }\n",
       "\n",
       "    .dataframe thead th {\n",
       "        text-align: right;\n",
       "    }\n",
       "</style>\n",
       "<table border=\"1\" class=\"dataframe\">\n",
       "  <thead>\n",
       "    <tr style=\"text-align: right;\">\n",
       "      <th></th>\n",
       "      <th>Unnamed: 0</th>\n",
       "      <th>created_utc</th>\n",
       "      <th>title</th>\n",
       "      <th>self_text</th>\n",
       "      <th>subreddit</th>\n",
       "      <th>word_count</th>\n",
       "      <th>sentiment</th>\n",
       "      <th>vader_score</th>\n",
       "    </tr>\n",
       "  </thead>\n",
       "  <tbody>\n",
       "    <tr>\n",
       "      <th>1</th>\n",
       "      <td>1</td>\n",
       "      <td>1.697501e+09</td>\n",
       "      <td>Car camping recommendations in the GA/NC/TN area?</td>\n",
       "      <td>Hi there! Looking for solid car camping recomm...</td>\n",
       "      <td>0</td>\n",
       "      <td>30</td>\n",
       "      <td>{'neg': 0.0, 'neu': 0.935, 'pos': 0.065, 'comp...</td>\n",
       "      <td>0.2244</td>\n",
       "    </tr>\n",
       "    <tr>\n",
       "      <th>2</th>\n",
       "      <td>2</td>\n",
       "      <td>1.697499e+09</td>\n",
       "      <td>Oceano Dunes, CA</td>\n",
       "      <td>Annual trip with friends &amp; family. Always an e...</td>\n",
       "      <td>0</td>\n",
       "      <td>10</td>\n",
       "      <td>{'neg': 0.0, 'neu': 0.721, 'pos': 0.279, 'comp...</td>\n",
       "      <td>0.4767</td>\n",
       "    </tr>\n",
       "    <tr>\n",
       "      <th>3</th>\n",
       "      <td>3</td>\n",
       "      <td>1.697498e+09</td>\n",
       "      <td>Fort pickens, Fl</td>\n",
       "      <td>Picks from this past weekend. Would recommend ...</td>\n",
       "      <td>0</td>\n",
       "      <td>10</td>\n",
       "      <td>{'neg': 0.0, 'neu': 0.576, 'pos': 0.424, 'comp...</td>\n",
       "      <td>0.7096</td>\n",
       "    </tr>\n",
       "    <tr>\n",
       "      <th>4</th>\n",
       "      <td>4</td>\n",
       "      <td>1.697498e+09</td>\n",
       "      <td>Camping groups</td>\n",
       "      <td>Are there camping groups out there, that someo...</td>\n",
       "      <td>0</td>\n",
       "      <td>276</td>\n",
       "      <td>{'neg': 0.07, 'neu': 0.855, 'pos': 0.075, 'com...</td>\n",
       "      <td>0.3604</td>\n",
       "    </tr>\n",
       "    <tr>\n",
       "      <th>5</th>\n",
       "      <td>5</td>\n",
       "      <td>1.697497e+09</td>\n",
       "      <td>Camping in North Carolina</td>\n",
       "      <td>Where do you like to camp in NC? Is there any ...</td>\n",
       "      <td>0</td>\n",
       "      <td>14</td>\n",
       "      <td>{'neg': 0.0, 'neu': 0.599, 'pos': 0.401, 'comp...</td>\n",
       "      <td>0.8105</td>\n",
       "    </tr>\n",
       "  </tbody>\n",
       "</table>\n",
       "</div>"
      ],
      "text/plain": [
       "   Unnamed: 0   created_utc  \\\n",
       "1           1  1.697501e+09   \n",
       "2           2  1.697499e+09   \n",
       "3           3  1.697498e+09   \n",
       "4           4  1.697498e+09   \n",
       "5           5  1.697497e+09   \n",
       "\n",
       "                                               title  \\\n",
       "1  Car camping recommendations in the GA/NC/TN area?   \n",
       "2                                   Oceano Dunes, CA   \n",
       "3                                   Fort pickens, Fl   \n",
       "4                                     Camping groups   \n",
       "5                          Camping in North Carolina   \n",
       "\n",
       "                                           self_text  subreddit  word_count  \\\n",
       "1  Hi there! Looking for solid car camping recomm...          0          30   \n",
       "2  Annual trip with friends & family. Always an e...          0          10   \n",
       "3  Picks from this past weekend. Would recommend ...          0          10   \n",
       "4  Are there camping groups out there, that someo...          0         276   \n",
       "5  Where do you like to camp in NC? Is there any ...          0          14   \n",
       "\n",
       "                                           sentiment  vader_score  \n",
       "1  {'neg': 0.0, 'neu': 0.935, 'pos': 0.065, 'comp...       0.2244  \n",
       "2  {'neg': 0.0, 'neu': 0.721, 'pos': 0.279, 'comp...       0.4767  \n",
       "3  {'neg': 0.0, 'neu': 0.576, 'pos': 0.424, 'comp...       0.7096  \n",
       "4  {'neg': 0.07, 'neu': 0.855, 'pos': 0.075, 'com...       0.3604  \n",
       "5  {'neg': 0.0, 'neu': 0.599, 'pos': 0.401, 'comp...       0.8105  "
      ]
     },
     "execution_count": 160,
     "metadata": {},
     "output_type": "execute_result"
    }
   ],
   "source": [
    "df.head()"
   ]
  },
  {
   "cell_type": "code",
   "execution_count": 161,
   "id": "c8190bf8-ea7e-418b-8323-44f64b791476",
   "metadata": {
    "tags": []
   },
   "outputs": [],
   "source": [
    "#Createa a column for the word count of the title\n",
    "df['word_count_title'] = df['title'].apply(lambda x: len(str(x).split()))"
   ]
  },
  {
   "cell_type": "code",
   "execution_count": 162,
   "id": "ca394ce4-a45b-4cdb-96cb-d451a3b591d0",
   "metadata": {
    "tags": []
   },
   "outputs": [],
   "source": [
    "#Save a dataset with all missing values dropped\n",
    "df.to_csv('data/combined_dataset_no_missings.csv')"
   ]
  },
  {
   "cell_type": "markdown",
   "id": "495a282f-667d-4e16-ab9f-8596d43ec323",
   "metadata": {},
   "source": [
    "Is a post with less than 10 words valuable to train the model? I will save 1 dataframe with only the empty/ missing posts dropped and another dataframe with any short posts (defined as less than 10 words long) dropped."
   ]
  },
  {
   "cell_type": "code",
   "execution_count": 163,
   "id": "ac4d8e56-c22e-44de-a6cd-fa1a70d4fdf0",
   "metadata": {},
   "outputs": [],
   "source": [
    "#Save a dataset with all 'short' statuses dropped\n",
    "df = df[df['word_count'] >= 10]\n",
    "df.to_csv('data/combined_dataset_no_short_posts.csv')"
   ]
  },
  {
   "cell_type": "code",
   "execution_count": 164,
   "id": "4ab912cf-ba91-4ef8-bdb5-9b1eebd6e38a",
   "metadata": {
    "tags": []
   },
   "outputs": [
    {
     "name": "stderr",
     "output_type": "stream",
     "text": [
      "C:\\Users\\kaitl\\AppData\\Local\\Temp\\ipykernel_14448\\3777903337.py:1: FutureWarning: Indexing with multiple keys (implicitly converted to a tuple of keys) will be deprecated, use a list instead.\n",
      "  df.groupby('subreddit')['word_count', 'vader_score', 'word_count_title'].mean()\n"
     ]
    },
    {
     "data": {
      "text/html": [
       "<div>\n",
       "<style scoped>\n",
       "    .dataframe tbody tr th:only-of-type {\n",
       "        vertical-align: middle;\n",
       "    }\n",
       "\n",
       "    .dataframe tbody tr th {\n",
       "        vertical-align: top;\n",
       "    }\n",
       "\n",
       "    .dataframe thead th {\n",
       "        text-align: right;\n",
       "    }\n",
       "</style>\n",
       "<table border=\"1\" class=\"dataframe\">\n",
       "  <thead>\n",
       "    <tr style=\"text-align: right;\">\n",
       "      <th></th>\n",
       "      <th>word_count</th>\n",
       "      <th>vader_score</th>\n",
       "      <th>word_count_title</th>\n",
       "    </tr>\n",
       "    <tr>\n",
       "      <th>subreddit</th>\n",
       "      <th></th>\n",
       "      <th></th>\n",
       "      <th></th>\n",
       "    </tr>\n",
       "  </thead>\n",
       "  <tbody>\n",
       "    <tr>\n",
       "      <th>0</th>\n",
       "      <td>92.477362</td>\n",
       "      <td>0.490590</td>\n",
       "      <td>6.861293</td>\n",
       "    </tr>\n",
       "    <tr>\n",
       "      <th>1</th>\n",
       "      <td>281.466950</td>\n",
       "      <td>0.627803</td>\n",
       "      <td>7.989581</td>\n",
       "    </tr>\n",
       "  </tbody>\n",
       "</table>\n",
       "</div>"
      ],
      "text/plain": [
       "           word_count  vader_score  word_count_title\n",
       "subreddit                                           \n",
       "0           92.477362     0.490590          6.861293\n",
       "1          281.466950     0.627803          7.989581"
      ]
     },
     "execution_count": 164,
     "metadata": {},
     "output_type": "execute_result"
    }
   ],
   "source": [
    "df.groupby('subreddit')['word_count', 'vader_score', 'word_count_title'].mean()"
   ]
  },
  {
   "cell_type": "markdown",
   "id": "3241bc6d-b419-46fe-adc3-ac22324e0cb4",
   "metadata": {},
   "source": [
    "# Data Observations\n",
    "\n",
    "1. Posts in the Ultralight subreddit are more positive on average than posts in the camping subreddit \n",
    "2. Posts in the Ultralight subreddit are longer than posts in the camping subreddit\n",
    "\n",
    "\n",
    "#### Implication for Machine Learning:\n",
    "\n",
    "1. The model will be trained on a larger quantity of 'ultralight' vs 'camping' language which could lead to bias\n",
    "2. The culture of the subreddits may be different and not indicative of the larger populations- everyone who is an ultralight backpacker and everyone who camps. The significant difference in sentiment can be due to differences in moderation between the subreddits, rules for posting etc. "
   ]
  },
  {
   "cell_type": "code",
   "execution_count": 165,
   "id": "0999db2c-f2db-4c7f-a021-a2ae327b8caf",
   "metadata": {
    "tags": []
   },
   "outputs": [],
   "source": [
    "ultra = df[df['subreddit']==1]"
   ]
  },
  {
   "cell_type": "code",
   "execution_count": 166,
   "id": "02a0a526-b2fb-430f-8586-689963e08975",
   "metadata": {
    "tags": []
   },
   "outputs": [
    {
     "data": {
      "text/plain": [
       "matrix([[0, 0, 0, ..., 0, 0, 0],\n",
       "        [0, 0, 0, ..., 0, 0, 0],\n",
       "        [0, 0, 0, ..., 0, 0, 0],\n",
       "        ...,\n",
       "        [0, 0, 0, ..., 0, 0, 0],\n",
       "        [0, 0, 0, ..., 0, 0, 0],\n",
       "        [0, 0, 0, ..., 0, 0, 0]], dtype=int64)"
      ]
     },
     "execution_count": 166,
     "metadata": {},
     "output_type": "execute_result"
    }
   ],
   "source": [
    "# Using a CountVectorizer for EDA\n",
    "\n",
    "X = ultra['self_text']\n",
    "y = ultra['subreddit']\n",
    "\n",
    "cvec = CountVectorizer(stop_words='english')\n",
    "X = cvec.fit_transform(X)\n",
    "X.todense()"
   ]
  },
  {
   "cell_type": "code",
   "execution_count": 167,
   "id": "e86669e7-4450-4177-a0ee-82bf75ac39a2",
   "metadata": {
    "tags": []
   },
   "outputs": [
    {
     "data": {
      "text/plain": [
       "array(['00', '000', '0001', ..., 'östgötaleden', 'оnе', 'расk'],\n",
       "      dtype=object)"
      ]
     },
     "execution_count": 167,
     "metadata": {},
     "output_type": "execute_result"
    }
   ],
   "source": [
    "cvec.get_feature_names_out()"
   ]
  },
  {
   "cell_type": "code",
   "execution_count": 168,
   "id": "6e5ea777-9036-4420-b545-bb788fea4e2f",
   "metadata": {
    "tags": []
   },
   "outputs": [],
   "source": [
    "X_df = pd.DataFrame(X.todense(), columns = cvec.get_feature_names_out())"
   ]
  },
  {
   "cell_type": "code",
   "execution_count": 169,
   "id": "9b759207-5bc4-47cd-a958-2e88427f40bc",
   "metadata": {
    "tags": []
   },
   "outputs": [
    {
     "data": {
      "text/plain": [
       "(8926, 27012)"
      ]
     },
     "execution_count": 169,
     "metadata": {},
     "output_type": "execute_result"
    }
   ],
   "source": [
    "X_df.shape"
   ]
  },
  {
   "cell_type": "code",
   "execution_count": 170,
   "id": "58e8b563-6e55-4b4b-857c-0d9468130b9b",
   "metadata": {},
   "outputs": [
    {
     "data": {
      "text/plain": [
       "8926"
      ]
     },
     "execution_count": 170,
     "metadata": {},
     "output_type": "execute_result"
    }
   ],
   "source": [
    "len(df[df['subreddit']==1])"
   ]
  },
  {
   "cell_type": "code",
   "execution_count": 171,
   "id": "a6c29c97-5ef5-4ea8-ac1d-bb9152a627c4",
   "metadata": {
    "tags": []
   },
   "outputs": [
    {
     "data": {
      "text/plain": [
       "<Axes: >"
      ]
     },
     "execution_count": 171,
     "metadata": {},
     "output_type": "execute_result"
    },
    {
     "data": {
      "image/png": "[encoded data removed]",
      "text/plain": [
       "<Figure size 640x480 with 1 Axes>"
      ]
     },
     "metadata": {},
     "output_type": "display_data"
    }
   ],
   "source": [
    "# plot top 25 words for each subreddit\n",
    "X_df.sum().sort_values(ascending=False).head(25).plot(kind='barh')"
   ]
  },
  {
   "cell_type": "code",
   "execution_count": 172,
   "id": "c3d30487-3ccd-40c2-8260-0ec527052500",
   "metadata": {},
   "outputs": [],
   "source": [
    "# Do I need to remove statuses with links? Or can I just remove the links from the statuses?\n",
    "# Would there be any benefit from leaving them in?"
   ]
  },
  {
   "cell_type": "code",
   "execution_count": 173,
   "id": "c9d04dbe-6257-456b-b4e2-f921fb76bedd",
   "metadata": {
    "tags": []
   },
   "outputs": [],
   "source": [
    "camp=df[df['subreddit']==0]"
   ]
  },
  {
   "cell_type": "code",
   "execution_count": 174,
   "id": "1dcc026e-8396-4402-a4cd-c89933c68067",
   "metadata": {
    "tags": []
   },
   "outputs": [
    {
     "data": {
      "text/plain": [
       "matrix([[0, 0, 0, ..., 0, 0, 0],\n",
       "        [0, 0, 0, ..., 0, 0, 0],\n",
       "        [0, 0, 0, ..., 0, 0, 0],\n",
       "        ...,\n",
       "        [0, 0, 0, ..., 0, 0, 0],\n",
       "        [0, 0, 0, ..., 0, 0, 0],\n",
       "        [0, 0, 0, ..., 0, 0, 0]], dtype=int64)"
      ]
     },
     "execution_count": 174,
     "metadata": {},
     "output_type": "execute_result"
    }
   ],
   "source": [
    "#Do I want to add pre-processing to my count-vectorizer such as lemmatizer or tokenizer?\n",
    "\n",
    "X = camp['self_text']\n",
    "y = camp['subreddit']\n",
    "\n",
    "cvec = CountVectorizer(stop_words='english')\n",
    "X = cvec.fit_transform(X)\n",
    "X.todense()"
   ]
  },
  {
   "cell_type": "code",
   "execution_count": 175,
   "id": "2618841f-5932-4b71-a4c0-e65eda48e749",
   "metadata": {
    "tags": []
   },
   "outputs": [],
   "source": [
    "X_df = pd.DataFrame(X.todense(), columns = cvec.get_feature_names_out())"
   ]
  },
  {
   "cell_type": "code",
   "execution_count": 176,
   "id": "55afc4bd-8b40-4efc-9aee-2955167fa150",
   "metadata": {
    "tags": []
   },
   "outputs": [
    {
     "data": {
      "text/plain": [
       "<Axes: >"
      ]
     },
     "execution_count": 176,
     "metadata": {},
     "output_type": "execute_result"
    },
    {
     "data": {
      "image/png": "[encoded data removed]",
      "text/plain": [
       "<Figure size 640x480 with 1 Axes>"
      ]
     },
     "metadata": {},
     "output_type": "display_data"
    }
   ],
   "source": [
    "# plot top 25 words for each subreddit\n",
    "X_df.sum().sort_values(ascending=False).head(25).plot(kind='barh')"
   ]
  },
  {
   "cell_type": "markdown",
   "id": "9873f6ec-d79b-4895-8c5a-3beda8c7eff6",
   "metadata": {},
   "source": [
    "When examining the top 25 words from each subreddit, as expected there is some overlap between the two. Words such as tent, gear, trip, and time appear frequently in posts in both subreddits. Some of the biggest differences seem to be the frequency of words such as camp and camping vs hike and hiking. I expect that while there will be considerable overlap (in that most words used in one subreddit will also be used in the other) the frequencies of some words will vary greatly. "
   ]
  },
  {
   "cell_type": "code",
   "execution_count": null,
   "id": "f15970c5-456f-4f3c-98a5-16bfd195e08e",
   "metadata": {},
   "outputs": [],
   "source": []
  }
 ],
 "metadata": {
  "kernelspec": {
   "display_name": "Python 3 (ipykernel)",
   "language": "python",
   "name": "python3"
  },
  "language_info": {
   "codemirror_mode": {
    "name": "ipython",
    "version": 3
   },
   "file_extension": ".py",
   "mimetype": "text/x-python",
   "name": "python",
   "nbconvert_exporter": "python",
   "pygments_lexer": "ipython3",
   "version": "3.11.4"
  }
 },
 "nbformat": 4,
 "nbformat_minor": 5
}
