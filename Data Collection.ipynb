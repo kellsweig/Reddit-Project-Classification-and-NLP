{
 "cells": [
  {
   "cell_type": "markdown",
   "id": "b94342c5-70a5-4cb7-9946-b977db2aeb73",
   "metadata": {},
   "source": [
    "# Data Collection Process"
   ]
  },
  {
   "cell_type": "code",
   "execution_count": 1,
   "id": "92605211-4d73-4f11-94f7-ee840cc8f3f6",
   "metadata": {
    "tags": []
   },
   "outputs": [],
   "source": [
    "import praw\n",
    "import pandas as pd"
   ]
  },
  {
   "cell_type": "markdown",
   "id": "516b4a07-270e-4216-b36e-c905aa61044a",
   "metadata": {},
   "source": [
    "I created a developer project on Reddit to obtain credentials to make requests from the Reddit API. I used PRAW- the Python Reddit API Wrapper- to make requests and pull data."
   ]
  },
  {
   "cell_type": "code",
   "execution_count": 2,
   "id": "db62cf52-aa47-4c7c-85a0-81a72b165fbc",
   "metadata": {
    "tags": []
   },
   "outputs": [
    {
     "data": {
      "text/plain": [
       "['k0w98OlsD1oZb8vySUtYODw4ovm_MQ']"
      ]
     },
     "execution_count": 2,
     "metadata": {},
     "output_type": "execute_result"
    }
   ],
   "source": [
    "#Accessing client secret from untracked text file\n",
    "var = open('credentials.txt').readlines()\n",
    "var"
   ]
  },
  {
   "cell_type": "code",
   "execution_count": 3,
   "id": "fdc9e8c7-d91d-4d34-955a-335f1c8c276e",
   "metadata": {
    "tags": []
   },
   "outputs": [],
   "source": [
    "reddit = praw.Reddit(\n",
    "    client_id='AVV_s0cMo6_Zb6YLG7PIsg',\n",
    "    client_secret = var[0],\n",
    "    user_agent='project by u/iamnotthethrowaway',\n",
    "    username='iamnotthethrowaway'\n",
    ")"
   ]
  },
  {
   "cell_type": "markdown",
   "id": "183b6ede-a003-4c05-9613-de1a87afe4b4",
   "metadata": {},
   "source": [
    "Reddit's API limits the number of posts that can be pulled during 1 request as well as the quantity of information that can be pulled daily. I ran this code daily over the course of multiple days to obtain enough data to train my model. I changed the number tag at the end of the csv name each time I ran the code in order to have raw data files from different days."
   ]
  },
  {
   "cell_type": "code",
   "execution_count": null,
   "id": "32e9b4e4-639f-44cb-a0b3-cc11efafaad7",
   "metadata": {},
   "outputs": [],
   "source": []
  },
  {
   "cell_type": "code",
   "execution_count": 6,
   "id": "d755e511-6248-47a7-95aa-ae7863ce13b9",
   "metadata": {},
   "outputs": [],
   "source": [
    "# First subreddit r/Ultralight\n",
    "subreddit = reddit.subreddit('Ultralight')"
   ]
  },
  {
   "cell_type": "code",
   "execution_count": null,
   "id": "aaa5c4f2-b134-436c-9381-dd930e2e2087",
   "metadata": {},
   "outputs": [],
   "source": [
    "# Adjust the limit as needed -- Note that this will grab the 1000 most recent posts\n",
    "posts = subreddit.top(limit = 1000)"
   ]
  },
  {
   "cell_type": "code",
   "execution_count": 4,
   "id": "271e4093-4b3e-431d-a883-bf4fe0484c57",
   "metadata": {},
   "outputs": [],
   "source": [
    "data = []"
   ]
  },
  {
   "cell_type": "code",
   "execution_count": null,
   "id": "b81d73cd-ba34-4f99-8560-8265fa53b134",
   "metadata": {},
   "outputs": [],
   "source": [
    "for post in posts:\n",
    "    data.append([post.created_utc, post.title, post.selftext, post.subreddit])\n",
    "\n",
    "subreddit = reddit.subreddit('Ultralight')"
   ]
  },
  {
   "cell_type": "code",
   "execution_count": 7,
   "id": "487224f5-932a-4690-ab9c-4907b3e9ead2",
   "metadata": {
    "tags": []
   },
   "outputs": [],
   "source": [
    "posts = subreddit.new(limit = 1000)\n",
    "\n",
    "for post in posts:\n",
    "    data.append([post.created_utc, post.title, post.selftext, post.subreddit])\n"
   ]
  },
  {
   "cell_type": "code",
   "execution_count": null,
   "id": "4309933d-3e01-43ba-aa72-0f8b28eb4501",
   "metadata": {},
   "outputs": [],
   "source": [
    "subreddit = reddit.subreddit('Ultralight')\n",
    "\n",
    "# Adjust the limit as needed -- Note that this will grab the 1000 most recent posts\n",
    "posts = subreddit.hot(limit = 1000)\n",
    "\n",
    "for post in posts:\n",
    "    data.append([post.created_utc, post.title, post.selftext, post.subreddit])"
   ]
  },
  {
   "cell_type": "code",
   "execution_count": 8,
   "id": "400f5859-bf91-4a46-920b-eaa050f500c7",
   "metadata": {},
   "outputs": [
    {
     "data": {
      "text/html": [
       "<div>\n",
       "<style scoped>\n",
       "    .dataframe tbody tr th:only-of-type {\n",
       "        vertical-align: middle;\n",
       "    }\n",
       "\n",
       "    .dataframe tbody tr th {\n",
       "        vertical-align: top;\n",
       "    }\n",
       "\n",
       "    .dataframe thead th {\n",
       "        text-align: right;\n",
       "    }\n",
       "</style>\n",
       "<table border=\"1\" class=\"dataframe\">\n",
       "  <thead>\n",
       "    <tr style=\"text-align: right;\">\n",
       "      <th></th>\n",
       "      <th>created_utc</th>\n",
       "      <th>title</th>\n",
       "      <th>self_text</th>\n",
       "      <th>subreddit</th>\n",
       "    </tr>\n",
       "  </thead>\n",
       "  <tbody>\n",
       "    <tr>\n",
       "      <th>0</th>\n",
       "      <td>1.697803e+09</td>\n",
       "      <td>PCT Fastback Recs?</td>\n",
       "      <td>\\nAnyone have recommendations for a thru-hike ...</td>\n",
       "      <td>Ultralight</td>\n",
       "    </tr>\n",
       "    <tr>\n",
       "      <th>1</th>\n",
       "      <td>1.697785e+09</td>\n",
       "      <td>Gear review &amp; shakedown for Patagonia W-trek</td>\n",
       "      <td>Hi all, \\n\\nI am going to Patagonia W-trek for...</td>\n",
       "      <td>Ultralight</td>\n",
       "    </tr>\n",
       "    <tr>\n",
       "      <th>2</th>\n",
       "      <td>1.697755e+09</td>\n",
       "      <td>Diorite pole regret</td>\n",
       "      <td>I was foolish. I didn't do a lot of research b...</td>\n",
       "      <td>Ultralight</td>\n",
       "    </tr>\n",
       "    <tr>\n",
       "      <th>3</th>\n",
       "      <td>1.697745e+09</td>\n",
       "      <td>Trail runner shoes for narrow feet</td>\n",
       "      <td>The last hike I used the Brooks Cascadia, at t...</td>\n",
       "      <td>Ultralight</td>\n",
       "    </tr>\n",
       "    <tr>\n",
       "      <th>4</th>\n",
       "      <td>1.697736e+09</td>\n",
       "      <td>Critique needed! BW 14lbs</td>\n",
       "      <td>Hi hi! I’m working on cutting weight, need som...</td>\n",
       "      <td>Ultralight</td>\n",
       "    </tr>\n",
       "  </tbody>\n",
       "</table>\n",
       "</div>"
      ],
      "text/plain": [
       "    created_utc                                         title  \\\n",
       "0  1.697803e+09                            PCT Fastback Recs?   \n",
       "1  1.697785e+09  Gear review & shakedown for Patagonia W-trek   \n",
       "2  1.697755e+09                           Diorite pole regret   \n",
       "3  1.697745e+09            Trail runner shoes for narrow feet   \n",
       "4  1.697736e+09                     Critique needed! BW 14lbs   \n",
       "\n",
       "                                           self_text   subreddit  \n",
       "0  \\nAnyone have recommendations for a thru-hike ...  Ultralight  \n",
       "1  Hi all, \\n\\nI am going to Patagonia W-trek for...  Ultralight  \n",
       "2  I was foolish. I didn't do a lot of research b...  Ultralight  \n",
       "3  The last hike I used the Brooks Cascadia, at t...  Ultralight  \n",
       "4  Hi hi! I’m working on cutting weight, need som...  Ultralight  "
      ]
     },
     "execution_count": 8,
     "metadata": {},
     "output_type": "execute_result"
    }
   ],
   "source": [
    "# Turn into a dataframe\n",
    "ultralight = pd.DataFrame(data, columns = ['created_utc', 'title', 'self_text', 'subreddit'])\n",
    "ultralight.head()"
   ]
  },
  {
   "cell_type": "code",
   "execution_count": 9,
   "id": "406cd4c1-9df4-4f1b-806a-ba6e13f69c77",
   "metadata": {},
   "outputs": [
    {
     "data": {
      "text/plain": [
       "(993, 4)"
      ]
     },
     "execution_count": 9,
     "metadata": {},
     "output_type": "execute_result"
    }
   ],
   "source": [
    "ultralight.shape"
   ]
  },
  {
   "cell_type": "code",
   "execution_count": 10,
   "id": "b9efe539-0d94-432c-abcf-aa886c5d1ea9",
   "metadata": {},
   "outputs": [
    {
     "data": {
      "text/plain": [
       "created_utc    993\n",
       "title          990\n",
       "self_text      975\n",
       "subreddit        1\n",
       "dtype: int64"
      ]
     },
     "execution_count": 10,
     "metadata": {},
     "output_type": "execute_result"
    }
   ],
   "source": [
    "ultralight.nunique()"
   ]
  },
  {
   "cell_type": "code",
   "execution_count": 11,
   "id": "9cd0f450-1820-444b-ae02-56c3adc97d50",
   "metadata": {},
   "outputs": [],
   "source": [
    "ultralight.to_csv('data/Ultralight/ultralight_test.csv')"
   ]
  },
  {
   "cell_type": "code",
   "execution_count": 10,
   "id": "2173f419-1a4c-402f-88c1-1b9f55df9fed",
   "metadata": {
    "tags": []
   },
   "outputs": [],
   "source": [
    "subreddit = reddit.subreddit('Camping')\n",
    "\n",
    "posts = subreddit.controversial(limit=5000)"
   ]
  },
  {
   "cell_type": "code",
   "execution_count": 12,
   "id": "a619ce57-2de2-42b4-b4e2-08f78ae3cbce",
   "metadata": {},
   "outputs": [],
   "source": [
    "data = []"
   ]
  },
  {
   "cell_type": "code",
   "execution_count": 11,
   "id": "d85083d9-f1fa-4506-bdfe-6181d0e40416",
   "metadata": {
    "tags": []
   },
   "outputs": [],
   "source": [
    "for post in posts:\n",
    "    data.append([post.created_utc, post.title, post.selftext, post.subreddit])"
   ]
  },
  {
   "cell_type": "code",
   "execution_count": 13,
   "id": "08155047-c26f-490b-ae20-10b3d2d99c25",
   "metadata": {
    "tags": []
   },
   "outputs": [],
   "source": [
    "subreddit = reddit.subreddit('Camping')\n",
    "#Using .new\n",
    "posts = subreddit.new(limit=1000)\n",
    "\n",
    "for post in posts:\n",
    "    data.append([post.created_utc, post.title, post.selftext, post.subreddit])"
   ]
  },
  {
   "cell_type": "code",
   "execution_count": 12,
   "id": "7b569615-24e2-4a9f-a102-68b9e3cb929a",
   "metadata": {},
   "outputs": [],
   "source": [
    "subreddit = reddit.subreddit('Camping')\n",
    "#.top\n",
    "posts = subreddit.top(limit=1000)\n",
    "\n",
    "for post in posts:\n",
    "    data.append([post.created_utc, post.title, post.selftext, post.subreddit])"
   ]
  },
  {
   "cell_type": "code",
   "execution_count": 13,
   "id": "fff8ba8d-9e06-4d5c-b20e-bedc8c708e6e",
   "metadata": {},
   "outputs": [],
   "source": [
    "subreddit = reddit.subreddit('Camping')\n",
    "#.hot\n",
    "posts = subreddit.hot(limit=1000)\n",
    "\n",
    "for post in posts:\n",
    "    data.append([post.created_utc, post.title, post.selftext, post.subreddit])"
   ]
  },
  {
   "cell_type": "code",
   "execution_count": 14,
   "id": "e128424c-596c-416d-91ac-f79a0cc0cfd9",
   "metadata": {
    "tags": []
   },
   "outputs": [
    {
     "data": {
      "text/plain": [
       "(939, 4)"
      ]
     },
     "execution_count": 14,
     "metadata": {},
     "output_type": "execute_result"
    }
   ],
   "source": [
    "camping = pd.DataFrame(data, columns = ['created_utc', 'title', 'self_text', 'subreddit'])\n",
    "camping.head()\n",
    "camping.shape"
   ]
  },
  {
   "cell_type": "code",
   "execution_count": 15,
   "id": "9ea2898e-b76d-4be0-a715-095fc98533e2",
   "metadata": {
    "tags": []
   },
   "outputs": [
    {
     "data": {
      "text/plain": [
       "created_utc    2845\n",
       "title          2834\n",
       "self_text      1216\n",
       "subreddit         1\n",
       "dtype: int64"
      ]
     },
     "execution_count": 15,
     "metadata": {},
     "output_type": "execute_result"
    }
   ],
   "source": [
    "camping.nunique()"
   ]
  },
  {
   "cell_type": "code",
   "execution_count": 16,
   "id": "436bc6ee-5516-41f2-b0df-5b1441b30e72",
   "metadata": {
    "tags": []
   },
   "outputs": [],
   "source": [
    "camping.drop_duplicates(inplace=True)"
   ]
  },
  {
   "cell_type": "code",
   "execution_count": 17,
   "id": "f725621a-fc2e-4da8-8fdd-fb6337d00511",
   "metadata": {
    "tags": []
   },
   "outputs": [
    {
     "data": {
      "text/plain": [
       "(2845, 4)"
      ]
     },
     "execution_count": 17,
     "metadata": {},
     "output_type": "execute_result"
    }
   ],
   "source": [
    "camping.shape"
   ]
  },
  {
   "cell_type": "code",
   "execution_count": 15,
   "id": "8abfdac7-808e-480e-9da7-bc3ea5573edc",
   "metadata": {
    "tags": []
   },
   "outputs": [],
   "source": [
    "camping.to_csv('data/camping_test.csv')"
   ]
  },
  {
   "cell_type": "code",
   "execution_count": null,
   "id": "2954f14e-8908-4fe3-8ec1-f6adbc563b43",
   "metadata": {},
   "outputs": [],
   "source": []
  }
 ],
 "metadata": {
  "kernelspec": {
   "display_name": "Python 3 (ipykernel)",
   "language": "python",
   "name": "python3"
  },
  "language_info": {
   "codemirror_mode": {
    "name": "ipython",
    "version": 3
   },
   "file_extension": ".py",
   "mimetype": "text/x-python",
   "name": "python",
   "nbconvert_exporter": "python",
   "pygments_lexer": "ipython3",
   "version": "3.11.4"
  }
 },
 "nbformat": 4,
 "nbformat_minor": 5
}
