{
 "cells": [
  {
   "cell_type": "markdown",
   "id": "f93117f1-fd51-4327-9739-19d12580801c",
   "metadata": {},
   "source": [
    "# **Model Development and Selection**"
   ]
  },
  {
   "cell_type": "code",
   "execution_count": 1,
   "id": "987ab157-da2f-419e-b8df-e649d9c4ef8e",
   "metadata": {},
   "outputs": [],
   "source": [
    "import pandas as pd\n",
    "import numpy as np\n",
    "import matplotlib.pyplot as plt\n",
    "\n",
    "from sklearn.model_selection import train_test_split, GridSearchCV, RandomizedSearchCV, KFold\n",
    "from sklearn.pipeline import Pipeline\n",
    "from sklearn.naive_bayes import MultinomialNB\n",
    "\n",
    "from nltk.sentiment.vader import SentimentIntensityAnalyzer\n",
    "from sklearn.metrics import confusion_matrix, ConfusionMatrixDisplay, f1_score\n",
    "\n",
    "from sklearn.feature_extraction.text import CountVectorizer, TfidfVectorizer\n",
    "from sklearn.preprocessing import StandardScaler\n",
    "\n",
    "from sklearn.linear_model import LogisticRegression\n",
    "from sklearn.neighbors import KNeighborsClassifier\n",
    "\n",
    "from sklearn.tree import DecisionTreeClassifier\n",
    "from sklearn.ensemble import AdaBoostClassifier, BaggingClassifier, VotingClassifier\n",
    "from sklearn.ensemble import RandomForestClassifier, ExtraTreesClassifier\n",
    "from sklearn.svm import LinearSVC, SVC"
   ]
  },
  {
   "cell_type": "markdown",
   "id": "57df6f3e-bdfe-4c99-8039-a9cf3e3f02e0",
   "metadata": {},
   "source": [
    "### Goals\n",
    "1. Build and fit multiple classification models\n",
    "2. Use GridSearch and Random Search to determine the best model parameters \n",
    "3. Compare metrics of each model to find the best model"
   ]
  },
  {
   "cell_type": "markdown",
   "id": "6d974355-7cf0-45f5-b3a4-d0d9d36c23a3",
   "metadata": {},
   "source": [
    "I will build and compare the following models:\n",
    "- Multinomial Naive Bayes\n",
    "- Bagging Classifier\n",
    "- Ada Boost Classifier\n",
    "- Random Forest Classifier\n",
    "- Extra Trees Classifier\n",
    "- SVM Classifier\n",
    "\n",
    "I will use a TF-IDF Vectorizer for pre-processing. The TF-IDF Vectorizer will split each post into individual words or tokens. The vectorizer creates a column for every word present in the dataset and the value of each column is the number of times that word or variable appears in the post. TF-IDF allows for multiple feature engineering/ pre-processing choices such as binarization and limitations on minimum frequency of words."
   ]
  },
  {
   "cell_type": "code",
   "execution_count": 2,
   "id": "ee3e8852-bfcc-4134-8bbd-6ec32c7f6bf2",
   "metadata": {
    "tags": []
   },
   "outputs": [],
   "source": [
    "#First I read in the data\n",
    "df = pd.read_csv('data/combined_dataset_no_short_posts.csv')"
   ]
  },
  {
   "cell_type": "code",
   "execution_count": 3,
   "id": "3e7af224-1514-414e-a3de-95151c878943",
   "metadata": {
    "tags": []
   },
   "outputs": [],
   "source": [
    "#I will be using the contents of the self-text (the posts) as my x-variable\n",
    "X = df['self_text']\n",
    "\n",
    "# I set y to be the subreddit which is the variable I am trying to predict\n",
    "y= df['subreddit']"
   ]
  },
  {
   "cell_type": "code",
   "execution_count": 4,
   "id": "63c4e8f2-c340-46c8-a3fb-d327110080cc",
   "metadata": {},
   "outputs": [
    {
     "data": {
      "text/plain": [
       "0.2997568055228681"
      ]
     },
     "execution_count": 4,
     "metadata": {},
     "output_type": "execute_result"
    }
   ],
   "source": [
    "# Calculate the baseline accuracy\n",
    "1 - y.mean()"
   ]
  },
  {
   "cell_type": "markdown",
   "id": "f2edeaa3-da21-4c91-a77d-94cd64b53876",
   "metadata": {},
   "source": [
    "The baseline accuracy is the proportion of my dataset that comes from the camping subreddit. If I were to guess that a poster comes from the ultralight subreddit, I would be correct about 70% of the time. This is a barometer for how successful the models are compared with guessing pased on proportion."
   ]
  },
  {
   "cell_type": "code",
   "execution_count": 4,
   "id": "1ea17ab6-643f-4923-8b09-fd75480b7137",
   "metadata": {
    "tags": []
   },
   "outputs": [],
   "source": [
    "# Split the data into the training and testing sets.\n",
    "X_train, X_test, y_train, y_test = train_test_split(X, y, random_state=42)"
   ]
  },
  {
   "cell_type": "markdown",
   "id": "bade5096-e9a0-4d2c-b0f9-a01b30eadeec",
   "metadata": {},
   "source": [
    "I use a train-test split to create a training dataset to train the model and a validation dataset or test dataset to determine the model's success with unknown data."
   ]
  },
  {
   "cell_type": "markdown",
   "id": "c244533d-cd55-4c89-b712-a2bbdd9d8f49",
   "metadata": {},
   "source": [
    "### Multinomial Naive Bayes"
   ]
  },
  {
   "cell_type": "code",
   "execution_count": 27,
   "id": "f8a55718-61d3-4d00-a03d-c072fa959873",
   "metadata": {
    "tags": []
   },
   "outputs": [],
   "source": [
    "pipe = Pipeline([\n",
    "    ('tvec', TfidfVectorizer()),\n",
    "    ('nb', MultinomialNB())\n",
    "])"
   ]
  },
  {
   "cell_type": "code",
   "execution_count": 28,
   "id": "501847d1-f60c-4125-9278-329afc1d4ab9",
   "metadata": {
    "tags": []
   },
   "outputs": [
    {
     "data": {
      "text/plain": [
       "{'memory': None,\n",
       " 'steps': [('tvec', TfidfVectorizer()), ('nb', MultinomialNB())],\n",
       " 'verbose': False,\n",
       " 'tvec': TfidfVectorizer(),\n",
       " 'nb': MultinomialNB(),\n",
       " 'tvec__analyzer': 'word',\n",
       " 'tvec__binary': False,\n",
       " 'tvec__decode_error': 'strict',\n",
       " 'tvec__dtype': numpy.float64,\n",
       " 'tvec__encoding': 'utf-8',\n",
       " 'tvec__input': 'content',\n",
       " 'tvec__lowercase': True,\n",
       " 'tvec__max_df': 1.0,\n",
       " 'tvec__max_features': None,\n",
       " 'tvec__min_df': 1,\n",
       " 'tvec__ngram_range': (1, 1),\n",
       " 'tvec__norm': 'l2',\n",
       " 'tvec__preprocessor': None,\n",
       " 'tvec__smooth_idf': True,\n",
       " 'tvec__stop_words': None,\n",
       " 'tvec__strip_accents': None,\n",
       " 'tvec__sublinear_tf': False,\n",
       " 'tvec__token_pattern': '(?u)\\\\b\\\\w\\\\w+\\\\b',\n",
       " 'tvec__tokenizer': None,\n",
       " 'tvec__use_idf': True,\n",
       " 'tvec__vocabulary': None,\n",
       " 'nb__alpha': 1.0,\n",
       " 'nb__class_prior': None,\n",
       " 'nb__fit_prior': True,\n",
       " 'nb__force_alpha': 'warn'}"
      ]
     },
     "execution_count": 28,
     "metadata": {},
     "output_type": "execute_result"
    }
   ],
   "source": [
    "pipe.get_params()"
   ]
  },
  {
   "cell_type": "code",
   "execution_count": 32,
   "id": "97a87191-d37b-41f3-b41c-9d4713d87fd9",
   "metadata": {},
   "outputs": [],
   "source": [
    "pgrid = {\n",
    "    'tvec__stop_words': [None, 'english'],\n",
    "    'tvec__min_df': [2, 3, 4],\n",
    "    'tvec__ngram_range': [(1,1), (1,2)],\n",
    "    'tvec__binary': [False, True]\n",
    "}\n",
    "\n",
    "gs = GridSearchCV(pipe, pgrid, cv=10, n_jobs=2)"
   ]
  },
  {
   "cell_type": "code",
   "execution_count": 33,
   "id": "e4fccb69-70a9-41aa-a34c-317c81c04895",
   "metadata": {},
   "outputs": [
    {
     "name": "stdout",
     "output_type": "stream",
     "text": [
      "CPU times: total: 2.66 s\n",
      "Wall time: 8min 56s\n"
     ]
    },
    {
     "data": {
      "text/html": [
       "<style>#sk-container-id-1 {color: black;}#sk-container-id-1 pre{padding: 0;}#sk-container-id-1 div.sk-toggleable {background-color: white;}#sk-container-id-1 label.sk-toggleable__label {cursor: pointer;display: block;width: 100%;margin-bottom: 0;padding: 0.3em;box-sizing: border-box;text-align: center;}#sk-container-id-1 label.sk-toggleable__label-arrow:before {content: \"▸\";float: left;margin-right: 0.25em;color: #696969;}#sk-container-id-1 label.sk-toggleable__label-arrow:hover:before {color: black;}#sk-container-id-1 div.sk-estimator:hover label.sk-toggleable__label-arrow:before {color: black;}#sk-container-id-1 div.sk-toggleable__content {max-height: 0;max-width: 0;overflow: hidden;text-align: left;background-color: #f0f8ff;}#sk-container-id-1 div.sk-toggleable__content pre {margin: 0.2em;color: black;border-radius: 0.25em;background-color: #f0f8ff;}#sk-container-id-1 input.sk-toggleable__control:checked~div.sk-toggleable__content {max-height: 200px;max-width: 100%;overflow: auto;}#sk-container-id-1 input.sk-toggleable__control:checked~label.sk-toggleable__label-arrow:before {content: \"▾\";}#sk-container-id-1 div.sk-estimator input.sk-toggleable__control:checked~label.sk-toggleable__label {background-color: #d4ebff;}#sk-container-id-1 div.sk-label input.sk-toggleable__control:checked~label.sk-toggleable__label {background-color: #d4ebff;}#sk-container-id-1 input.sk-hidden--visually {border: 0;clip: rect(1px 1px 1px 1px);clip: rect(1px, 1px, 1px, 1px);height: 1px;margin: -1px;overflow: hidden;padding: 0;position: absolute;width: 1px;}#sk-container-id-1 div.sk-estimator {font-family: monospace;background-color: #f0f8ff;border: 1px dotted black;border-radius: 0.25em;box-sizing: border-box;margin-bottom: 0.5em;}#sk-container-id-1 div.sk-estimator:hover {background-color: #d4ebff;}#sk-container-id-1 div.sk-parallel-item::after {content: \"\";width: 100%;border-bottom: 1px solid gray;flex-grow: 1;}#sk-container-id-1 div.sk-label:hover label.sk-toggleable__label {background-color: #d4ebff;}#sk-container-id-1 div.sk-serial::before {content: \"\";position: absolute;border-left: 1px solid gray;box-sizing: border-box;top: 0;bottom: 0;left: 50%;z-index: 0;}#sk-container-id-1 div.sk-serial {display: flex;flex-direction: column;align-items: center;background-color: white;padding-right: 0.2em;padding-left: 0.2em;position: relative;}#sk-container-id-1 div.sk-item {position: relative;z-index: 1;}#sk-container-id-1 div.sk-parallel {display: flex;align-items: stretch;justify-content: center;background-color: white;position: relative;}#sk-container-id-1 div.sk-item::before, #sk-container-id-1 div.sk-parallel-item::before {content: \"\";position: absolute;border-left: 1px solid gray;box-sizing: border-box;top: 0;bottom: 0;left: 50%;z-index: -1;}#sk-container-id-1 div.sk-parallel-item {display: flex;flex-direction: column;z-index: 1;position: relative;background-color: white;}#sk-container-id-1 div.sk-parallel-item:first-child::after {align-self: flex-end;width: 50%;}#sk-container-id-1 div.sk-parallel-item:last-child::after {align-self: flex-start;width: 50%;}#sk-container-id-1 div.sk-parallel-item:only-child::after {width: 0;}#sk-container-id-1 div.sk-dashed-wrapped {border: 1px dashed gray;margin: 0 0.4em 0.5em 0.4em;box-sizing: border-box;padding-bottom: 0.4em;background-color: white;}#sk-container-id-1 div.sk-label label {font-family: monospace;font-weight: bold;display: inline-block;line-height: 1.2em;}#sk-container-id-1 div.sk-label-container {text-align: center;}#sk-container-id-1 div.sk-container {/* jupyter's `normalize.less` sets `[hidden] { display: none; }` but bootstrap.min.css set `[hidden] { display: none !important; }` so we also need the `!important` here to be able to override the default hidden behavior on the sphinx rendered scikit-learn.org. See: https://github.com/scikit-learn/scikit-learn/issues/21755 */display: inline-block !important;position: relative;}#sk-container-id-1 div.sk-text-repr-fallback {display: none;}</style><div id=\"sk-container-id-1\" class=\"sk-top-container\"><div class=\"sk-text-repr-fallback\"><pre>GridSearchCV(cv=10,\n",
       "             estimator=Pipeline(steps=[(&#x27;tvec&#x27;, TfidfVectorizer()),\n",
       "                                       (&#x27;nb&#x27;, MultinomialNB())]),\n",
       "             n_jobs=2,\n",
       "             param_grid={&#x27;tvec__binary&#x27;: [False, True],\n",
       "                         &#x27;tvec__min_df&#x27;: [2, 3, 4],\n",
       "                         &#x27;tvec__ngram_range&#x27;: [(1, 1), (1, 2)],\n",
       "                         &#x27;tvec__stop_words&#x27;: [None, &#x27;english&#x27;]})</pre><b>In a Jupyter environment, please rerun this cell to show the HTML representation or trust the notebook. <br />On GitHub, the HTML representation is unable to render, please try loading this page with nbviewer.org.</b></div><div class=\"sk-container\" hidden><div class=\"sk-item sk-dashed-wrapped\"><div class=\"sk-label-container\"><div class=\"sk-label sk-toggleable\"><input class=\"sk-toggleable__control sk-hidden--visually\" id=\"sk-estimator-id-1\" type=\"checkbox\" ><label for=\"sk-estimator-id-1\" class=\"sk-toggleable__label sk-toggleable__label-arrow\">GridSearchCV</label><div class=\"sk-toggleable__content\"><pre>GridSearchCV(cv=10,\n",
       "             estimator=Pipeline(steps=[(&#x27;tvec&#x27;, TfidfVectorizer()),\n",
       "                                       (&#x27;nb&#x27;, MultinomialNB())]),\n",
       "             n_jobs=2,\n",
       "             param_grid={&#x27;tvec__binary&#x27;: [False, True],\n",
       "                         &#x27;tvec__min_df&#x27;: [2, 3, 4],\n",
       "                         &#x27;tvec__ngram_range&#x27;: [(1, 1), (1, 2)],\n",
       "                         &#x27;tvec__stop_words&#x27;: [None, &#x27;english&#x27;]})</pre></div></div></div><div class=\"sk-parallel\"><div class=\"sk-parallel-item\"><div class=\"sk-item\"><div class=\"sk-label-container\"><div class=\"sk-label sk-toggleable\"><input class=\"sk-toggleable__control sk-hidden--visually\" id=\"sk-estimator-id-2\" type=\"checkbox\" ><label for=\"sk-estimator-id-2\" class=\"sk-toggleable__label sk-toggleable__label-arrow\">estimator: Pipeline</label><div class=\"sk-toggleable__content\"><pre>Pipeline(steps=[(&#x27;tvec&#x27;, TfidfVectorizer()), (&#x27;nb&#x27;, MultinomialNB())])</pre></div></div></div><div class=\"sk-serial\"><div class=\"sk-item\"><div class=\"sk-serial\"><div class=\"sk-item\"><div class=\"sk-estimator sk-toggleable\"><input class=\"sk-toggleable__control sk-hidden--visually\" id=\"sk-estimator-id-3\" type=\"checkbox\" ><label for=\"sk-estimator-id-3\" class=\"sk-toggleable__label sk-toggleable__label-arrow\">TfidfVectorizer</label><div class=\"sk-toggleable__content\"><pre>TfidfVectorizer()</pre></div></div></div><div class=\"sk-item\"><div class=\"sk-estimator sk-toggleable\"><input class=\"sk-toggleable__control sk-hidden--visually\" id=\"sk-estimator-id-4\" type=\"checkbox\" ><label for=\"sk-estimator-id-4\" class=\"sk-toggleable__label sk-toggleable__label-arrow\">MultinomialNB</label><div class=\"sk-toggleable__content\"><pre>MultinomialNB()</pre></div></div></div></div></div></div></div></div></div></div></div></div>"
      ],
      "text/plain": [
       "GridSearchCV(cv=10,\n",
       "             estimator=Pipeline(steps=[('tvec', TfidfVectorizer()),\n",
       "                                       ('nb', MultinomialNB())]),\n",
       "             n_jobs=2,\n",
       "             param_grid={'tvec__binary': [False, True],\n",
       "                         'tvec__min_df': [2, 3, 4],\n",
       "                         'tvec__ngram_range': [(1, 1), (1, 2)],\n",
       "                         'tvec__stop_words': [None, 'english']})"
      ]
     },
     "execution_count": 33,
     "metadata": {},
     "output_type": "execute_result"
    }
   ],
   "source": [
    "%%time\n",
    "# Fit GridSearch to training data.\n",
    "gs.fit(X_train, y_train)"
   ]
  },
  {
   "cell_type": "code",
   "execution_count": 34,
   "id": "b0fe6b5b-a8cf-4d48-a0fe-39ba4ae34df5",
   "metadata": {},
   "outputs": [
    {
     "data": {
      "text/plain": [
       "{'tvec__binary': False,\n",
       " 'tvec__min_df': 4,\n",
       " 'tvec__ngram_range': (1, 1),\n",
       " 'tvec__stop_words': 'english'}"
      ]
     },
     "execution_count": 34,
     "metadata": {},
     "output_type": "execute_result"
    }
   ],
   "source": [
    "gs.best_params_"
   ]
  },
  {
   "cell_type": "code",
   "execution_count": 35,
   "id": "fffdc6e7-ec09-4909-b608-3c48536dec9c",
   "metadata": {},
   "outputs": [
    {
     "name": "stdout",
     "output_type": "stream",
     "text": [
      "0.9473849372384937\n",
      "0.9303420144336366\n"
     ]
    }
   ],
   "source": [
    "# Training Score\n",
    "print(gs.score(X_train, y_train))\n",
    "# Testing Score\n",
    "print(gs.score(X_test, y_test))"
   ]
  },
  {
   "cell_type": "code",
   "execution_count": 36,
   "id": "28e99ea9-829b-44ef-9d4c-32bc16725d84",
   "metadata": {},
   "outputs": [
    {
     "data": {
      "image/png": "[encoded data removed]",
      "text/plain": [
       "<Figure size 640x480 with 2 Axes>"
      ]
     },
     "metadata": {},
     "output_type": "display_data"
    }
   ],
   "source": [
    "# Get predictions\n",
    "preds = gs.predict(X_test)\n",
    "\n",
    "# View confusion matrix\n",
    "ConfusionMatrixDisplay.from_predictions(y_test, preds, cmap='Blues');"
   ]
  },
  {
   "cell_type": "code",
   "execution_count": null,
   "id": "a761ff4f-db27-45e4-82ad-78ad96645b7f",
   "metadata": {
    "tags": []
   },
   "outputs": [],
   "source": []
  },
  {
   "cell_type": "markdown",
   "id": "878296b7-cd32-43e2-a0a6-1095bb471a96",
   "metadata": {},
   "source": [
    "### Bagging Classifier with Decision Trees"
   ]
  },
  {
   "cell_type": "code",
   "execution_count": 66,
   "id": "7c3ef5d8-b916-4da2-bc45-db9d8a2ad380",
   "metadata": {
    "tags": []
   },
   "outputs": [],
   "source": [
    "# Instantiate the Decision Tree Classifier\n",
    "tree = DecisionTreeClassifier()\n",
    "\n",
    "# Define parameter distributions for TfidfVectorizer\n",
    "tvec_param_dist = {\n",
    "    'tvec__stop_words': [None, 'english'],\n",
    "    'tvec__min_df': [2, 3, 4],\n",
    "    'tvec__binary': [False, True]\n",
    "}\n",
    "\n",
    "# Define parameter distributions for BaggingClassifier\n",
    "bagging_param_dist = {\n",
    "    'bag__base_estimator__max_depth': [None, 1, 2, 3, 4, 5, 6, 7],\n",
    "    'bag__base_estimator__min_samples_leaf': np.arange(11, 22, 2)\n",
    "}\n",
    "\n",
    "# Combine the parameter distributions\n",
    "param_dist = {**tvec_param_dist, **bagging_param_dist}\n",
    "\n",
    "# Create a pipeline that includes TfidfVectorizer and BaggingClassifier\n",
    "pipeline = Pipeline([\n",
    "    ('tvec', TfidfVectorizer()),\n",
    "    ('bag', BaggingClassifier(estimator=tree, n_estimators=100, random_state=42))\n",
    "])\n",
    "\n",
    "# Specify the scoring metric (e.g., F1 score)\n",
    "scoring_metric = 'f1'\n",
    "\n",
    "# Create a RandomizedSearchCV object with the scoring parameter\n",
    "rs = RandomizedSearchCV(pipeline, param_distributions=param_dist, cv=5, n_jobs=2, scoring=scoring_metric, random_state=42)\n"
   ]
  },
  {
   "cell_type": "code",
   "execution_count": 67,
   "id": "2c03a62c-252a-4fc8-a40b-8b23f762bd84",
   "metadata": {
    "tags": []
   },
   "outputs": [
    {
     "name": "stderr",
     "output_type": "stream",
     "text": [
      "C:\\Users\\kaitl\\anaconda3\\Lib\\site-packages\\sklearn\\ensemble\\_base.py:156: FutureWarning: `base_estimator` was renamed to `estimator` in version 1.2 and will be removed in 1.4.\n",
      "  warnings.warn(\n"
     ]
    },
    {
     "name": "stdout",
     "output_type": "stream",
     "text": [
      "CPU times: total: 4min 41s\n",
      "Wall time: 1h 1min 54s\n"
     ]
    },
    {
     "data": {
      "text/html": [
       "<style>#sk-container-id-3 {color: black;}#sk-container-id-3 pre{padding: 0;}#sk-container-id-3 div.sk-toggleable {background-color: white;}#sk-container-id-3 label.sk-toggleable__label {cursor: pointer;display: block;width: 100%;margin-bottom: 0;padding: 0.3em;box-sizing: border-box;text-align: center;}#sk-container-id-3 label.sk-toggleable__label-arrow:before {content: \"▸\";float: left;margin-right: 0.25em;color: #696969;}#sk-container-id-3 label.sk-toggleable__label-arrow:hover:before {color: black;}#sk-container-id-3 div.sk-estimator:hover label.sk-toggleable__label-arrow:before {color: black;}#sk-container-id-3 div.sk-toggleable__content {max-height: 0;max-width: 0;overflow: hidden;text-align: left;background-color: #f0f8ff;}#sk-container-id-3 div.sk-toggleable__content pre {margin: 0.2em;color: black;border-radius: 0.25em;background-color: #f0f8ff;}#sk-container-id-3 input.sk-toggleable__control:checked~div.sk-toggleable__content {max-height: 200px;max-width: 100%;overflow: auto;}#sk-container-id-3 input.sk-toggleable__control:checked~label.sk-toggleable__label-arrow:before {content: \"▾\";}#sk-container-id-3 div.sk-estimator input.sk-toggleable__control:checked~label.sk-toggleable__label {background-color: #d4ebff;}#sk-container-id-3 div.sk-label input.sk-toggleable__control:checked~label.sk-toggleable__label {background-color: #d4ebff;}#sk-container-id-3 input.sk-hidden--visually {border: 0;clip: rect(1px 1px 1px 1px);clip: rect(1px, 1px, 1px, 1px);height: 1px;margin: -1px;overflow: hidden;padding: 0;position: absolute;width: 1px;}#sk-container-id-3 div.sk-estimator {font-family: monospace;background-color: #f0f8ff;border: 1px dotted black;border-radius: 0.25em;box-sizing: border-box;margin-bottom: 0.5em;}#sk-container-id-3 div.sk-estimator:hover {background-color: #d4ebff;}#sk-container-id-3 div.sk-parallel-item::after {content: \"\";width: 100%;border-bottom: 1px solid gray;flex-grow: 1;}#sk-container-id-3 div.sk-label:hover label.sk-toggleable__label {background-color: #d4ebff;}#sk-container-id-3 div.sk-serial::before {content: \"\";position: absolute;border-left: 1px solid gray;box-sizing: border-box;top: 0;bottom: 0;left: 50%;z-index: 0;}#sk-container-id-3 div.sk-serial {display: flex;flex-direction: column;align-items: center;background-color: white;padding-right: 0.2em;padding-left: 0.2em;position: relative;}#sk-container-id-3 div.sk-item {position: relative;z-index: 1;}#sk-container-id-3 div.sk-parallel {display: flex;align-items: stretch;justify-content: center;background-color: white;position: relative;}#sk-container-id-3 div.sk-item::before, #sk-container-id-3 div.sk-parallel-item::before {content: \"\";position: absolute;border-left: 1px solid gray;box-sizing: border-box;top: 0;bottom: 0;left: 50%;z-index: -1;}#sk-container-id-3 div.sk-parallel-item {display: flex;flex-direction: column;z-index: 1;position: relative;background-color: white;}#sk-container-id-3 div.sk-parallel-item:first-child::after {align-self: flex-end;width: 50%;}#sk-container-id-3 div.sk-parallel-item:last-child::after {align-self: flex-start;width: 50%;}#sk-container-id-3 div.sk-parallel-item:only-child::after {width: 0;}#sk-container-id-3 div.sk-dashed-wrapped {border: 1px dashed gray;margin: 0 0.4em 0.5em 0.4em;box-sizing: border-box;padding-bottom: 0.4em;background-color: white;}#sk-container-id-3 div.sk-label label {font-family: monospace;font-weight: bold;display: inline-block;line-height: 1.2em;}#sk-container-id-3 div.sk-label-container {text-align: center;}#sk-container-id-3 div.sk-container {/* jupyter's `normalize.less` sets `[hidden] { display: none; }` but bootstrap.min.css set `[hidden] { display: none !important; }` so we also need the `!important` here to be able to override the default hidden behavior on the sphinx rendered scikit-learn.org. See: https://github.com/scikit-learn/scikit-learn/issues/21755 */display: inline-block !important;position: relative;}#sk-container-id-3 div.sk-text-repr-fallback {display: none;}</style><div id=\"sk-container-id-3\" class=\"sk-top-container\"><div class=\"sk-text-repr-fallback\"><pre>RandomizedSearchCV(cv=5,\n",
       "                   estimator=Pipeline(steps=[(&#x27;tvec&#x27;, TfidfVectorizer()),\n",
       "                                             (&#x27;bag&#x27;,\n",
       "                                              BaggingClassifier(base_estimator=DecisionTreeClassifier(),\n",
       "                                                                n_estimators=100,\n",
       "                                                                random_state=42))]),\n",
       "                   n_jobs=2,\n",
       "                   param_distributions={&#x27;bag__base_estimator__max_depth&#x27;: [None,\n",
       "                                                                           1, 2,\n",
       "                                                                           3, 4,\n",
       "                                                                           5, 6,\n",
       "                                                                           7],\n",
       "                                        &#x27;bag__base_estimator__min_samples_leaf&#x27;: array([11, 13, 15, 17, 19, 21]),\n",
       "                                        &#x27;tvec__binary&#x27;: [False, True],\n",
       "                                        &#x27;tvec__min_df&#x27;: [2, 3, 4],\n",
       "                                        &#x27;tvec__stop_words&#x27;: [None, &#x27;english&#x27;]},\n",
       "                   random_state=42, scoring=&#x27;f1&#x27;)</pre><b>In a Jupyter environment, please rerun this cell to show the HTML representation or trust the notebook. <br />On GitHub, the HTML representation is unable to render, please try loading this page with nbviewer.org.</b></div><div class=\"sk-container\" hidden><div class=\"sk-item sk-dashed-wrapped\"><div class=\"sk-label-container\"><div class=\"sk-label sk-toggleable\"><input class=\"sk-toggleable__control sk-hidden--visually\" id=\"sk-estimator-id-9\" type=\"checkbox\" ><label for=\"sk-estimator-id-9\" class=\"sk-toggleable__label sk-toggleable__label-arrow\">RandomizedSearchCV</label><div class=\"sk-toggleable__content\"><pre>RandomizedSearchCV(cv=5,\n",
       "                   estimator=Pipeline(steps=[(&#x27;tvec&#x27;, TfidfVectorizer()),\n",
       "                                             (&#x27;bag&#x27;,\n",
       "                                              BaggingClassifier(base_estimator=DecisionTreeClassifier(),\n",
       "                                                                n_estimators=100,\n",
       "                                                                random_state=42))]),\n",
       "                   n_jobs=2,\n",
       "                   param_distributions={&#x27;bag__base_estimator__max_depth&#x27;: [None,\n",
       "                                                                           1, 2,\n",
       "                                                                           3, 4,\n",
       "                                                                           5, 6,\n",
       "                                                                           7],\n",
       "                                        &#x27;bag__base_estimator__min_samples_leaf&#x27;: array([11, 13, 15, 17, 19, 21]),\n",
       "                                        &#x27;tvec__binary&#x27;: [False, True],\n",
       "                                        &#x27;tvec__min_df&#x27;: [2, 3, 4],\n",
       "                                        &#x27;tvec__stop_words&#x27;: [None, &#x27;english&#x27;]},\n",
       "                   random_state=42, scoring=&#x27;f1&#x27;)</pre></div></div></div><div class=\"sk-parallel\"><div class=\"sk-parallel-item\"><div class=\"sk-item\"><div class=\"sk-label-container\"><div class=\"sk-label sk-toggleable\"><input class=\"sk-toggleable__control sk-hidden--visually\" id=\"sk-estimator-id-10\" type=\"checkbox\" ><label for=\"sk-estimator-id-10\" class=\"sk-toggleable__label sk-toggleable__label-arrow\">estimator: Pipeline</label><div class=\"sk-toggleable__content\"><pre>Pipeline(steps=[(&#x27;tvec&#x27;, TfidfVectorizer()),\n",
       "                (&#x27;bag&#x27;,\n",
       "                 BaggingClassifier(base_estimator=DecisionTreeClassifier(),\n",
       "                                   n_estimators=100, random_state=42))])</pre></div></div></div><div class=\"sk-serial\"><div class=\"sk-item\"><div class=\"sk-serial\"><div class=\"sk-item\"><div class=\"sk-estimator sk-toggleable\"><input class=\"sk-toggleable__control sk-hidden--visually\" id=\"sk-estimator-id-11\" type=\"checkbox\" ><label for=\"sk-estimator-id-11\" class=\"sk-toggleable__label sk-toggleable__label-arrow\">TfidfVectorizer</label><div class=\"sk-toggleable__content\"><pre>TfidfVectorizer()</pre></div></div></div><div class=\"sk-item sk-dashed-wrapped\"><div class=\"sk-label-container\"><div class=\"sk-label sk-toggleable\"><input class=\"sk-toggleable__control sk-hidden--visually\" id=\"sk-estimator-id-12\" type=\"checkbox\" ><label for=\"sk-estimator-id-12\" class=\"sk-toggleable__label sk-toggleable__label-arrow\">bag: BaggingClassifier</label><div class=\"sk-toggleable__content\"><pre>BaggingClassifier(base_estimator=DecisionTreeClassifier(), n_estimators=100,\n",
       "                  random_state=42)</pre></div></div></div><div class=\"sk-parallel\"><div class=\"sk-parallel-item\"><div class=\"sk-item\"><div class=\"sk-label-container\"><div class=\"sk-label sk-toggleable\"><input class=\"sk-toggleable__control sk-hidden--visually\" id=\"sk-estimator-id-13\" type=\"checkbox\" ><label for=\"sk-estimator-id-13\" class=\"sk-toggleable__label sk-toggleable__label-arrow\">base_estimator: DecisionTreeClassifier</label><div class=\"sk-toggleable__content\"><pre>DecisionTreeClassifier()</pre></div></div></div><div class=\"sk-serial\"><div class=\"sk-item\"><div class=\"sk-estimator sk-toggleable\"><input class=\"sk-toggleable__control sk-hidden--visually\" id=\"sk-estimator-id-14\" type=\"checkbox\" ><label for=\"sk-estimator-id-14\" class=\"sk-toggleable__label sk-toggleable__label-arrow\">DecisionTreeClassifier</label><div class=\"sk-toggleable__content\"><pre>DecisionTreeClassifier()</pre></div></div></div></div></div></div></div></div></div></div></div></div></div></div></div></div></div>"
      ],
      "text/plain": [
       "RandomizedSearchCV(cv=5,\n",
       "                   estimator=Pipeline(steps=[('tvec', TfidfVectorizer()),\n",
       "                                             ('bag',\n",
       "                                              BaggingClassifier(base_estimator=DecisionTreeClassifier(),\n",
       "                                                                n_estimators=100,\n",
       "                                                                random_state=42))]),\n",
       "                   n_jobs=2,\n",
       "                   param_distributions={'bag__base_estimator__max_depth': [None,\n",
       "                                                                           1, 2,\n",
       "                                                                           3, 4,\n",
       "                                                                           5, 6,\n",
       "                                                                           7],\n",
       "                                        'bag__base_estimator__min_samples_leaf': array([11, 13, 15, 17, 19, 21]),\n",
       "                                        'tvec__binary': [False, True],\n",
       "                                        'tvec__min_df': [2, 3, 4],\n",
       "                                        'tvec__stop_words': [None, 'english']},\n",
       "                   random_state=42, scoring='f1')"
      ]
     },
     "execution_count": 67,
     "metadata": {},
     "output_type": "execute_result"
    }
   ],
   "source": [
    "%%time\n",
    "# Fit the grid search for each step\n",
    "# Fit the grid search on your preprocessed and vectorized data\n",
    "rs.fit(X_train, y_train)"
   ]
  },
  {
   "cell_type": "code",
   "execution_count": 68,
   "id": "b2b69d41-de0b-4f71-a05e-ea2c501e45ab",
   "metadata": {},
   "outputs": [
    {
     "data": {
      "text/plain": [
       "{'tvec__stop_words': 'english',\n",
       " 'tvec__min_df': 4,\n",
       " 'tvec__binary': False,\n",
       " 'bag__base_estimator__min_samples_leaf': 15,\n",
       " 'bag__base_estimator__max_depth': None}"
      ]
     },
     "execution_count": 68,
     "metadata": {},
     "output_type": "execute_result"
    }
   ],
   "source": [
    "rs.best_params_"
   ]
  },
  {
   "cell_type": "markdown",
   "id": "972fd7cf-9d33-4366-a551-951c34de5eb0",
   "metadata": {},
   "source": [
    "The best parameters from this grid search for the TF-IDF Vectorizer were:\n",
    "- including 'english' stop words\n",
    "- Not binarizing\n",
    "- tvec_min_df : 4\n",
    "\n",
    "I will continue to tune parameters, however for the initial trial of other models, these are the parameters I will set for the TF-IDF Vectorizer to reduce computing time."
   ]
  },
  {
   "cell_type": "code",
   "execution_count": 69,
   "id": "cabf0f3f-4688-4033-b5b5-9cdacfb2886a",
   "metadata": {},
   "outputs": [
    {
     "name": "stdout",
     "output_type": "stream",
     "text": [
      "0.9729491326080565\n",
      "0.9676122403395131\n"
     ]
    }
   ],
   "source": [
    "# Training Score\n",
    "print(rs.score(X_train, y_train))\n",
    "# Testing Score\n",
    "print(rs.score(X_test, y_test))"
   ]
  },
  {
   "cell_type": "markdown",
   "id": "9ab9cf58-9769-4ec9-a7d6-d5cc3df7be4f",
   "metadata": {},
   "source": [
    "*Initial thoughts: these are decent scores, but I believe there is significant room for improvement*"
   ]
  },
  {
   "cell_type": "code",
   "execution_count": 70,
   "id": "48085f72-bb54-4511-93fe-2b65ef4be9c6",
   "metadata": {},
   "outputs": [
    {
     "data": {
      "image/png": "[encoded data removed]",
      "text/plain": [
       "<Figure size 640x480 with 2 Axes>"
      ]
     },
     "metadata": {},
     "output_type": "display_data"
    }
   ],
   "source": [
    "# Get predictions\n",
    "preds = rs.predict(X_test)\n",
    "\n",
    "# View confusion matrix\n",
    "ConfusionMatrixDisplay.from_predictions(y_test, preds, cmap='Blues');"
   ]
  },
  {
   "cell_type": "code",
   "execution_count": 33,
   "id": "189bba64-a66a-45a0-a728-f7f62a98bf6c",
   "metadata": {},
   "outputs": [],
   "source": [
    "tvec = TfidfVectorizer(stop_words = \"english\", min_df=4)\n",
    "X_train_transformed = tvec.fit_transform(X_train)\n",
    "X_test_transformed = tvec.transform(X_test)"
   ]
  },
  {
   "cell_type": "code",
   "execution_count": 86,
   "id": "4831a188-962f-47da-99a3-bf6bff87b5c7",
   "metadata": {
    "tags": []
   },
   "outputs": [],
   "source": [
    "#Bagging Classifier with n_estimators =500\n",
    "\n",
    "tree = DecisionTreeClassifier(max_depth=None, min_samples_leaf=15)\n",
    "bag = BaggingClassifier(estimator=tree, n_estimators=500, random_state=42)"
   ]
  },
  {
   "cell_type": "code",
   "execution_count": 87,
   "id": "9e91fa6a-1935-4ae9-9209-08db2a8be174",
   "metadata": {
    "tags": []
   },
   "outputs": [
    {
     "data": {
      "text/html": [
       "<style>#sk-container-id-6 {color: black;}#sk-container-id-6 pre{padding: 0;}#sk-container-id-6 div.sk-toggleable {background-color: white;}#sk-container-id-6 label.sk-toggleable__label {cursor: pointer;display: block;width: 100%;margin-bottom: 0;padding: 0.3em;box-sizing: border-box;text-align: center;}#sk-container-id-6 label.sk-toggleable__label-arrow:before {content: \"▸\";float: left;margin-right: 0.25em;color: #696969;}#sk-container-id-6 label.sk-toggleable__label-arrow:hover:before {color: black;}#sk-container-id-6 div.sk-estimator:hover label.sk-toggleable__label-arrow:before {color: black;}#sk-container-id-6 div.sk-toggleable__content {max-height: 0;max-width: 0;overflow: hidden;text-align: left;background-color: #f0f8ff;}#sk-container-id-6 div.sk-toggleable__content pre {margin: 0.2em;color: black;border-radius: 0.25em;background-color: #f0f8ff;}#sk-container-id-6 input.sk-toggleable__control:checked~div.sk-toggleable__content {max-height: 200px;max-width: 100%;overflow: auto;}#sk-container-id-6 input.sk-toggleable__control:checked~label.sk-toggleable__label-arrow:before {content: \"▾\";}#sk-container-id-6 div.sk-estimator input.sk-toggleable__control:checked~label.sk-toggleable__label {background-color: #d4ebff;}#sk-container-id-6 div.sk-label input.sk-toggleable__control:checked~label.sk-toggleable__label {background-color: #d4ebff;}#sk-container-id-6 input.sk-hidden--visually {border: 0;clip: rect(1px 1px 1px 1px);clip: rect(1px, 1px, 1px, 1px);height: 1px;margin: -1px;overflow: hidden;padding: 0;position: absolute;width: 1px;}#sk-container-id-6 div.sk-estimator {font-family: monospace;background-color: #f0f8ff;border: 1px dotted black;border-radius: 0.25em;box-sizing: border-box;margin-bottom: 0.5em;}#sk-container-id-6 div.sk-estimator:hover {background-color: #d4ebff;}#sk-container-id-6 div.sk-parallel-item::after {content: \"\";width: 100%;border-bottom: 1px solid gray;flex-grow: 1;}#sk-container-id-6 div.sk-label:hover label.sk-toggleable__label {background-color: #d4ebff;}#sk-container-id-6 div.sk-serial::before {content: \"\";position: absolute;border-left: 1px solid gray;box-sizing: border-box;top: 0;bottom: 0;left: 50%;z-index: 0;}#sk-container-id-6 div.sk-serial {display: flex;flex-direction: column;align-items: center;background-color: white;padding-right: 0.2em;padding-left: 0.2em;position: relative;}#sk-container-id-6 div.sk-item {position: relative;z-index: 1;}#sk-container-id-6 div.sk-parallel {display: flex;align-items: stretch;justify-content: center;background-color: white;position: relative;}#sk-container-id-6 div.sk-item::before, #sk-container-id-6 div.sk-parallel-item::before {content: \"\";position: absolute;border-left: 1px solid gray;box-sizing: border-box;top: 0;bottom: 0;left: 50%;z-index: -1;}#sk-container-id-6 div.sk-parallel-item {display: flex;flex-direction: column;z-index: 1;position: relative;background-color: white;}#sk-container-id-6 div.sk-parallel-item:first-child::after {align-self: flex-end;width: 50%;}#sk-container-id-6 div.sk-parallel-item:last-child::after {align-self: flex-start;width: 50%;}#sk-container-id-6 div.sk-parallel-item:only-child::after {width: 0;}#sk-container-id-6 div.sk-dashed-wrapped {border: 1px dashed gray;margin: 0 0.4em 0.5em 0.4em;box-sizing: border-box;padding-bottom: 0.4em;background-color: white;}#sk-container-id-6 div.sk-label label {font-family: monospace;font-weight: bold;display: inline-block;line-height: 1.2em;}#sk-container-id-6 div.sk-label-container {text-align: center;}#sk-container-id-6 div.sk-container {/* jupyter's `normalize.less` sets `[hidden] { display: none; }` but bootstrap.min.css set `[hidden] { display: none !important; }` so we also need the `!important` here to be able to override the default hidden behavior on the sphinx rendered scikit-learn.org. See: https://github.com/scikit-learn/scikit-learn/issues/21755 */display: inline-block !important;position: relative;}#sk-container-id-6 div.sk-text-repr-fallback {display: none;}</style><div id=\"sk-container-id-6\" class=\"sk-top-container\"><div class=\"sk-text-repr-fallback\"><pre>BaggingClassifier(estimator=DecisionTreeClassifier(min_samples_leaf=15),\n",
       "                  n_estimators=500, random_state=42)</pre><b>In a Jupyter environment, please rerun this cell to show the HTML representation or trust the notebook. <br />On GitHub, the HTML representation is unable to render, please try loading this page with nbviewer.org.</b></div><div class=\"sk-container\" hidden><div class=\"sk-item sk-dashed-wrapped\"><div class=\"sk-label-container\"><div class=\"sk-label sk-toggleable\"><input class=\"sk-toggleable__control sk-hidden--visually\" id=\"sk-estimator-id-21\" type=\"checkbox\" ><label for=\"sk-estimator-id-21\" class=\"sk-toggleable__label sk-toggleable__label-arrow\">BaggingClassifier</label><div class=\"sk-toggleable__content\"><pre>BaggingClassifier(estimator=DecisionTreeClassifier(min_samples_leaf=15),\n",
       "                  n_estimators=500, random_state=42)</pre></div></div></div><div class=\"sk-parallel\"><div class=\"sk-parallel-item\"><div class=\"sk-item\"><div class=\"sk-label-container\"><div class=\"sk-label sk-toggleable\"><input class=\"sk-toggleable__control sk-hidden--visually\" id=\"sk-estimator-id-22\" type=\"checkbox\" ><label for=\"sk-estimator-id-22\" class=\"sk-toggleable__label sk-toggleable__label-arrow\">estimator: DecisionTreeClassifier</label><div class=\"sk-toggleable__content\"><pre>DecisionTreeClassifier(min_samples_leaf=15)</pre></div></div></div><div class=\"sk-serial\"><div class=\"sk-item\"><div class=\"sk-estimator sk-toggleable\"><input class=\"sk-toggleable__control sk-hidden--visually\" id=\"sk-estimator-id-23\" type=\"checkbox\" ><label for=\"sk-estimator-id-23\" class=\"sk-toggleable__label sk-toggleable__label-arrow\">DecisionTreeClassifier</label><div class=\"sk-toggleable__content\"><pre>DecisionTreeClassifier(min_samples_leaf=15)</pre></div></div></div></div></div></div></div></div></div></div>"
      ],
      "text/plain": [
       "BaggingClassifier(estimator=DecisionTreeClassifier(min_samples_leaf=15),\n",
       "                  n_estimators=500, random_state=42)"
      ]
     },
     "execution_count": 87,
     "metadata": {},
     "output_type": "execute_result"
    }
   ],
   "source": [
    "bag.fit(X_train_transformed, y_train)"
   ]
  },
  {
   "cell_type": "code",
   "execution_count": 88,
   "id": "f65cf21d-0723-4b1b-8334-46bafedb39b5",
   "metadata": {
    "tags": []
   },
   "outputs": [
    {
     "data": {
      "text/plain": [
       "0.9624476987447699"
      ]
     },
     "execution_count": 88,
     "metadata": {},
     "output_type": "execute_result"
    }
   ],
   "source": [
    "bag.score(X_train_transformed, y_train)"
   ]
  },
  {
   "cell_type": "code",
   "execution_count": 77,
   "id": "f9637924-8364-4376-ae95-6c838ecbfac3",
   "metadata": {
    "tags": []
   },
   "outputs": [
    {
     "data": {
      "text/plain": [
       "0.9416379039849389"
      ]
     },
     "execution_count": 77,
     "metadata": {},
     "output_type": "execute_result"
    }
   ],
   "source": [
    "bag.score(X_test_transformed, y_test)"
   ]
  },
  {
   "cell_type": "markdown",
   "id": "012e6779-9750-4147-a5d2-62a58769dffa",
   "metadata": {},
   "source": [
    "### AdaBoost Model"
   ]
  },
  {
   "cell_type": "code",
   "execution_count": 35,
   "id": "5b4d23ea-a580-4b0a-a655-eaac997e2bf5",
   "metadata": {
    "tags": []
   },
   "outputs": [
    {
     "data": {
      "text/html": [
       "<style>#sk-container-id-7 {color: black;}#sk-container-id-7 pre{padding: 0;}#sk-container-id-7 div.sk-toggleable {background-color: white;}#sk-container-id-7 label.sk-toggleable__label {cursor: pointer;display: block;width: 100%;margin-bottom: 0;padding: 0.3em;box-sizing: border-box;text-align: center;}#sk-container-id-7 label.sk-toggleable__label-arrow:before {content: \"▸\";float: left;margin-right: 0.25em;color: #696969;}#sk-container-id-7 label.sk-toggleable__label-arrow:hover:before {color: black;}#sk-container-id-7 div.sk-estimator:hover label.sk-toggleable__label-arrow:before {color: black;}#sk-container-id-7 div.sk-toggleable__content {max-height: 0;max-width: 0;overflow: hidden;text-align: left;background-color: #f0f8ff;}#sk-container-id-7 div.sk-toggleable__content pre {margin: 0.2em;color: black;border-radius: 0.25em;background-color: #f0f8ff;}#sk-container-id-7 input.sk-toggleable__control:checked~div.sk-toggleable__content {max-height: 200px;max-width: 100%;overflow: auto;}#sk-container-id-7 input.sk-toggleable__control:checked~label.sk-toggleable__label-arrow:before {content: \"▾\";}#sk-container-id-7 div.sk-estimator input.sk-toggleable__control:checked~label.sk-toggleable__label {background-color: #d4ebff;}#sk-container-id-7 div.sk-label input.sk-toggleable__control:checked~label.sk-toggleable__label {background-color: #d4ebff;}#sk-container-id-7 input.sk-hidden--visually {border: 0;clip: rect(1px 1px 1px 1px);clip: rect(1px, 1px, 1px, 1px);height: 1px;margin: -1px;overflow: hidden;padding: 0;position: absolute;width: 1px;}#sk-container-id-7 div.sk-estimator {font-family: monospace;background-color: #f0f8ff;border: 1px dotted black;border-radius: 0.25em;box-sizing: border-box;margin-bottom: 0.5em;}#sk-container-id-7 div.sk-estimator:hover {background-color: #d4ebff;}#sk-container-id-7 div.sk-parallel-item::after {content: \"\";width: 100%;border-bottom: 1px solid gray;flex-grow: 1;}#sk-container-id-7 div.sk-label:hover label.sk-toggleable__label {background-color: #d4ebff;}#sk-container-id-7 div.sk-serial::before {content: \"\";position: absolute;border-left: 1px solid gray;box-sizing: border-box;top: 0;bottom: 0;left: 50%;z-index: 0;}#sk-container-id-7 div.sk-serial {display: flex;flex-direction: column;align-items: center;background-color: white;padding-right: 0.2em;padding-left: 0.2em;position: relative;}#sk-container-id-7 div.sk-item {position: relative;z-index: 1;}#sk-container-id-7 div.sk-parallel {display: flex;align-items: stretch;justify-content: center;background-color: white;position: relative;}#sk-container-id-7 div.sk-item::before, #sk-container-id-7 div.sk-parallel-item::before {content: \"\";position: absolute;border-left: 1px solid gray;box-sizing: border-box;top: 0;bottom: 0;left: 50%;z-index: -1;}#sk-container-id-7 div.sk-parallel-item {display: flex;flex-direction: column;z-index: 1;position: relative;background-color: white;}#sk-container-id-7 div.sk-parallel-item:first-child::after {align-self: flex-end;width: 50%;}#sk-container-id-7 div.sk-parallel-item:last-child::after {align-self: flex-start;width: 50%;}#sk-container-id-7 div.sk-parallel-item:only-child::after {width: 0;}#sk-container-id-7 div.sk-dashed-wrapped {border: 1px dashed gray;margin: 0 0.4em 0.5em 0.4em;box-sizing: border-box;padding-bottom: 0.4em;background-color: white;}#sk-container-id-7 div.sk-label label {font-family: monospace;font-weight: bold;display: inline-block;line-height: 1.2em;}#sk-container-id-7 div.sk-label-container {text-align: center;}#sk-container-id-7 div.sk-container {/* jupyter's `normalize.less` sets `[hidden] { display: none; }` but bootstrap.min.css set `[hidden] { display: none !important; }` so we also need the `!important` here to be able to override the default hidden behavior on the sphinx rendered scikit-learn.org. See: https://github.com/scikit-learn/scikit-learn/issues/21755 */display: inline-block !important;position: relative;}#sk-container-id-7 div.sk-text-repr-fallback {display: none;}</style><div id=\"sk-container-id-7\" class=\"sk-top-container\"><div class=\"sk-text-repr-fallback\"><pre>AdaBoostClassifier(estimator=DecisionTreeClassifier(max_depth=2),\n",
       "                   n_estimators=300)</pre><b>In a Jupyter environment, please rerun this cell to show the HTML representation or trust the notebook. <br />On GitHub, the HTML representation is unable to render, please try loading this page with nbviewer.org.</b></div><div class=\"sk-container\" hidden><div class=\"sk-item sk-dashed-wrapped\"><div class=\"sk-label-container\"><div class=\"sk-label sk-toggleable\"><input class=\"sk-toggleable__control sk-hidden--visually\" id=\"sk-estimator-id-7\" type=\"checkbox\" ><label for=\"sk-estimator-id-7\" class=\"sk-toggleable__label sk-toggleable__label-arrow\">AdaBoostClassifier</label><div class=\"sk-toggleable__content\"><pre>AdaBoostClassifier(estimator=DecisionTreeClassifier(max_depth=2),\n",
       "                   n_estimators=300)</pre></div></div></div><div class=\"sk-parallel\"><div class=\"sk-parallel-item\"><div class=\"sk-item\"><div class=\"sk-label-container\"><div class=\"sk-label sk-toggleable\"><input class=\"sk-toggleable__control sk-hidden--visually\" id=\"sk-estimator-id-8\" type=\"checkbox\" ><label for=\"sk-estimator-id-8\" class=\"sk-toggleable__label sk-toggleable__label-arrow\">estimator: DecisionTreeClassifier</label><div class=\"sk-toggleable__content\"><pre>DecisionTreeClassifier(max_depth=2)</pre></div></div></div><div class=\"sk-serial\"><div class=\"sk-item\"><div class=\"sk-estimator sk-toggleable\"><input class=\"sk-toggleable__control sk-hidden--visually\" id=\"sk-estimator-id-9\" type=\"checkbox\" ><label for=\"sk-estimator-id-9\" class=\"sk-toggleable__label sk-toggleable__label-arrow\">DecisionTreeClassifier</label><div class=\"sk-toggleable__content\"><pre>DecisionTreeClassifier(max_depth=2)</pre></div></div></div></div></div></div></div></div></div></div>"
      ],
      "text/plain": [
       "AdaBoostClassifier(estimator=DecisionTreeClassifier(max_depth=2),\n",
       "                   n_estimators=300)"
      ]
     },
     "execution_count": 35,
     "metadata": {},
     "output_type": "execute_result"
    }
   ],
   "source": [
    "#The AdaBoost model\n",
    "\n",
    "ada =AdaBoostClassifier(\n",
    "    DecisionTreeClassifier(max_depth=2),\n",
    "    n_estimators=300\n",
    ")\n",
    "\n",
    "\n",
    "ada.fit(X_train_transformed, y_train)"
   ]
  },
  {
   "cell_type": "code",
   "execution_count": 36,
   "id": "c4e4efb3-e3f9-429a-92f2-06269c74e508",
   "metadata": {
    "tags": []
   },
   "outputs": [
    {
     "name": "stdout",
     "output_type": "stream",
     "text": [
      "1.0\n",
      "0.9943520552243489\n"
     ]
    }
   ],
   "source": [
    "print(ada.score(X_train_transformed, y_train))\n",
    "print(ada.score(X_test_transformed, y_test))\n"
   ]
  },
  {
   "cell_type": "markdown",
   "id": "c4504cfa-3e26-4293-8f45-3fd0e4830231",
   "metadata": {},
   "source": [
    "This is a good accuracy score: 99.4%. This means that 1 out of every 200 posts are misclassified."
   ]
  },
  {
   "cell_type": "code",
   "execution_count": 92,
   "id": "d87ceb2d-386e-4583-889e-ce8340807546",
   "metadata": {
    "tags": []
   },
   "outputs": [
    {
     "data": {
      "image/png": "[encoded data removed]",
      "text/plain": [
       "<Figure size 640x480 with 2 Axes>"
      ]
     },
     "metadata": {},
     "output_type": "display_data"
    }
   ],
   "source": [
    "# Get predictions\n",
    "ada_preds = ada.predict(X_test_transformed)\n",
    "\n",
    "# View confusion matrix\n",
    "ConfusionMatrixDisplay.from_predictions(y_test, ada_preds, cmap='Blues');"
   ]
  },
  {
   "cell_type": "markdown",
   "id": "fff2e4e7-f91c-4b1f-82b0-023b8da9fae8",
   "metadata": {},
   "source": [
    "### Random Forest Model"
   ]
  },
  {
   "cell_type": "code",
   "execution_count": 61,
   "id": "e29cd281-ace1-471d-b781-784f43dc70b1",
   "metadata": {},
   "outputs": [],
   "source": [
    "#Random Forest Model\n",
    "rf = RandomForestClassifier(\n",
    "    n_estimators=500,\n",
    "    max_features='sqrt',\n",
    "    oob_score=True,\n",
    ")"
   ]
  },
  {
   "cell_type": "code",
   "execution_count": 62,
   "id": "7ed3ec64-3f7f-48ba-9dc0-17969e016290",
   "metadata": {},
   "outputs": [
    {
     "name": "stdout",
     "output_type": "stream",
     "text": [
      "CPU times: total: 40.7 s\n",
      "Wall time: 1min 14s\n"
     ]
    },
    {
     "data": {
      "text/html": [
       "<style>#sk-container-id-11 {color: black;}#sk-container-id-11 pre{padding: 0;}#sk-container-id-11 div.sk-toggleable {background-color: white;}#sk-container-id-11 label.sk-toggleable__label {cursor: pointer;display: block;width: 100%;margin-bottom: 0;padding: 0.3em;box-sizing: border-box;text-align: center;}#sk-container-id-11 label.sk-toggleable__label-arrow:before {content: \"▸\";float: left;margin-right: 0.25em;color: #696969;}#sk-container-id-11 label.sk-toggleable__label-arrow:hover:before {color: black;}#sk-container-id-11 div.sk-estimator:hover label.sk-toggleable__label-arrow:before {color: black;}#sk-container-id-11 div.sk-toggleable__content {max-height: 0;max-width: 0;overflow: hidden;text-align: left;background-color: #f0f8ff;}#sk-container-id-11 div.sk-toggleable__content pre {margin: 0.2em;color: black;border-radius: 0.25em;background-color: #f0f8ff;}#sk-container-id-11 input.sk-toggleable__control:checked~div.sk-toggleable__content {max-height: 200px;max-width: 100%;overflow: auto;}#sk-container-id-11 input.sk-toggleable__control:checked~label.sk-toggleable__label-arrow:before {content: \"▾\";}#sk-container-id-11 div.sk-estimator input.sk-toggleable__control:checked~label.sk-toggleable__label {background-color: #d4ebff;}#sk-container-id-11 div.sk-label input.sk-toggleable__control:checked~label.sk-toggleable__label {background-color: #d4ebff;}#sk-container-id-11 input.sk-hidden--visually {border: 0;clip: rect(1px 1px 1px 1px);clip: rect(1px, 1px, 1px, 1px);height: 1px;margin: -1px;overflow: hidden;padding: 0;position: absolute;width: 1px;}#sk-container-id-11 div.sk-estimator {font-family: monospace;background-color: #f0f8ff;border: 1px dotted black;border-radius: 0.25em;box-sizing: border-box;margin-bottom: 0.5em;}#sk-container-id-11 div.sk-estimator:hover {background-color: #d4ebff;}#sk-container-id-11 div.sk-parallel-item::after {content: \"\";width: 100%;border-bottom: 1px solid gray;flex-grow: 1;}#sk-container-id-11 div.sk-label:hover label.sk-toggleable__label {background-color: #d4ebff;}#sk-container-id-11 div.sk-serial::before {content: \"\";position: absolute;border-left: 1px solid gray;box-sizing: border-box;top: 0;bottom: 0;left: 50%;z-index: 0;}#sk-container-id-11 div.sk-serial {display: flex;flex-direction: column;align-items: center;background-color: white;padding-right: 0.2em;padding-left: 0.2em;position: relative;}#sk-container-id-11 div.sk-item {position: relative;z-index: 1;}#sk-container-id-11 div.sk-parallel {display: flex;align-items: stretch;justify-content: center;background-color: white;position: relative;}#sk-container-id-11 div.sk-item::before, #sk-container-id-11 div.sk-parallel-item::before {content: \"\";position: absolute;border-left: 1px solid gray;box-sizing: border-box;top: 0;bottom: 0;left: 50%;z-index: -1;}#sk-container-id-11 div.sk-parallel-item {display: flex;flex-direction: column;z-index: 1;position: relative;background-color: white;}#sk-container-id-11 div.sk-parallel-item:first-child::after {align-self: flex-end;width: 50%;}#sk-container-id-11 div.sk-parallel-item:last-child::after {align-self: flex-start;width: 50%;}#sk-container-id-11 div.sk-parallel-item:only-child::after {width: 0;}#sk-container-id-11 div.sk-dashed-wrapped {border: 1px dashed gray;margin: 0 0.4em 0.5em 0.4em;box-sizing: border-box;padding-bottom: 0.4em;background-color: white;}#sk-container-id-11 div.sk-label label {font-family: monospace;font-weight: bold;display: inline-block;line-height: 1.2em;}#sk-container-id-11 div.sk-label-container {text-align: center;}#sk-container-id-11 div.sk-container {/* jupyter's `normalize.less` sets `[hidden] { display: none; }` but bootstrap.min.css set `[hidden] { display: none !important; }` so we also need the `!important` here to be able to override the default hidden behavior on the sphinx rendered scikit-learn.org. See: https://github.com/scikit-learn/scikit-learn/issues/21755 */display: inline-block !important;position: relative;}#sk-container-id-11 div.sk-text-repr-fallback {display: none;}</style><div id=\"sk-container-id-11\" class=\"sk-top-container\"><div class=\"sk-text-repr-fallback\"><pre>RandomForestClassifier(n_estimators=500, oob_score=True)</pre><b>In a Jupyter environment, please rerun this cell to show the HTML representation or trust the notebook. <br />On GitHub, the HTML representation is unable to render, please try loading this page with nbviewer.org.</b></div><div class=\"sk-container\" hidden><div class=\"sk-item\"><div class=\"sk-estimator sk-toggleable\"><input class=\"sk-toggleable__control sk-hidden--visually\" id=\"sk-estimator-id-16\" type=\"checkbox\" checked><label for=\"sk-estimator-id-16\" class=\"sk-toggleable__label sk-toggleable__label-arrow\">RandomForestClassifier</label><div class=\"sk-toggleable__content\"><pre>RandomForestClassifier(n_estimators=500, oob_score=True)</pre></div></div></div></div></div>"
      ],
      "text/plain": [
       "RandomForestClassifier(n_estimators=500, oob_score=True)"
      ]
     },
     "execution_count": 62,
     "metadata": {},
     "output_type": "execute_result"
    }
   ],
   "source": [
    "%%time\n",
    "rf.fit(X_train_transformed, y_train)"
   ]
  },
  {
   "cell_type": "code",
   "execution_count": 64,
   "id": "05c42135-424f-4c9c-9c04-8eeda4a90116",
   "metadata": {},
   "outputs": [
    {
     "name": "stdout",
     "output_type": "stream",
     "text": [
      "1.0\n",
      "0.9927831816755569\n",
      "0.9927824267782427\n"
     ]
    }
   ],
   "source": [
    "print(rf.score(X_train_transformed, y_train))\n",
    "print(rf.score(X_test_transformed, y_test))\n",
    "print(rf.oob_score_)"
   ]
  },
  {
   "cell_type": "code",
   "execution_count": null,
   "id": "c6eead6a-51d7-4e13-bb7c-720373e34a6d",
   "metadata": {},
   "outputs": [],
   "source": [
    "rf.feature_importances_\n",
    "\n",
    "#Create a dataframe of the feature importances from Random Forest\n",
    "feature_importances = pd.DataFrame({\n",
    "    'variable': X.columns,\n",
    "    'importance': rf.feature_importances_\n",
    "}).sort_values('importance', ascending=False)\n",
    "feature_importances.head(25)"
   ]
  },
  {
   "cell_type": "markdown",
   "id": "10b3880e-a3a6-4158-87fc-a613cc31d9a1",
   "metadata": {
    "tags": []
   },
   "source": [
    "### Extra Trees Model"
   ]
  },
  {
   "cell_type": "code",
   "execution_count": 49,
   "id": "9ff93754-93e4-4ec8-b70e-72289b748ffd",
   "metadata": {
    "tags": []
   },
   "outputs": [
    {
     "data": {
      "text/html": [
       "<style>#sk-container-id-10 {color: black;}#sk-container-id-10 pre{padding: 0;}#sk-container-id-10 div.sk-toggleable {background-color: white;}#sk-container-id-10 label.sk-toggleable__label {cursor: pointer;display: block;width: 100%;margin-bottom: 0;padding: 0.3em;box-sizing: border-box;text-align: center;}#sk-container-id-10 label.sk-toggleable__label-arrow:before {content: \"▸\";float: left;margin-right: 0.25em;color: #696969;}#sk-container-id-10 label.sk-toggleable__label-arrow:hover:before {color: black;}#sk-container-id-10 div.sk-estimator:hover label.sk-toggleable__label-arrow:before {color: black;}#sk-container-id-10 div.sk-toggleable__content {max-height: 0;max-width: 0;overflow: hidden;text-align: left;background-color: #f0f8ff;}#sk-container-id-10 div.sk-toggleable__content pre {margin: 0.2em;color: black;border-radius: 0.25em;background-color: #f0f8ff;}#sk-container-id-10 input.sk-toggleable__control:checked~div.sk-toggleable__content {max-height: 200px;max-width: 100%;overflow: auto;}#sk-container-id-10 input.sk-toggleable__control:checked~label.sk-toggleable__label-arrow:before {content: \"▾\";}#sk-container-id-10 div.sk-estimator input.sk-toggleable__control:checked~label.sk-toggleable__label {background-color: #d4ebff;}#sk-container-id-10 div.sk-label input.sk-toggleable__control:checked~label.sk-toggleable__label {background-color: #d4ebff;}#sk-container-id-10 input.sk-hidden--visually {border: 0;clip: rect(1px 1px 1px 1px);clip: rect(1px, 1px, 1px, 1px);height: 1px;margin: -1px;overflow: hidden;padding: 0;position: absolute;width: 1px;}#sk-container-id-10 div.sk-estimator {font-family: monospace;background-color: #f0f8ff;border: 1px dotted black;border-radius: 0.25em;box-sizing: border-box;margin-bottom: 0.5em;}#sk-container-id-10 div.sk-estimator:hover {background-color: #d4ebff;}#sk-container-id-10 div.sk-parallel-item::after {content: \"\";width: 100%;border-bottom: 1px solid gray;flex-grow: 1;}#sk-container-id-10 div.sk-label:hover label.sk-toggleable__label {background-color: #d4ebff;}#sk-container-id-10 div.sk-serial::before {content: \"\";position: absolute;border-left: 1px solid gray;box-sizing: border-box;top: 0;bottom: 0;left: 50%;z-index: 0;}#sk-container-id-10 div.sk-serial {display: flex;flex-direction: column;align-items: center;background-color: white;padding-right: 0.2em;padding-left: 0.2em;position: relative;}#sk-container-id-10 div.sk-item {position: relative;z-index: 1;}#sk-container-id-10 div.sk-parallel {display: flex;align-items: stretch;justify-content: center;background-color: white;position: relative;}#sk-container-id-10 div.sk-item::before, #sk-container-id-10 div.sk-parallel-item::before {content: \"\";position: absolute;border-left: 1px solid gray;box-sizing: border-box;top: 0;bottom: 0;left: 50%;z-index: -1;}#sk-container-id-10 div.sk-parallel-item {display: flex;flex-direction: column;z-index: 1;position: relative;background-color: white;}#sk-container-id-10 div.sk-parallel-item:first-child::after {align-self: flex-end;width: 50%;}#sk-container-id-10 div.sk-parallel-item:last-child::after {align-self: flex-start;width: 50%;}#sk-container-id-10 div.sk-parallel-item:only-child::after {width: 0;}#sk-container-id-10 div.sk-dashed-wrapped {border: 1px dashed gray;margin: 0 0.4em 0.5em 0.4em;box-sizing: border-box;padding-bottom: 0.4em;background-color: white;}#sk-container-id-10 div.sk-label label {font-family: monospace;font-weight: bold;display: inline-block;line-height: 1.2em;}#sk-container-id-10 div.sk-label-container {text-align: center;}#sk-container-id-10 div.sk-container {/* jupyter's `normalize.less` sets `[hidden] { display: none; }` but bootstrap.min.css set `[hidden] { display: none !important; }` so we also need the `!important` here to be able to override the default hidden behavior on the sphinx rendered scikit-learn.org. See: https://github.com/scikit-learn/scikit-learn/issues/21755 */display: inline-block !important;position: relative;}#sk-container-id-10 div.sk-text-repr-fallback {display: none;}</style><div id=\"sk-container-id-10\" class=\"sk-top-container\"><div class=\"sk-text-repr-fallback\"><pre>ExtraTreesClassifier(n_estimators=500, random_state=42)</pre><b>In a Jupyter environment, please rerun this cell to show the HTML representation or trust the notebook. <br />On GitHub, the HTML representation is unable to render, please try loading this page with nbviewer.org.</b></div><div class=\"sk-container\" hidden><div class=\"sk-item\"><div class=\"sk-estimator sk-toggleable\"><input class=\"sk-toggleable__control sk-hidden--visually\" id=\"sk-estimator-id-15\" type=\"checkbox\" checked><label for=\"sk-estimator-id-15\" class=\"sk-toggleable__label sk-toggleable__label-arrow\">ExtraTreesClassifier</label><div class=\"sk-toggleable__content\"><pre>ExtraTreesClassifier(n_estimators=500, random_state=42)</pre></div></div></div></div></div>"
      ],
      "text/plain": [
       "ExtraTreesClassifier(n_estimators=500, random_state=42)"
      ]
     },
     "execution_count": 49,
     "metadata": {},
     "output_type": "execute_result"
    }
   ],
   "source": [
    "# Extra Trees\n",
    "\n",
    "et = ExtraTreesClassifier(n_estimators=500, random_state=42)\n",
    "et.fit(X_train_transformed, y_train)"
   ]
  },
  {
   "cell_type": "code",
   "execution_count": 50,
   "id": "32a4a24e-7228-4309-8aad-15fae9c9d4af",
   "metadata": {
    "tags": []
   },
   "outputs": [
    {
     "name": "stdout",
     "output_type": "stream",
     "text": [
      "1.0\n",
      "0.9927831816755569\n"
     ]
    }
   ],
   "source": [
    "print(et.score(X_train_transformed, y_train))\n",
    "print(et.score(X_test_transformed, y_test))"
   ]
  },
  {
   "cell_type": "code",
   "execution_count": 95,
   "id": "1b7414e8-8693-4e15-bee4-cbc7ca8ae594",
   "metadata": {
    "tags": []
   },
   "outputs": [
    {
     "data": {
      "image/png": "[encoded data removed]",
      "text/plain": [
       "<Figure size 640x480 with 2 Axes>"
      ]
     },
     "metadata": {},
     "output_type": "display_data"
    }
   ],
   "source": [
    "# Get predictions\n",
    "et_preds = et.predict(X_test_transformed)\n",
    "\n",
    "# View confusion matrix\n",
    "ConfusionMatrixDisplay.from_predictions(y_test, et_preds, cmap='Blues');"
   ]
  },
  {
   "cell_type": "code",
   "execution_count": 59,
   "id": "282159d8-16b8-42ec-8b64-e6e06e4520ce",
   "metadata": {
    "tags": []
   },
   "outputs": [],
   "source": [
    "feature_importances= et.feature_importances_"
   ]
  },
  {
   "cell_type": "code",
   "execution_count": 58,
   "id": "e16d7c8f-fa0e-49ba-ad42-9a34e6e356d6",
   "metadata": {
    "tags": []
   },
   "outputs": [],
   "source": [
    "feature =tvec.get_feature_names_out()"
   ]
  },
  {
   "cell_type": "code",
   "execution_count": 54,
   "id": "0b497f50-b01b-437c-b080-e4574751af70",
   "metadata": {
    "tags": []
   },
   "outputs": [],
   "source": [
    "X_train_df = pd.DataFrame(X_train_transformed)"
   ]
  },
  {
   "cell_type": "code",
   "execution_count": 60,
   "id": "33bd80f5-c670-4d6f-9278-327e02e58f22",
   "metadata": {
    "tags": []
   },
   "outputs": [
    {
     "data": {
      "text/html": [
       "<div>\n",
       "<style scoped>\n",
       "    .dataframe tbody tr th:only-of-type {\n",
       "        vertical-align: middle;\n",
       "    }\n",
       "\n",
       "    .dataframe tbody tr th {\n",
       "        vertical-align: top;\n",
       "    }\n",
       "\n",
       "    .dataframe thead th {\n",
       "        text-align: right;\n",
       "    }\n",
       "</style>\n",
       "<table border=\"1\" class=\"dataframe\">\n",
       "  <thead>\n",
       "    <tr style=\"text-align: right;\">\n",
       "      <th></th>\n",
       "      <th>feature</th>\n",
       "      <th>importance</th>\n",
       "    </tr>\n",
       "  </thead>\n",
       "  <tbody>\n",
       "    <tr>\n",
       "      <th>3007</th>\n",
       "      <td>camping</td>\n",
       "      <td>0.038415</td>\n",
       "    </tr>\n",
       "    <tr>\n",
       "      <th>6851</th>\n",
       "      <td>https</td>\n",
       "      <td>0.009212</td>\n",
       "    </tr>\n",
       "    <tr>\n",
       "      <th>14262</th>\n",
       "      <td>weight</td>\n",
       "      <td>0.008542</td>\n",
       "    </tr>\n",
       "    <tr>\n",
       "      <th>3534</th>\n",
       "      <td>com</td>\n",
       "      <td>0.008297</td>\n",
       "    </tr>\n",
       "    <tr>\n",
       "      <th>2997</th>\n",
       "      <td>camp</td>\n",
       "      <td>0.008024</td>\n",
       "    </tr>\n",
       "    <tr>\n",
       "      <th>3066</th>\n",
       "      <td>car</td>\n",
       "      <td>0.005231</td>\n",
       "    </tr>\n",
       "    <tr>\n",
       "      <th>13352</th>\n",
       "      <td>trail</td>\n",
       "      <td>0.004645</td>\n",
       "    </tr>\n",
       "    <tr>\n",
       "      <th>13607</th>\n",
       "      <td>ul</td>\n",
       "      <td>0.004459</td>\n",
       "    </tr>\n",
       "    <tr>\n",
       "      <th>2208</th>\n",
       "      <td>backpacking</td>\n",
       "      <td>0.004275</td>\n",
       "    </tr>\n",
       "    <tr>\n",
       "      <th>13626</th>\n",
       "      <td>ultralight</td>\n",
       "      <td>0.004187</td>\n",
       "    </tr>\n",
       "    <tr>\n",
       "      <th>7896</th>\n",
       "      <td>lighterpack</td>\n",
       "      <td>0.004186</td>\n",
       "    </tr>\n",
       "    <tr>\n",
       "      <th>3001</th>\n",
       "      <td>campers</td>\n",
       "      <td>0.004042</td>\n",
       "    </tr>\n",
       "    <tr>\n",
       "      <th>12295</th>\n",
       "      <td>spot</td>\n",
       "      <td>0.004005</td>\n",
       "    </tr>\n",
       "    <tr>\n",
       "      <th>3005</th>\n",
       "      <td>campground</td>\n",
       "      <td>0.003937</td>\n",
       "    </tr>\n",
       "    <tr>\n",
       "      <th>9585</th>\n",
       "      <td>park</td>\n",
       "      <td>0.003734</td>\n",
       "    </tr>\n",
       "    <tr>\n",
       "      <th>10495</th>\n",
       "      <td>quilt</td>\n",
       "      <td>0.003715</td>\n",
       "    </tr>\n",
       "    <tr>\n",
       "      <th>3013</th>\n",
       "      <td>campsite</td>\n",
       "      <td>0.003573</td>\n",
       "    </tr>\n",
       "    <tr>\n",
       "      <th>12394</th>\n",
       "      <td>state</td>\n",
       "      <td>0.003548</td>\n",
       "    </tr>\n",
       "    <tr>\n",
       "      <th>7377</th>\n",
       "      <td>jacket</td>\n",
       "      <td>0.003527</td>\n",
       "    </tr>\n",
       "    <tr>\n",
       "      <th>6692</th>\n",
       "      <td>hiking</td>\n",
       "      <td>0.003490</td>\n",
       "    </tr>\n",
       "    <tr>\n",
       "      <th>12987</th>\n",
       "      <td>tent</td>\n",
       "      <td>0.003368</td>\n",
       "    </tr>\n",
       "    <tr>\n",
       "      <th>14539</th>\n",
       "      <td>www</td>\n",
       "      <td>0.003175</td>\n",
       "    </tr>\n",
       "    <tr>\n",
       "      <th>6073</th>\n",
       "      <td>gear</td>\n",
       "      <td>0.003141</td>\n",
       "    </tr>\n",
       "    <tr>\n",
       "      <th>6686</th>\n",
       "      <td>hike</td>\n",
       "      <td>0.002967</td>\n",
       "    </tr>\n",
       "    <tr>\n",
       "      <th>9479</th>\n",
       "      <td>pack</td>\n",
       "      <td>0.002921</td>\n",
       "    </tr>\n",
       "  </tbody>\n",
       "</table>\n",
       "</div>"
      ],
      "text/plain": [
       "           feature  importance\n",
       "3007       camping    0.038415\n",
       "6851         https    0.009212\n",
       "14262       weight    0.008542\n",
       "3534           com    0.008297\n",
       "2997          camp    0.008024\n",
       "3066           car    0.005231\n",
       "13352        trail    0.004645\n",
       "13607           ul    0.004459\n",
       "2208   backpacking    0.004275\n",
       "13626   ultralight    0.004187\n",
       "7896   lighterpack    0.004186\n",
       "3001       campers    0.004042\n",
       "12295         spot    0.004005\n",
       "3005    campground    0.003937\n",
       "9585          park    0.003734\n",
       "10495        quilt    0.003715\n",
       "3013      campsite    0.003573\n",
       "12394        state    0.003548\n",
       "7377        jacket    0.003527\n",
       "6692        hiking    0.003490\n",
       "12987         tent    0.003368\n",
       "14539          www    0.003175\n",
       "6073          gear    0.003141\n",
       "6686          hike    0.002967\n",
       "9479          pack    0.002921"
      ]
     },
     "execution_count": 60,
     "metadata": {},
     "output_type": "execute_result"
    }
   ],
   "source": [
    "feature_importance_df = pd.DataFrame({\n",
    "    'feature': tvec.get_feature_names_out(),\n",
    "    'importance': et.feature_importances_\n",
    "}).sort_values('importance', ascending=False)\n",
    "\n",
    "feature_importance_df.head(25)"
   ]
  },
  {
   "cell_type": "code",
   "execution_count": 7,
   "id": "a7496e80-e09d-4525-b180-2c6642781854",
   "metadata": {
    "tags": []
   },
   "outputs": [],
   "source": [
    "sc = StandardScaler()\n",
    "X_train_sc = sc.fit_transform(X_train_transformed.toarray())\n",
    "X_test_sc = sc.transform(X_test_transformed.toarray())"
   ]
  },
  {
   "cell_type": "code",
   "execution_count": 7,
   "id": "788918f0-8963-44b6-aae1-fad6acf07f48",
   "metadata": {
    "tags": []
   },
   "outputs": [],
   "source": [
    "pgrid = {\"C\": np.linspace(0.0001, 1, 5)}"
   ]
  },
  {
   "cell_type": "code",
   "execution_count": 31,
   "id": "d1c39a10-4bba-426e-9dc1-de5a32379d34",
   "metadata": {
    "tags": []
   },
   "outputs": [],
   "source": [
    "# Instantiate and fit a gridsearch model for this SVC!\n",
    "\n",
    "svc = LinearSVC(C=.1, dual='auto', tol=.00001, max_iter=2000)\n",
    "\n",
    "#kf = KFold(n_splits=5, shuffle=True, random_state=2023)\n",
    "\n",
    "#gs = GridSearchCV(svc, pgrid, cv=kf, n_jobs=2)"
   ]
  },
  {
   "cell_type": "code",
   "execution_count": 32,
   "id": "397b61e5-f3a4-4dae-af6a-3bb9c1acef18",
   "metadata": {
    "tags": []
   },
   "outputs": [
    {
     "name": "stdout",
     "output_type": "stream",
     "text": [
      "CPU times: total: 7min 23s\n",
      "Wall time: 12min 20s\n"
     ]
    },
    {
     "name": "stderr",
     "output_type": "stream",
     "text": [
      "C:\\Users\\kaitl\\anaconda3\\Lib\\site-packages\\sklearn\\svm\\_base.py:1242: ConvergenceWarning: Liblinear failed to converge, increase the number of iterations.\n",
      "  warnings.warn(\n"
     ]
    },
    {
     "data": {
      "text/html": [
       "<style>#sk-container-id-6 {color: black;}#sk-container-id-6 pre{padding: 0;}#sk-container-id-6 div.sk-toggleable {background-color: white;}#sk-container-id-6 label.sk-toggleable__label {cursor: pointer;display: block;width: 100%;margin-bottom: 0;padding: 0.3em;box-sizing: border-box;text-align: center;}#sk-container-id-6 label.sk-toggleable__label-arrow:before {content: \"▸\";float: left;margin-right: 0.25em;color: #696969;}#sk-container-id-6 label.sk-toggleable__label-arrow:hover:before {color: black;}#sk-container-id-6 div.sk-estimator:hover label.sk-toggleable__label-arrow:before {color: black;}#sk-container-id-6 div.sk-toggleable__content {max-height: 0;max-width: 0;overflow: hidden;text-align: left;background-color: #f0f8ff;}#sk-container-id-6 div.sk-toggleable__content pre {margin: 0.2em;color: black;border-radius: 0.25em;background-color: #f0f8ff;}#sk-container-id-6 input.sk-toggleable__control:checked~div.sk-toggleable__content {max-height: 200px;max-width: 100%;overflow: auto;}#sk-container-id-6 input.sk-toggleable__control:checked~label.sk-toggleable__label-arrow:before {content: \"▾\";}#sk-container-id-6 div.sk-estimator input.sk-toggleable__control:checked~label.sk-toggleable__label {background-color: #d4ebff;}#sk-container-id-6 div.sk-label input.sk-toggleable__control:checked~label.sk-toggleable__label {background-color: #d4ebff;}#sk-container-id-6 input.sk-hidden--visually {border: 0;clip: rect(1px 1px 1px 1px);clip: rect(1px, 1px, 1px, 1px);height: 1px;margin: -1px;overflow: hidden;padding: 0;position: absolute;width: 1px;}#sk-container-id-6 div.sk-estimator {font-family: monospace;background-color: #f0f8ff;border: 1px dotted black;border-radius: 0.25em;box-sizing: border-box;margin-bottom: 0.5em;}#sk-container-id-6 div.sk-estimator:hover {background-color: #d4ebff;}#sk-container-id-6 div.sk-parallel-item::after {content: \"\";width: 100%;border-bottom: 1px solid gray;flex-grow: 1;}#sk-container-id-6 div.sk-label:hover label.sk-toggleable__label {background-color: #d4ebff;}#sk-container-id-6 div.sk-serial::before {content: \"\";position: absolute;border-left: 1px solid gray;box-sizing: border-box;top: 0;bottom: 0;left: 50%;z-index: 0;}#sk-container-id-6 div.sk-serial {display: flex;flex-direction: column;align-items: center;background-color: white;padding-right: 0.2em;padding-left: 0.2em;position: relative;}#sk-container-id-6 div.sk-item {position: relative;z-index: 1;}#sk-container-id-6 div.sk-parallel {display: flex;align-items: stretch;justify-content: center;background-color: white;position: relative;}#sk-container-id-6 div.sk-item::before, #sk-container-id-6 div.sk-parallel-item::before {content: \"\";position: absolute;border-left: 1px solid gray;box-sizing: border-box;top: 0;bottom: 0;left: 50%;z-index: -1;}#sk-container-id-6 div.sk-parallel-item {display: flex;flex-direction: column;z-index: 1;position: relative;background-color: white;}#sk-container-id-6 div.sk-parallel-item:first-child::after {align-self: flex-end;width: 50%;}#sk-container-id-6 div.sk-parallel-item:last-child::after {align-self: flex-start;width: 50%;}#sk-container-id-6 div.sk-parallel-item:only-child::after {width: 0;}#sk-container-id-6 div.sk-dashed-wrapped {border: 1px dashed gray;margin: 0 0.4em 0.5em 0.4em;box-sizing: border-box;padding-bottom: 0.4em;background-color: white;}#sk-container-id-6 div.sk-label label {font-family: monospace;font-weight: bold;display: inline-block;line-height: 1.2em;}#sk-container-id-6 div.sk-label-container {text-align: center;}#sk-container-id-6 div.sk-container {/* jupyter's `normalize.less` sets `[hidden] { display: none; }` but bootstrap.min.css set `[hidden] { display: none !important; }` so we also need the `!important` here to be able to override the default hidden behavior on the sphinx rendered scikit-learn.org. See: https://github.com/scikit-learn/scikit-learn/issues/21755 */display: inline-block !important;position: relative;}#sk-container-id-6 div.sk-text-repr-fallback {display: none;}</style><div id=\"sk-container-id-6\" class=\"sk-top-container\"><div class=\"sk-text-repr-fallback\"><pre>LinearSVC(C=0.1, dual=&#x27;auto&#x27;, max_iter=2000, tol=1e-05)</pre><b>In a Jupyter environment, please rerun this cell to show the HTML representation or trust the notebook. <br />On GitHub, the HTML representation is unable to render, please try loading this page with nbviewer.org.</b></div><div class=\"sk-container\" hidden><div class=\"sk-item\"><div class=\"sk-estimator sk-toggleable\"><input class=\"sk-toggleable__control sk-hidden--visually\" id=\"sk-estimator-id-6\" type=\"checkbox\" checked><label for=\"sk-estimator-id-6\" class=\"sk-toggleable__label sk-toggleable__label-arrow\">LinearSVC</label><div class=\"sk-toggleable__content\"><pre>LinearSVC(C=0.1, dual=&#x27;auto&#x27;, max_iter=2000, tol=1e-05)</pre></div></div></div></div></div>"
      ],
      "text/plain": [
       "LinearSVC(C=0.1, dual='auto', max_iter=2000, tol=1e-05)"
      ]
     },
     "execution_count": 32,
     "metadata": {},
     "output_type": "execute_result"
    }
   ],
   "source": [
    "%%time\n",
    "svc.fit(X_train_sc, y_train)"
   ]
  },
  {
   "cell_type": "code",
   "execution_count": 30,
   "id": "1608a370-31bc-4bfe-b3e9-b931b2022ea7",
   "metadata": {
    "tags": []
   },
   "outputs": [
    {
     "data": {
      "text/plain": [
       "0.7267022278004392"
      ]
     },
     "execution_count": 30,
     "metadata": {},
     "output_type": "execute_result"
    }
   ],
   "source": [
    "svc.score(X_test_sc, y_test)"
   ]
  },
  {
   "cell_type": "code",
   "execution_count": 25,
   "id": "1de493c0-bd98-4524-a411-86ea20680ef0",
   "metadata": {
    "tags": []
   },
   "outputs": [
    {
     "data": {
      "image/png": "[encoded data removed]",
      "text/plain": [
       "<Figure size 640x480 with 2 Axes>"
      ]
     },
     "metadata": {},
     "output_type": "display_data"
    }
   ],
   "source": [
    "# Get predictions\n",
    "svc_preds = svc.predict(X_test_sc)\n",
    "\n",
    "# View confusion matrix\n",
    "ConfusionMatrixDisplay.from_predictions(y_test, svc_preds, cmap='Blues');"
   ]
  },
  {
   "cell_type": "code",
   "execution_count": null,
   "id": "2d0e5691-fb83-44b1-808f-ece614dd5e22",
   "metadata": {},
   "outputs": [],
   "source": [
    "#The AdaBoost model\n",
    "ada =AdaBoostClassifier(\n",
    "    DecisionTreeClassifier(max_depth=2),\n",
    "    n_estimators=300\n",
    ")\n",
    "\n",
    "et = ExtraTreesClassifier(n_estimators=500, random_state=42)"
   ]
  },
  {
   "cell_type": "code",
   "execution_count": 71,
   "id": "a31e7510-6ca7-466b-b707-f29a0dfd3005",
   "metadata": {
    "tags": []
   },
   "outputs": [
    {
     "name": "stdout",
     "output_type": "stream",
     "text": [
      "CPU times: total: 1min 31s\n",
      "Wall time: 2min 51s\n"
     ]
    },
    {
     "data": {
      "text/html": [
       "<style>#sk-container-id-13 {color: black;}#sk-container-id-13 pre{padding: 0;}#sk-container-id-13 div.sk-toggleable {background-color: white;}#sk-container-id-13 label.sk-toggleable__label {cursor: pointer;display: block;width: 100%;margin-bottom: 0;padding: 0.3em;box-sizing: border-box;text-align: center;}#sk-container-id-13 label.sk-toggleable__label-arrow:before {content: \"▸\";float: left;margin-right: 0.25em;color: #696969;}#sk-container-id-13 label.sk-toggleable__label-arrow:hover:before {color: black;}#sk-container-id-13 div.sk-estimator:hover label.sk-toggleable__label-arrow:before {color: black;}#sk-container-id-13 div.sk-toggleable__content {max-height: 0;max-width: 0;overflow: hidden;text-align: left;background-color: #f0f8ff;}#sk-container-id-13 div.sk-toggleable__content pre {margin: 0.2em;color: black;border-radius: 0.25em;background-color: #f0f8ff;}#sk-container-id-13 input.sk-toggleable__control:checked~div.sk-toggleable__content {max-height: 200px;max-width: 100%;overflow: auto;}#sk-container-id-13 input.sk-toggleable__control:checked~label.sk-toggleable__label-arrow:before {content: \"▾\";}#sk-container-id-13 div.sk-estimator input.sk-toggleable__control:checked~label.sk-toggleable__label {background-color: #d4ebff;}#sk-container-id-13 div.sk-label input.sk-toggleable__control:checked~label.sk-toggleable__label {background-color: #d4ebff;}#sk-container-id-13 input.sk-hidden--visually {border: 0;clip: rect(1px 1px 1px 1px);clip: rect(1px, 1px, 1px, 1px);height: 1px;margin: -1px;overflow: hidden;padding: 0;position: absolute;width: 1px;}#sk-container-id-13 div.sk-estimator {font-family: monospace;background-color: #f0f8ff;border: 1px dotted black;border-radius: 0.25em;box-sizing: border-box;margin-bottom: 0.5em;}#sk-container-id-13 div.sk-estimator:hover {background-color: #d4ebff;}#sk-container-id-13 div.sk-parallel-item::after {content: \"\";width: 100%;border-bottom: 1px solid gray;flex-grow: 1;}#sk-container-id-13 div.sk-label:hover label.sk-toggleable__label {background-color: #d4ebff;}#sk-container-id-13 div.sk-serial::before {content: \"\";position: absolute;border-left: 1px solid gray;box-sizing: border-box;top: 0;bottom: 0;left: 50%;z-index: 0;}#sk-container-id-13 div.sk-serial {display: flex;flex-direction: column;align-items: center;background-color: white;padding-right: 0.2em;padding-left: 0.2em;position: relative;}#sk-container-id-13 div.sk-item {position: relative;z-index: 1;}#sk-container-id-13 div.sk-parallel {display: flex;align-items: stretch;justify-content: center;background-color: white;position: relative;}#sk-container-id-13 div.sk-item::before, #sk-container-id-13 div.sk-parallel-item::before {content: \"\";position: absolute;border-left: 1px solid gray;box-sizing: border-box;top: 0;bottom: 0;left: 50%;z-index: -1;}#sk-container-id-13 div.sk-parallel-item {display: flex;flex-direction: column;z-index: 1;position: relative;background-color: white;}#sk-container-id-13 div.sk-parallel-item:first-child::after {align-self: flex-end;width: 50%;}#sk-container-id-13 div.sk-parallel-item:last-child::after {align-self: flex-start;width: 50%;}#sk-container-id-13 div.sk-parallel-item:only-child::after {width: 0;}#sk-container-id-13 div.sk-dashed-wrapped {border: 1px dashed gray;margin: 0 0.4em 0.5em 0.4em;box-sizing: border-box;padding-bottom: 0.4em;background-color: white;}#sk-container-id-13 div.sk-label label {font-family: monospace;font-weight: bold;display: inline-block;line-height: 1.2em;}#sk-container-id-13 div.sk-label-container {text-align: center;}#sk-container-id-13 div.sk-container {/* jupyter's `normalize.less` sets `[hidden] { display: none; }` but bootstrap.min.css set `[hidden] { display: none !important; }` so we also need the `!important` here to be able to override the default hidden behavior on the sphinx rendered scikit-learn.org. See: https://github.com/scikit-learn/scikit-learn/issues/21755 */display: inline-block !important;position: relative;}#sk-container-id-13 div.sk-text-repr-fallback {display: none;}</style><div id=\"sk-container-id-13\" class=\"sk-top-container\"><div class=\"sk-text-repr-fallback\"><pre>VotingClassifier(estimators=[(&#x27;ada&#x27;,\n",
       "                              AdaBoostClassifier(estimator=DecisionTreeClassifier(max_depth=2),\n",
       "                                                 n_estimators=300)),\n",
       "                             (&#x27;et&#x27;,\n",
       "                              ExtraTreesClassifier(n_estimators=500,\n",
       "                                                   random_state=42))])</pre><b>In a Jupyter environment, please rerun this cell to show the HTML representation or trust the notebook. <br />On GitHub, the HTML representation is unable to render, please try loading this page with nbviewer.org.</b></div><div class=\"sk-container\" hidden><div class=\"sk-item sk-dashed-wrapped\"><div class=\"sk-label-container\"><div class=\"sk-label sk-toggleable\"><input class=\"sk-toggleable__control sk-hidden--visually\" id=\"sk-estimator-id-21\" type=\"checkbox\" ><label for=\"sk-estimator-id-21\" class=\"sk-toggleable__label sk-toggleable__label-arrow\">VotingClassifier</label><div class=\"sk-toggleable__content\"><pre>VotingClassifier(estimators=[(&#x27;ada&#x27;,\n",
       "                              AdaBoostClassifier(estimator=DecisionTreeClassifier(max_depth=2),\n",
       "                                                 n_estimators=300)),\n",
       "                             (&#x27;et&#x27;,\n",
       "                              ExtraTreesClassifier(n_estimators=500,\n",
       "                                                   random_state=42))])</pre></div></div></div><div class=\"sk-parallel\"><div class=\"sk-parallel-item\"><div class=\"sk-item\"><div class=\"sk-label-container\"><div class=\"sk-label sk-toggleable\"><label>ada</label></div></div><div class=\"sk-serial\"><div class=\"sk-item sk-dashed-wrapped\"><div class=\"sk-parallel\"><div class=\"sk-parallel-item\"><div class=\"sk-item\"><div class=\"sk-label-container\"><div class=\"sk-label sk-toggleable\"><input class=\"sk-toggleable__control sk-hidden--visually\" id=\"sk-estimator-id-22\" type=\"checkbox\" ><label for=\"sk-estimator-id-22\" class=\"sk-toggleable__label sk-toggleable__label-arrow\">estimator: DecisionTreeClassifier</label><div class=\"sk-toggleable__content\"><pre>DecisionTreeClassifier(max_depth=2)</pre></div></div></div><div class=\"sk-serial\"><div class=\"sk-item\"><div class=\"sk-estimator sk-toggleable\"><input class=\"sk-toggleable__control sk-hidden--visually\" id=\"sk-estimator-id-23\" type=\"checkbox\" ><label for=\"sk-estimator-id-23\" class=\"sk-toggleable__label sk-toggleable__label-arrow\">DecisionTreeClassifier</label><div class=\"sk-toggleable__content\"><pre>DecisionTreeClassifier(max_depth=2)</pre></div></div></div></div></div></div></div></div></div></div></div><div class=\"sk-parallel-item\"><div class=\"sk-item\"><div class=\"sk-label-container\"><div class=\"sk-label sk-toggleable\"><label>et</label></div></div><div class=\"sk-serial\"><div class=\"sk-item\"><div class=\"sk-estimator sk-toggleable\"><input class=\"sk-toggleable__control sk-hidden--visually\" id=\"sk-estimator-id-24\" type=\"checkbox\" ><label for=\"sk-estimator-id-24\" class=\"sk-toggleable__label sk-toggleable__label-arrow\">ExtraTreesClassifier</label><div class=\"sk-toggleable__content\"><pre>ExtraTreesClassifier(n_estimators=500, random_state=42)</pre></div></div></div></div></div></div></div></div></div></div>"
      ],
      "text/plain": [
       "VotingClassifier(estimators=[('ada',\n",
       "                              AdaBoostClassifier(estimator=DecisionTreeClassifier(max_depth=2),\n",
       "                                                 n_estimators=300)),\n",
       "                             ('et',\n",
       "                              ExtraTreesClassifier(n_estimators=500,\n",
       "                                                   random_state=42))])"
      ]
     },
     "execution_count": 71,
     "metadata": {},
     "output_type": "execute_result"
    }
   ],
   "source": [
    "%%time\n",
    "vc = VotingClassifier([\n",
    "    ('ada', ada),\n",
    "    ('et', et),\n",
    "], voting='hard')\n",
    "\n",
    "vc.fit(X_train_transformed, y_train)"
   ]
  },
  {
   "cell_type": "code",
   "execution_count": 72,
   "id": "fbc99d67-3a81-4702-8c34-c292ce38ca10",
   "metadata": {
    "tags": []
   },
   "outputs": [
    {
     "name": "stdout",
     "output_type": "stream",
     "text": [
      "1.0\n",
      "0.996862252902416\n"
     ]
    }
   ],
   "source": [
    "print(vc.score(X_train_transformed, y_train))\n",
    "\n",
    "print(vc.score(X_test_transformed, y_test))"
   ]
  },
  {
   "cell_type": "code",
   "execution_count": 73,
   "id": "a1a74caf-f488-4aeb-90be-761d660e7db4",
   "metadata": {
    "tags": []
   },
   "outputs": [
    {
     "data": {
      "image/png": "[encoded data removed]",
      "text/plain": [
       "<Figure size 640x480 with 2 Axes>"
      ]
     },
     "metadata": {},
     "output_type": "display_data"
    }
   ],
   "source": [
    "# Get predictions\n",
    "vc_preds = vc.predict(X_test_transformed)\n",
    "\n",
    "# View confusion matrix\n",
    "ConfusionMatrixDisplay.from_predictions(y_test, vc_preds, cmap='Blues');"
   ]
  },
  {
   "cell_type": "markdown",
   "id": "c631cb6f-4ea5-4654-92b5-ecdd8cd22a16",
   "metadata": {},
   "source": [
    "# Examining the misclassified"
   ]
  },
  {
   "cell_type": "markdown",
   "id": "b13ca1c8-1c16-4585-9f9a-52989f783c3c",
   "metadata": {},
   "source": []
  },
  {
   "cell_type": "code",
   "execution_count": 100,
   "id": "902d758e-5876-473b-848c-7454c66b92b2",
   "metadata": {
    "tags": []
   },
   "outputs": [
    {
     "name": "stdout",
     "output_type": "stream",
     "text": [
      "Predicted: 1 - Actual: 0\n",
      "https://www.reddit.com/r/campingwithkids/\n",
      "Please contribute. If anyone wants to be a moderator, please join. \n",
      "\n",
      "Predicted: 1 - Actual: 0\n",
      "https://www.reddit.com/r/CampingGear/comments/141twlo/should_rcampinggear_close_for_two_days_to_protest/\n",
      "\n",
      "We are voting on this over at r/campinggear and the support is currently strongly in favor. \n",
      "\n",
      "Will the mods of r/camping support this for this subreddit?\n",
      "\n",
      "Predicted: 1 - Actual: 0\n",
      "I have a ton of hiking and camping experience. I've been to almost all state parks and a ton of the national forests. I don't, on the other hand, have much hunting experience. I don't really know where to begin with this, as far as where I should go or what I should bring. I have a decent amount of gear. But, I think, most of it is more applicable to 3-5 day trips. Less long term stuff. I would really love to go to Alaska, because it has the largest national forests, but it is pretty far from where I am, so I think I'd like to stay in the lower 48. \n",
      "  \n",
      "Edit: [I thought you could hunt in national forests](http://www.fs.fed.us/biology/wildlife/hunters.html)\n",
      "\n",
      "Predicted: 1 - Actual: 0\n",
      "Got a large first tent earlier in the year which a darkened bedroom and it is an amazing feature. You sleep so much better when the bright sun is not making your entire living space really bright at the crack of dawn. \n",
      "\n",
      "I've been aiming to get a smaller, lighter tent I can put up myself for solo adventures with my mtb (not necessarily bikepacking, just more time at further away trails without having to pay for a hotel/airbnb every time) and it's quite annoying to find a tent that ticks every box other than having a darkened room.\n",
      "\n",
      "Why aren't more tents like this? I'd have thought it would be an almost standard feature these days. Is it weight? Do most people just prefer to not have a darkened room?\n",
      "\n",
      "I'm considering leaving it until next year to see if more good small tents have this feature.\n",
      "\n",
      "Has anyone here tried DIY darkened bedrooms which I've read a bit about? Is it as much of a pain in the ass as I expect it be? Or even potentially trying to size up another tents bedroom with a darkened bedroom and buying that as a replacement part? I know there's the option of a sleep mask but it's not quite the same.\n",
      "\n",
      "For what its worth, I was considering the Vango Knoydart 300 for its feature/size/weight, though the closest I can really find to it with a darkened room is a Coleman Chimney Rock 3 Plus which is considerably heavier (and larger).\n",
      "\n",
      "Predicted: 1 - Actual: 0\n",
      "I got this idea from someone else using ChatGPT for custom meal planing. I am not good at cooking and have not tried this yet, but it sounds great! Here are ChatGPT's ideas:\n",
      "\n",
      "&#x200B;\n",
      "\n",
      "**Truffle Mushroom Risotto:**\n",
      "\n",
      "Turn your camping pot into a vessel for a creamy and luxurious risotto.\n",
      "\n",
      "* Ingredients: Arborio rice, vegetable broth, dried wild mushrooms (porcini or shiitake), fresh mushrooms (cremini or portobello), truffle oil, white wine, shallots (finely chopped), garlic (minced), butter, Parmesan cheese, salt, and pepper.\n",
      "* Instructions: Rehydrate the dried mushrooms in hot water. In the pot, sauté shallots and garlic in butter until fragrant. Add Arborio rice and toast for a minute. Deglaze with white wine and allow it to absorb. Gradually add vegetable broth, stirring constantly until the rice is creamy and cooked. Sauté fresh mushrooms separately and add to the risotto. Stir in the rehydrated mushrooms, a drizzle of truffle oil, and grated Parmesan cheese. Season with salt and pepper to taste.\n",
      "\n",
      "&#x200B;\n",
      "\n",
      "**Lemon Herb Salmon with Couscous:**\n",
      "\n",
      "Impress yourself with a flavorful salmon dish accompanied by fluffy couscous.\n",
      "\n",
      "* Ingredients: Salmon fillet, lemon, fresh herbs (such as dill and thyme), couscous, vegetable broth, butter, asparagus spears, salt, and pepper.\n",
      "* Instructions: Season the salmon fillet with salt, pepper, and lemon zest. In the pot, melt butter and sear the salmon until cooked through. Remove and set aside. In the same pot, bring vegetable broth to a boil and add couscous. Remove from heat, cover, and let it steam. Meanwhile, blanch asparagus in boiling water. Fluff the couscous with a fork and stir in fresh herbs. Serve the salmon on a bed of couscous with asparagus on the side.\n",
      "\n",
      "&#x200B;\n",
      "\n",
      "**Coq au Vin Inspired Chicken Stew:**\n",
      "\n",
      "Transform your pot into a rustic French-inspired chicken stew.\n",
      "\n",
      "* Ingredients: Chicken thighs, red wine, pearl onions, mushrooms, carrots, chicken broth, bacon strips (optional), garlic, thyme, bay leaf, flour, butter, salt, and pepper.\n",
      "* Instructions: In the pot, cook bacon until crispy. Remove and set aside. Brown chicken thighs in bacon fat. Remove chicken and sauté pearl onions, mushrooms, and carrots until slightly caramelized. Add minced garlic and a sprinkle of flour. Stir to create a roux. Deglaze with red wine and let it reduce. Add chicken broth, thyme, and bay leaf. Return chicken and bacon to the pot. Simmer until chicken is tender and flavors meld.\n",
      "\n",
      "&#x200B;\n",
      "\n",
      "**Berry-Pecan Breakfast Quinoa:**\n",
      "\n",
      "Start your day with a gourmet breakfast quinoa bowl.\n",
      "\n",
      "* Ingredients: Quinoa, almond milk, mixed berries (blueberries, raspberries), toasted pecans, honey, vanilla extract, nutmeg, and a sprinkle of edible flowers (optional).\n",
      "* Instructions: Cook quinoa in almond milk for added creaminess. Stir in vanilla extract and a pinch of nutmeg. Serve in bowls, topped with mixed berries, toasted pecans, a drizzle of honey, and edible flowers for a touch of elegance.\n",
      "\n",
      "&#x200B;\n",
      "\n",
      "Remember to pack any specialty ingredients you might need and make sure to follow proper cooking and food safety guidelines while camping. Enjoy your gourmet camping experience!\n",
      "\n",
      "Predicted: 1 - Actual: 0\n",
      "Hello there!\n",
      "\n",
      "For context I, (f) am going on a month long organized backpacking trip. I’m assuming we’re not going to be allowed deodorant. But I’m concerned about smelling bad. I know it’s inevitable but the idea of smelling super bad for an entire month is stressing me out! Does anyone know of any ways I can keep smelling fresh? Is there anything you guys spray on your clothes beforehand? A lightweight way to “shower”? Let me know!\n",
      "\n",
      "Predicted: 1 - Actual: 0\n",
      "Anyone know of any good synthetic ultralight/compact sleeping bags and jackets? I do not use animal products. I have looked at the Enlightened Equipment Prodigy quilt which looks pretty nice. Has anyone used it? Thanks.\n",
      "\n",
      "Predicted: 1 - Actual: 0\n",
      "Edit::: to include this information for clarity.\n",
      "\n",
      "The 2022 model camper came with these batteries. \n",
      "\n",
      "(2) Interstate SRM-27 Deep Cycle Marine/RV. 88AH. 160RC. 750MCA. 12V. They are connected black/black, red/red. \n",
      "\n",
      "The only thing operating is the fridge. And NO, it can not run on propane. It's 12v Electric (it's on a fuse, not a breaker). It's a GE model GPV10FSNBSB. 12VDC, 13.5amps.\n",
      "\n",
      "The inverter is also drawing from the 12v system while in standby mode, so I will try turning that OFF at night.\n",
      "\n",
      "We have the solarflex400i solar panel system (2) 200watt panels and a Xantrex Freedom X2000 inverter. We only use 120v outlets during the day when the panels are operating efficiently. Typically, as the sun sets, our batteries are at full capacity\n",
      "\n",
      ":::::\n",
      "\n",
      "\n",
      "We have a Keystone Bullet with two deep cycle lead acid batteries. They are connected by jumper wires. When boondocking, we use the installed solar panels and inverter to power the 120v system, but the water pump, refrigerator, cabin lights, slide out, awning, power jack and power stabilizers all run on 12v. \n",
      "\n",
      "The battery is fully charged at the end of the day, but by morning, the fridge is warm, freezer is thawed and the lights flicker. The water pump is sluggish. \n",
      "\n",
      "We can monitor the battery system and solar panels by apps, and the battery app will indicate slow but steady drops as soon as the solar panels are done working for the day. It also shows the amount of useage, and calculates how long the system will operate without being recharged. One thing I noticed was that it suggested a \"remaining useage time\" of roughly 10 hours. This would explain why by 7am, our fridge is getting warm and nothing works, but it doesn't explain why, and what could possibly be draining those batteries so quickly?!?!\n",
      "\n",
      "Do we seriously need to move to Lithium batteries to boondock overnight? That doesn't seem right to me? All lights are off. No appliances are plugged in. The water pump is off. \n",
      "\n",
      "I've checked nealy every rv thread online, been to the manufacturers website and even talked to customer support. It's all circular talk with no solutions. The dealer will charge us $175/hr to evaluate, but they couldn't guarantee that they could discover the problem in an 8 hour day...\n",
      "\n",
      "So, here I am, looking for the free advice.\n",
      "\n",
      "Thanks, in advance.\n",
      "\n",
      "Predicted: 1 - Actual: 0\n",
      "This is the best stove I have ever use.\n",
      "\n",
      "Only $17.99, present price is $19.99, promo code: XSUT262P (save $2), expires on 04/27/2015 11:59 PM PDT.\n",
      "1.It is ultralight and foldable, easy to carry and easy to set up. Ideal for camping, backpacking, long-time trip\n",
      "\n",
      "2.Strong & Sturdy: Made of aluminum alloy and stainless steel, with low center of gravity and wide base, can stand high temperature and weight(max: 6kg). The stove top with anti-slip design can accommodate up to a 30cm diameter pan in a sturdy way.\n",
      "\n",
      "3.Efficient & Easy: No need to use stove windscreen. Boil 2 pints of water in 6 minutes. The valve is designed to adjust the flame from full roar to a low simmer. The efficient flame can make a disposable butane canister last for days.\n",
      "\n",
      "4.Safe & Compatible: The stainless steel mesh gas host is 11\"(28cm). It is safe and easy to connect with the fuel canister. Use with straight butane or butane-propane mixed fuel canisters with threaded 7/16 NS Lindal Valve (EN417).\n",
      "\n",
      "5.Quick to Ignite: Piezoelectric Ceramic Ignition can be fired up each and every time. It can be used up to 1-1.2 million times.\n",
      "http://www.amazon.com/Dpower-Ultralight-Backpacking-Gas-powered-Ignition/dp/B00PW7HL8A/ref=sr_1_cc_1?s=aps&ie=UTF8&qid=1428400713&sr=1-1-catcorr&keywords=DPOWER+mini+camping+stove\n",
      "\n",
      "Predicted: 1 - Actual: 0\n",
      " I was thinking of using Google Fi unlimited plan but from what I've heard after certain data limits it'll slow down after a certain a certain point...\n",
      "\n",
      "Predicted: 1 - Actual: 0\n",
      "I'm going to go hunting for the week but I only have a tent. I don't know how to keep it comfortably warm in freezing temperatures (not including wind chill). \n",
      "\n",
      "Right now I figured I'll light a fire where I want my tent, warm up the rocks it's going to be on, then after the fire completely dies, put some hay down between the rocks and the tent, then between they hay, a thick blanket. Then have the tent on top of that.\n",
      "\n",
      "For the tent itself I'm thinking of putting a blanket over top of it and having one inside on the floor. Over top of the tent and blanket, a tarp to hold the blanket down and to add a little more insulation. \n",
      "\n",
      "I 5gal jug of hot water wrapped in foil and a blanket is reserve heat and to heat up the whole tent.\n",
      "\n",
      "For sleeping I figure a sleeping bag wrapped in a blanket and a blanket on the inside is my best bet.\n",
      "\n",
      "Note: both my sleeping bag and tent are pretty cheap and not made for supper cold weather. I'm also thinking of some half warmers incase of emergency but I'm looking for a cheap option. I'm going tomorrow and didn't think of asking y'all until just now.\n",
      "\n",
      "Note 2: I don't have a budget. I have alot of everything I said about accept for the hand warmers, I have 4.\n",
      "\n",
      "Predicted: 1 - Actual: 0\n",
      "For clarification: last year my friends and I started a capture the flag version involving airsoft. Except now we're trying to take it to a much larger scale, we're thinking of an area 8 miles long 1.5 miles wide, boundaries aren't really strict though. We're looking at central to northern NH rn. We basically play from 10-6pm and then chill super hard at a common camp. It's a cool time, we sit around a fire, music, food, etc. It'll be going on for like 3 days and people are welcome to come and go as they please. We do a tag based system to take people out. We're looking for as many people as possible, all in all its a cool time and is great if you love camping, CTF, and/or airsoft\n",
      "PM me if have any questions\n",
      "\n",
      "Predicted: 1 - Actual: 0\n",
      "Hi everyone, I'm looking at investing into a single ensuite tent.\n",
      "\n",
      "Currently looking at the OZtrail fast frame and the Coleman single instant on Tentworld.\n",
      "\n",
      "I can't seem to choose between them, the OZtrail is $20 cheaper. Both brands are reputable in my opinion through usage of other products of theirs. \n",
      "\n",
      "Anyone able to weigh in with experience from either?\n",
      "\n",
      "Cheers!\n",
      "\n",
      "Predicted: 1 - Actual: 0\n",
      "This group is amazing.  I shared in the \"What do you consider Glamping\" [https://www.reddit.com/r/camping/comments/11m0m99/comment/jbiiz8o/?context=3](https://www.reddit.com/r/camping/comments/11m0m99/comment/jbiiz8o/?context=3) thread yesterday about our transformation through the years as my wife's (mostly) health suffered.  417 (so far) up votes and not one negative.  I was reluctant to post as I was criticized on another forum and told to either stay home or at a hotel as we were part of the problems people have to put up with while camping.  Thank you for being understanding!  \n",
      "\n",
      "Predicted: 1 - Actual: 0\n",
      "Just getting back to my roots camping when I was younger , want to put 600 or so in gear as I haven't camped since I lived in ny and dont have any gear anymore. I love function over form mostly, I'm a tech guy not looking for glamping persay but do intend some devices and a solar panel that can fit in a new backpack, looking for a multi day setup. About 3 days at a time to start. Any suggestions useful, such as places , kit, etc, to start I'm looking at a backpack and a tent and a couple starters , I also have my 4 door sedan for transport. I'm looking at the gregory bags with hydration like the zulo or paragon etc . Would love some boots on the ground ideas. Thanks!\n",
      "\n",
      "Predicted: 1 - Actual: 0\n",
      "Many people are embracing the use of hammocks in their outdoor living and adventures. If you are yet to jump on this bandwagon, let me give you 6 reasons why you need to put a hammock in your backpack next time you are travelling.\n",
      "\n",
      "**1.** **The absolute outdoor relaxation**\n",
      "\n",
      "The hammock gives you a chance to relax outdoors. Using tree-friendly super straps, you can hang it on the beach and enjoy yourself without the bother of the sand getting into your clothes! A peaceful and relaxing nap when hiking in the woods simply requires a quiet place to hang your parachute hammock. \n",
      "\n",
      "**2.** **It has lots of uses**\n",
      "\n",
      "The parachute nylon material that the camping hammock is made up of makes it a versatile item that you should always carry when travelling. It can come in handy wherever you may be. You can use it as a blanket, a picnic mat, a pillow, sunshade or even a backpack cover during light drizzles. \n",
      "\n",
      "**3.** **Offers cheaper accommodation**\n",
      "\n",
      "Having a camping hammock is just like carrying a tent, only much better. Find yourself in a hotel or hostel with no more room? No worry, for a small fee you just need a small space to hang your hammock, and you are good to go! \n",
      "\n",
      "**4. much better sleep**\n",
      "\n",
      "Sleep therapists and doctors advise one to sleep on their back for quality sleep. There is no other way other than this to sleep in a hammock. The gentle swinging of the hammock will relax you and before you know it you are soon asleep! Sleeping in a parachute hammock is also much more comfortable than in a sleeping bag on the hard ground. \n",
      "\n",
      "**5.** **Easily portable**\n",
      "\n",
      "The parachute hammocks are lightweight and fit easily in a bag attached to it. This makes it very portable and can be carried everywhere. Compared to the bother of carrying a sleeping bag, you will love taking your hammock with you.\n",
      "\n",
      "**6.** **Make friends easily**\n",
      "\n",
      "The presence of a hammock surely attracts many people who want to try it out. A double-size hammock will give you a chance to make friends easily and have the joy of sharing with others. For hotel owners, hammocks are sure to pull people who would want to camp in your grounds.\n",
      "\n",
      "Next time your adventure bug hits you, don’t forget to throw in your hammock in the car trunk. You never know when an opportunity will come calling for you to use it. You don’t want to miss that, do you?\n",
      "\n",
      "Predicted: 1 - Actual: 0\n",
      "https://www.reddit.com/r/CampingGear/comments/141twlo/should_rcampinggear_close_for_two_days_to_protest/\n",
      "\n",
      "We are voting on this over at r/campinggear and the support is currently strongly in favor. \n",
      "\n",
      "Will the mods of r/camping support this for this subreddit?\n",
      "\n",
      "Predicted: 1 - Actual: 0\n",
      "I have been seeing a lot of people over the past few years coming up with excellent products that are either an improvement of what was already existing in the camping world (the [coolest](https://www.kickstarter.com/projects/ryangrepper/coolest-cooler-21st-century-cooler-thats-actually), the [wind catcher airpad](http://www.windcatchergear.com/)) or products applying renewable energy sources to old cooking systems (this [gosun grill](http://www.gosunstove.com/products/gosun-sport) is AMAZING). \n",
      "\n",
      "So my question to you, fellow campers around the world is: what products do you wish existed for camping but you can't find? Or what products you wished were better (greener, more efficient, lighter, whatever \"better\" means to you). \n",
      "\n",
      "And: how about we sit down and discuss how to make it and commercialize it together? I am serious. I have done this in the past in other sectors, but motorcycling and the outdoors are my passions, so why not here. \n",
      "\n",
      "Anyone wants to brainstorm with me? \n",
      "\n",
      "Posting this in other subreddits too. If there is enough interest for a serious discussion, I will build an appropriate subforum. Moderators, please let me know if I am violating some rules here...\n",
      "\n",
      "Predicted: 1 - Actual: 0\n",
      "Hi everyone, I'm looking at investing into a single ensuite tent.\n",
      "\n",
      "Currently looking at the OZtrail fast frame and the Coleman single instant on Tentworld.\n",
      "\n",
      "I can't seem to choose between them, the OZtrail is $20 cheaper. Both brands are reputable in my opinion through usage of other products of theirs. \n",
      "\n",
      "Anyone able to weigh in with experience from either?\n",
      "\n",
      "Cheers!\n",
      "\n",
      "Predicted: 1 - Actual: 0\n",
      "Many people are embracing the use of hammocks in their outdoor living and adventures. If you are yet to jump on this bandwagon, let me give you 6 reasons why you need to put a hammock in your backpack next time you are travelling.\n",
      "\n",
      "**1.** **The absolute outdoor relaxation**\n",
      "\n",
      "The hammock gives you a chance to relax outdoors. Using tree-friendly super straps, you can hang it on the beach and enjoy yourself without the bother of the sand getting into your clothes! A peaceful and relaxing nap when hiking in the woods simply requires a quiet place to hang your parachute hammock. \n",
      "\n",
      "**2.** **It has lots of uses**\n",
      "\n",
      "The parachute nylon material that the camping hammock is made up of makes it a versatile item that you should always carry when travelling. It can come in handy wherever you may be. You can use it as a blanket, a picnic mat, a pillow, sunshade or even a backpack cover during light drizzles. \n",
      "\n",
      "**3.** **Offers cheaper accommodation**\n",
      "\n",
      "Having a camping hammock is just like carrying a tent, only much better. Find yourself in a hotel or hostel with no more room? No worry, for a small fee you just need a small space to hang your hammock, and you are good to go! \n",
      "\n",
      "**4. much better sleep**\n",
      "\n",
      "Sleep therapists and doctors advise one to sleep on their back for quality sleep. There is no other way other than this to sleep in a hammock. The gentle swinging of the hammock will relax you and before you know it you are soon asleep! Sleeping in a parachute hammock is also much more comfortable than in a sleeping bag on the hard ground. \n",
      "\n",
      "**5.** **Easily portable**\n",
      "\n",
      "The parachute hammocks are lightweight and fit easily in a bag attached to it. This makes it very portable and can be carried everywhere. Compared to the bother of carrying a sleeping bag, you will love taking your hammock with you.\n",
      "\n",
      "**6.** **Make friends easily**\n",
      "\n",
      "The presence of a hammock surely attracts many people who want to try it out. A double-size hammock will give you a chance to make friends easily and have the joy of sharing with others. For hotel owners, hammocks are sure to pull people who would want to camp in your grounds.\n",
      "\n",
      "Next time your adventure bug hits you, don’t forget to throw in your hammock in the car trunk. You never know when an opportunity will come calling for you to use it. You don’t want to miss that, do you?\n",
      "\n",
      "Predicted: 1 - Actual: 0\n",
      "Obviously, this wouldn’t be for everyone. But I’ve been thinking about finding alternatives to working my “normal” job and this idea came to mind.\n",
      "\n",
      "I’m super organized and love planning out trips and adventures. I also have tons of experience with camping, hiking, backpacking, and cycling. \n",
      "\n",
      "Would it take stress out of your life if I took care of the little details for you?\n",
      "\n",
      "And the tricky questions I’m trying to figure out: how should I market this idea? How do I find the people who would use this service? I’m guessing most people on this subreddit know how to plan a camping trip and wouldn’t need the help, but I’m willing to bet there are people out there who would love to have assistance.\n",
      "\n",
      "If I did plan a camping trip for you, what kind of help would you want? I could find a campsite that meets your criteria, make the reservation, create packing lists, and provide maps and local info. For a more full-on experience, I could come help you set up camp - if that’s what would help.\n",
      "\n",
      "Anyways, this is very much is the brainstorming phase right now, but I feel like it has potential. Please weigh in and let me know what you think!\n",
      "\n",
      "Predicted: 1 - Actual: 0\n",
      "Every year in the Spring, my boy scout troop goes to this awesome military base for a camping trip. It's not like normal camping trips where we hike or something: We do swimming, golfing, ping pong, and all sorts of awesome stuff. It's consistently one of the best weekends of the year. Most years, despite the awesomeness *something* goes wrong, as they generally do on camping trips. One year I forgot to bring money, another I got really sick... But this one takes the cake.\n",
      "\n",
      "It was the last night of our trip, and our troop decided to play a big game of capture the flag. And I mean **BIG.** It went from a field behind our campsite, the other team's base, through a fairly large forest, past an arcade, and across a big field to a baseball field which was our area. The game went pretty slow, considering our troop is rather small, but it was really fun. About an hour in (it was close to pitch black at this point) while I was playing defense, I saw the entire other team and some of ours running to us. While I was thinking *\"I'm gonna have to play some really good defense,\"* they started yelling at me and another guy who was playing defense to come over. I remember thinking something like *\"Do they think I'm stupid?\"* But after some more yelling we walked over.\n",
      "\n",
      "Turns out that some teenager ran away and was on the run from the cops right around us. Also, the police description of them sounded exactly like me (not relevant, but I was scared shitless). We walked back to the campsite, and we were the only ones out. When we were exactly one campsite over from ours, all hell broke loose. There was suddenly a group of teenagers a few yards away from us, yelling and cussing. Then I see some sort of bright red thing being shot at us from them. I didn't think *\"The hell? Is this related to the guy on the run from the cops?\"* I didn't think *\"What's even happening right now?\"* I just thought ***\"HOLY FUCK THERE ARE FIRECRACKERS BEING SHOT AT US, RUN!\"*** They probably would only have given us minor injuries had they hit us, but it was the scariest, most adrenaline filled moment of my life so I just booked it. Fast forward to when we are back at the campsite, me and another guy are walking to the tents about to go and sleep and he says something to sum it up perfectly.\n",
      "\n",
      "\"I'm fucking done with this camping trip.\"\n",
      "\n",
      "I have no idea if the guy on the run had anything to do with the firecrackers, or why they shot them at us (probably just assholes screwing around). There was also a guy that came to our campsite telling a pretty badass story of how he caught the guy a bit later, but at that point I didn't care. I just wanted to leave.\n",
      "\n",
      "Predicted: 1 - Actual: 0\n",
      "Originally posted in /r/nosleep and made it to front page. \n",
      "I recognized at least one of the stories from a radio show on Coast To Coast AM about [strange disappearances of people in National and State Parks.](http://www.coasttocoastam.com/search/?query=missing+people+parks&search.x=18&search.y=12)\n",
      "\n",
      "Now this guy takes it to another level...\n",
      "\n",
      "part 1:\n",
      "https://www.reddit.com/r/nosleep/comments/3iex1h/im_a_search_and_rescue_officer_for_the_us_forest/?ref=share&ref_source=link\n",
      "\n",
      "part 2:\n",
      "https://www.reddit.com/r/nosleep/comments/3ijnt6/im_a_search_and_rescue_officer_for_the_us_forest/?ref=share&ref_source=link\n",
      "\n",
      "part 3:\n",
      "https://www.reddit.com/r/nosleep/comments/3iocju/im_a_search_and_rescue_officer_for_the_us_forest/?ref=share&ref_source=link\n",
      "\n",
      "(warning: walls of text)\n",
      "\n",
      "There could be something to it; or it could be a conspiracy to scare people out of the woods; or it could just be too many people with too much time on their hands - either way, it's great fodder for some freaky campfire stories on your next trip...\n",
      "\n"
     ]
    }
   ],
   "source": [
    "mismatched_indices = (et_preds != y_test)\n",
    "mismatched_texts = X_test[mismatched_indices]\n",
    "\n",
    "for i, text in enumerate(mismatched_texts):\n",
    "    predicted_label = et_preds[mismatched_indices][i]\n",
    "    true_label = y_test.values[mismatched_indices][i]\n",
    "    print(f\"Predicted: {predicted_label} - Actual: {true_label}\\n{text}\\n\")\n"
   ]
  },
  {
   "cell_type": "markdown",
   "id": "b5f664ba-c761-4564-afd3-55c3108b2bc7",
   "metadata": {},
   "source": [
    "### AdaBoost Model Misclassifications"
   ]
  },
  {
   "cell_type": "code",
   "execution_count": 101,
   "id": "0ee6c53d-d4eb-41e3-aa3d-771b05f6e722",
   "metadata": {
    "tags": []
   },
   "outputs": [
    {
     "name": "stdout",
     "output_type": "stream",
     "text": [
      "Predicted: 0 - Actual: 1\n",
      "With my mind all over the place lately with what's going on I needed to decompress. I cant hike, no trail running, fishing, bla bla bla  as all provincial parks are closed. I know there's worse things going on in the world than my little \"cant hike\"problems so what did I do? I gave 35 years of hiking/camping stuff away to the homeless shelter. It filled a full size van. 8 tents, 12 packs from kids to full expedition, 10 sleeping bags, sleeping pads, mats, coolers, nalgene bottles, stoves with fuel. You name it it was in there. Then I went into my closet. Bags of good clothes from socks to jackets.Every piece of cotton I own went in there plus every piece of technical clothing that I dont wear.  I feel better now. My mind and shop are decluttered and so people will get some much needed things.I reminisced and let go of many things not just gear. Here's a pick of my new go to gear closet. It's a hell of a lot lighter now. Thanks the whole point right?http://imgur.com/a/f47u4CU.\n",
      "\n",
      "Predicted: 1 - Actual: 0\n",
      "I'm from Europe but I'm currently living in east Africa, to be honest I just want to be on my own and see if I can survive in the wild. what I'm asking is; does anyone know of any good spots in Africa for long term camping and living in the wild? looking for a place that has good animals that i can hunt for food, I'm currently staying in Kenya but hunting is illegal here. I'm dead serous guys, this is something I'm been thinking about for the longest time and I'm finally ready to go through with it but I'm having trouble finding a suitable country/place. Thanks\n",
      "\n",
      "Predicted: 1 - Actual: 0\n",
      "https://www.reddit.com/r/campingwithkids/\n",
      "Please contribute. If anyone wants to be a moderator, please join. \n",
      "\n",
      "Predicted: 0 - Actual: 1\n",
      "With my mind all over the place lately with what's going on I needed to decompress. I cant hike, no trail running, fishing, bla bla bla  as all provincial parks are closed. I know there's worse things going on in the world than my little \"cant hike\"problems so what did I do? I gave 35 years of hiking/camping stuff away to the homeless shelter. It filled a full size van. 8 tents, 12 packs from kids to full expedition, 10 sleeping bags, sleeping pads, mats, coolers, nalgene bottles, stoves with fuel. You name it it was in there. Then I went into my closet. Bags of good clothes from socks to jackets.Every piece of cotton I own went in there plus every piece of technical clothing that I dont wear.  I feel better now. My mind and shop are decluttered and so people will get some much needed things.I reminisced and let go of many things not just gear. Here's a pick of my new go to gear closet. It's a hell of a lot lighter now. Thanks the whole point right?http://imgur.com/a/f47u4CU.\n",
      "\n",
      "Predicted: 1 - Actual: 0\n",
      "Got a large first tent earlier in the year which a darkened bedroom and it is an amazing feature. You sleep so much better when the bright sun is not making your entire living space really bright at the crack of dawn. \n",
      "\n",
      "I've been aiming to get a smaller, lighter tent I can put up myself for solo adventures with my mtb (not necessarily bikepacking, just more time at further away trails without having to pay for a hotel/airbnb every time) and it's quite annoying to find a tent that ticks every box other than having a darkened room.\n",
      "\n",
      "Why aren't more tents like this? I'd have thought it would be an almost standard feature these days. Is it weight? Do most people just prefer to not have a darkened room?\n",
      "\n",
      "I'm considering leaving it until next year to see if more good small tents have this feature.\n",
      "\n",
      "Has anyone here tried DIY darkened bedrooms which I've read a bit about? Is it as much of a pain in the ass as I expect it be? Or even potentially trying to size up another tents bedroom with a darkened bedroom and buying that as a replacement part? I know there's the option of a sleep mask but it's not quite the same.\n",
      "\n",
      "For what its worth, I was considering the Vango Knoydart 300 for its feature/size/weight, though the closest I can really find to it with a darkened room is a Coleman Chimney Rock 3 Plus which is considerably heavier (and larger).\n",
      "\n",
      "Predicted: 1 - Actual: 0\n",
      "[Brave Campgoer Gets Swatted by Intruder Bear He Escorts From Campsite](https://themessenger.com/news/man-named-mike-stand-escorts-bear-from-campsite)\n",
      "\n",
      "\"Brave\" is probably not the adjective I would have used to describe this camper.\n",
      "\n",
      "Any bear experts on why this bear was mostly like \"meh\" and then even the swipe seemed pretty half-hearted for a bear?\n",
      "\n",
      "Predicted: 1 - Actual: 0\n",
      "So I am doing my first solo trip in the first week of December. I live in VA so it doesn't get too terribly cold but at night it might flirt with freezing temps. \n",
      "\n",
      "* I have a 0 degree down bag that I plan on using, I will obviously be sleeping off the ground. \n",
      "* I also havy a buddy heater that I can use in the tent and I'll be keeping a window open for ventilation. I'll also have a carbon monoxide detector for extra safety. (tbh i'll probably turn it off before going to bed, to be extra cautious).\n",
      "* Cell service is good where I'll be\n",
      "* Lastly, I am going to have bear mace (are bears around this time of year). \n",
      "\n",
      "&#x200B;\n",
      "\n",
      "Does anyone have any other good tips when camping solo? The two things I'm worried about are aninals (what the mace is for) and carbon monoxide (what the detector and window opening is for).\n",
      "\n",
      "Predicted: 1 - Actual: 0\n",
      "Anyone know of any good synthetic ultralight/compact sleeping bags and jackets? I do not use animal products. I have looked at the Enlightened Equipment Prodigy quilt which looks pretty nice. Has anyone used it? Thanks.\n",
      "\n",
      "Predicted: 1 - Actual: 0\n",
      "I'm used to state parks in Texas where you can shower for however long you want for free while camping.  I had no idea that paying for showers is a thing.\n",
      "\n",
      "Currently, I'm camping at a Washington state park and when I went to take a shower after a long day of hiking in the Sun, covered in nasty sweat and sunscreen, I found a machine that takes tokens.  WTF?!  \n",
      "\n",
      "I went out to my car and found some quarters, but the machine wouldn't take those, and I had no dollar bills to exchange for tokens (I found a machine for tokens at the park entrance).  So I had to drive around 20 miles to a gas station which had an ATM machine.  I smelled like crap and I heard some woman say \"eww, it smells in here.\" So embarrassing.  Anyway, I got some cash and drove all the way back to the campground to get some tokens so I could take a shower.  \n",
      "\n",
      "What a waste of time and money.  Anyway, that's my rant for the day.\n",
      "\n",
      "Predicted: 1 - Actual: 0\n",
      "Edit::: to include this information for clarity.\n",
      "\n",
      "The 2022 model camper came with these batteries. \n",
      "\n",
      "(2) Interstate SRM-27 Deep Cycle Marine/RV. 88AH. 160RC. 750MCA. 12V. They are connected black/black, red/red. \n",
      "\n",
      "The only thing operating is the fridge. And NO, it can not run on propane. It's 12v Electric (it's on a fuse, not a breaker). It's a GE model GPV10FSNBSB. 12VDC, 13.5amps.\n",
      "\n",
      "The inverter is also drawing from the 12v system while in standby mode, so I will try turning that OFF at night.\n",
      "\n",
      "We have the solarflex400i solar panel system (2) 200watt panels and a Xantrex Freedom X2000 inverter. We only use 120v outlets during the day when the panels are operating efficiently. Typically, as the sun sets, our batteries are at full capacity\n",
      "\n",
      ":::::\n",
      "\n",
      "\n",
      "We have a Keystone Bullet with two deep cycle lead acid batteries. They are connected by jumper wires. When boondocking, we use the installed solar panels and inverter to power the 120v system, but the water pump, refrigerator, cabin lights, slide out, awning, power jack and power stabilizers all run on 12v. \n",
      "\n",
      "The battery is fully charged at the end of the day, but by morning, the fridge is warm, freezer is thawed and the lights flicker. The water pump is sluggish. \n",
      "\n",
      "We can monitor the battery system and solar panels by apps, and the battery app will indicate slow but steady drops as soon as the solar panels are done working for the day. It also shows the amount of useage, and calculates how long the system will operate without being recharged. One thing I noticed was that it suggested a \"remaining useage time\" of roughly 10 hours. This would explain why by 7am, our fridge is getting warm and nothing works, but it doesn't explain why, and what could possibly be draining those batteries so quickly?!?!\n",
      "\n",
      "Do we seriously need to move to Lithium batteries to boondock overnight? That doesn't seem right to me? All lights are off. No appliances are plugged in. The water pump is off. \n",
      "\n",
      "I've checked nealy every rv thread online, been to the manufacturers website and even talked to customer support. It's all circular talk with no solutions. The dealer will charge us $175/hr to evaluate, but they couldn't guarantee that they could discover the problem in an 8 hour day...\n",
      "\n",
      "So, here I am, looking for the free advice.\n",
      "\n",
      "Thanks, in advance.\n",
      "\n",
      "Predicted: 1 - Actual: 0\n",
      "This is the best stove I have ever use.\n",
      "\n",
      "Only $17.99, present price is $19.99, promo code: XSUT262P (save $2), expires on 04/27/2015 11:59 PM PDT.\n",
      "1.It is ultralight and foldable, easy to carry and easy to set up. Ideal for camping, backpacking, long-time trip\n",
      "\n",
      "2.Strong & Sturdy: Made of aluminum alloy and stainless steel, with low center of gravity and wide base, can stand high temperature and weight(max: 6kg). The stove top with anti-slip design can accommodate up to a 30cm diameter pan in a sturdy way.\n",
      "\n",
      "3.Efficient & Easy: No need to use stove windscreen. Boil 2 pints of water in 6 minutes. The valve is designed to adjust the flame from full roar to a low simmer. The efficient flame can make a disposable butane canister last for days.\n",
      "\n",
      "4.Safe & Compatible: The stainless steel mesh gas host is 11\"(28cm). It is safe and easy to connect with the fuel canister. Use with straight butane or butane-propane mixed fuel canisters with threaded 7/16 NS Lindal Valve (EN417).\n",
      "\n",
      "5.Quick to Ignite: Piezoelectric Ceramic Ignition can be fired up each and every time. It can be used up to 1-1.2 million times.\n",
      "http://www.amazon.com/Dpower-Ultralight-Backpacking-Gas-powered-Ignition/dp/B00PW7HL8A/ref=sr_1_cc_1?s=aps&ie=UTF8&qid=1428400713&sr=1-1-catcorr&keywords=DPOWER+mini+camping+stove\n",
      "\n",
      "Predicted: 1 - Actual: 0\n",
      "I'm going to go hunting for the week but I only have a tent. I don't know how to keep it comfortably warm in freezing temperatures (not including wind chill). \n",
      "\n",
      "Right now I figured I'll light a fire where I want my tent, warm up the rocks it's going to be on, then after the fire completely dies, put some hay down between the rocks and the tent, then between they hay, a thick blanket. Then have the tent on top of that.\n",
      "\n",
      "For the tent itself I'm thinking of putting a blanket over top of it and having one inside on the floor. Over top of the tent and blanket, a tarp to hold the blanket down and to add a little more insulation. \n",
      "\n",
      "I 5gal jug of hot water wrapped in foil and a blanket is reserve heat and to heat up the whole tent.\n",
      "\n",
      "For sleeping I figure a sleeping bag wrapped in a blanket and a blanket on the inside is my best bet.\n",
      "\n",
      "Note: both my sleeping bag and tent are pretty cheap and not made for supper cold weather. I'm also thinking of some half warmers incase of emergency but I'm looking for a cheap option. I'm going tomorrow and didn't think of asking y'all until just now.\n",
      "\n",
      "Note 2: I don't have a budget. I have alot of everything I said about accept for the hand warmers, I have 4.\n",
      "\n",
      "Predicted: 1 - Actual: 0\n",
      "This group is amazing.  I shared in the \"What do you consider Glamping\" [https://www.reddit.com/r/camping/comments/11m0m99/comment/jbiiz8o/?context=3](https://www.reddit.com/r/camping/comments/11m0m99/comment/jbiiz8o/?context=3) thread yesterday about our transformation through the years as my wife's (mostly) health suffered.  417 (so far) up votes and not one negative.  I was reluctant to post as I was criticized on another forum and told to either stay home or at a hotel as we were part of the problems people have to put up with while camping.  Thank you for being understanding!  \n",
      "\n",
      "Predicted: 1 - Actual: 0\n",
      "Just getting back to my roots camping when I was younger , want to put 600 or so in gear as I haven't camped since I lived in ny and dont have any gear anymore. I love function over form mostly, I'm a tech guy not looking for glamping persay but do intend some devices and a solar panel that can fit in a new backpack, looking for a multi day setup. About 3 days at a time to start. Any suggestions useful, such as places , kit, etc, to start I'm looking at a backpack and a tent and a couple starters , I also have my 4 door sedan for transport. I'm looking at the gregory bags with hydration like the zulo or paragon etc . Would love some boots on the ground ideas. Thanks!\n",
      "\n",
      "Predicted: 1 - Actual: 0\n",
      "Gonna buy a 16x20 canvas wall tent to live in for a couple of years with my fiancé till our cabin can be built..\n",
      "\n",
      "We nesting who here has experience with this and if I can get any questions answered\n",
      "\n",
      "Predicted: 1 - Actual: 0\n",
      "I feel like I’m not utilizing my lash squares to the best of their abilities and looking for inspiration. I’m sure the most common uses are binding blankets and axes to their packs, but I’d love to hear what you’re tying to your pig noses.\n",
      "\n"
     ]
    }
   ],
   "source": [
    "mismatched_indices = (ada_preds != y_test)\n",
    "mismatched_texts = X_test[mismatched_indices]\n",
    "\n",
    "for i, text in enumerate(mismatched_texts):\n",
    "    predicted_label = ada_preds[mismatched_indices][i]\n",
    "    true_label = y_test.values[mismatched_indices][i]\n",
    "    print(f\"Predicted: {predicted_label} - Actual: {true_label}\\n{text}\\n\")\n"
   ]
  },
  {
   "cell_type": "code",
   "execution_count": 14,
   "id": "fbfc434c-ba22-4b17-989b-6fa855daa2ba",
   "metadata": {},
   "outputs": [
    {
     "name": "stdout",
     "output_type": "stream",
     "text": [
      "Predicted: 0 - Actual: 1\n",
      "With my mind all over the place lately with what's going on I needed to decompress. I cant hike, no trail running, fishing, bla bla bla  as all provincial parks are closed. I know there's worse things going on in the world than my little \"cant hike\"problems so what did I do? I gave 35 years of hiking/camping stuff away to the homeless shelter. It filled a full size van. 8 tents, 12 packs from kids to full expedition, 10 sleeping bags, sleeping pads, mats, coolers, nalgene bottles, stoves with fuel. You name it it was in there. Then I went into my closet. Bags of good clothes from socks to jackets.Every piece of cotton I own went in there plus every piece of technical clothing that I dont wear.  I feel better now. My mind and shop are decluttered and so people will get some much needed things.I reminisced and let go of many things not just gear. Here's a pick of my new go to gear closet. It's a hell of a lot lighter now. Thanks the whole point right?http://imgur.com/a/f47u4CU.\n",
      "\n",
      "Predicted: 1 - Actual: 0\n",
      "https://www.reddit.com/r/campingwithkids/\n",
      "Please contribute. If anyone wants to be a moderator, please join. \n",
      "\n",
      "Predicted: 0 - Actual: 1\n",
      "With my mind all over the place lately with what's going on I needed to decompress. I cant hike, no trail running, fishing, bla bla bla  as all provincial parks are closed. I know there's worse things going on in the world than my little \"cant hike\"problems so what did I do? I gave 35 years of hiking/camping stuff away to the homeless shelter. It filled a full size van. 8 tents, 12 packs from kids to full expedition, 10 sleeping bags, sleeping pads, mats, coolers, nalgene bottles, stoves with fuel. You name it it was in there. Then I went into my closet. Bags of good clothes from socks to jackets.Every piece of cotton I own went in there plus every piece of technical clothing that I dont wear.  I feel better now. My mind and shop are decluttered and so people will get some much needed things.I reminisced and let go of many things not just gear. Here's a pick of my new go to gear closet. It's a hell of a lot lighter now. Thanks the whole point right?http://imgur.com/a/f47u4CU.\n",
      "\n",
      "Predicted: 0 - Actual: 1\n",
      "https://www.google.com/amp/s/www.washingtonpost.com/amphtml/nation/2019/03/05/two-young-sisters-were-lost-woods-they-used-their-wilderness-training-survive/\n",
      "\n",
      "So glad this story had a happy ending. I heard about this when they went missing. I don’t live to far from there and we’ve been having a historically bad winter of rain and cold in Norcal. These basic skills all kids should learn. Proud of these girls and hopefully they learned there lesson to not explore without mom or dad. And they were ultralight only bringing there worn weight and some bars. \n",
      "\n",
      "Predicted: 1 - Actual: 0\n",
      "I have a ton of hiking and camping experience. I've been to almost all state parks and a ton of the national forests. I don't, on the other hand, have much hunting experience. I don't really know where to begin with this, as far as where I should go or what I should bring. I have a decent amount of gear. But, I think, most of it is more applicable to 3-5 day trips. Less long term stuff. I would really love to go to Alaska, because it has the largest national forests, but it is pretty far from where I am, so I think I'd like to stay in the lower 48. \n",
      "  \n",
      "Edit: [I thought you could hunt in national forests](http://www.fs.fed.us/biology/wildlife/hunters.html)\n",
      "\n",
      "Predicted: 0 - Actual: 1\n",
      "Get it off your chest, you’ll feel better.\n",
      "\n",
      "&#x200B;\n",
      "\n",
      "* I frequently forget to grab 2 smartwaters at the last gas station so I end up taking 2 nalgenes from my car half the time if used smartwater bottles aren’t floating around in my car (which they aren’t because my wife throws them out lol).\n",
      "* My keys add about 6 oz and definitely they aren’t worn weight.\n",
      "* If you add up the various ziplocks for food and trash it should add another couple ounces.\n",
      "* Camp sandals and camp shorts make it into the pack 90% of the time but my gear list 0% of the time.\n",
      "* A pack beer probably should be put on the base weight list not the consumables.\n",
      "* I’ve never not brought my kindle. I’ve never not....not (? lol) put it on my weight lists.\n",
      "* Not a lighterpack but I’m super lazy about stopping for water and end up carrying 2-3 liters even though I’m crossing a stream every half mile.\n",
      "* I say my dog carries her own food, water and gear but I definitely do if she looks tired after the first or second day (she’s 10, I don’t feel bad about that one).\n",
      "\n",
      "Predicted: 1 - Actual: 0\n",
      "[Brave Campgoer Gets Swatted by Intruder Bear He Escorts From Campsite](https://themessenger.com/news/man-named-mike-stand-escorts-bear-from-campsite)\n",
      "\n",
      "\"Brave\" is probably not the adjective I would have used to describe this camper.\n",
      "\n",
      "Any bear experts on why this bear was mostly like \"meh\" and then even the swipe seemed pretty half-hearted for a bear?\n",
      "\n",
      "Predicted: 0 - Actual: 1\n",
      " [https://imgur.com/a/Tul1cEa](https://imgur.com/a/Tul1cEa) \n",
      "\n",
      "Shockingly, they stay put when I'm walking or shaking my feet around. I'll go out on a limb and guess they won't be very durable, but the total cost for the pair was about $2.50 (half of a Litesmith sit pad and a few inches of shock cord).\n",
      "\n",
      "I'm normally in the \"Ban Camp Shoes\" crowd, but I think I'll take these out this weekend just for shits.\n",
      "\n",
      "Thought I'd share - hope everyone is staying healthy!\n",
      "\n",
      "Predicted: 1 - Actual: 0\n",
      "Hello there!\n",
      "\n",
      "For context I, (f) am going on a month long organized backpacking trip. I’m assuming we’re not going to be allowed deodorant. But I’m concerned about smelling bad. I know it’s inevitable but the idea of smelling super bad for an entire month is stressing me out! Does anyone know of any ways I can keep smelling fresh? Is there anything you guys spray on your clothes beforehand? A lightweight way to “shower”? Let me know!\n",
      "\n",
      "Predicted: 1 - Actual: 0\n",
      "And it’s closing in on midnight… I don’t want to go back to work but I’m thankful for the retreat\n",
      "\n",
      "Predicted: 0 - Actual: 1\n",
      "I'm sure most of you have shared stuff like this already, but please post below if you have a similar story. Always crazy looking back at shit like this. If I saw this happening now I'd be infuriated, but we just didn't know any better.\n",
      "\n",
      "&#x200B;\n",
      "\n",
      "\\*correction - Just confirmed with friend. This trip took place in February. Still dangerous and extremely cold, but not technically the dead of winter, which I'd say is Janurary.\\*\n",
      "\n",
      "&#x200B;\n",
      "\n",
      "In my late teens I went on a one night camping trip with ten of my friends. None of us had any real experience, but two were Marines so we figured they'd become the de facto leaders and teach us the mountain man way.\n",
      "\n",
      "I carried maybe 35-40 pounds, including a small hacksaw and a hatchet. The only (accidental) ultralight stuff on me was a silk sleeping bag liner, a titanium esbit stove, and a freestanding tent, which at the time seemed impossibly small. All the gear belonged to my uncle.\n",
      "\n",
      "Oh, and it was the dead of winter on Peekamoose Mountain. I had a silk sleeping bag liner in the dead of winter.\n",
      "\n",
      "We hiked out in our jeans and either Converse or duck boots, and arrived with numb feet at an ice-covered campsite two hours later. We cleared the area of snow and debris, then went to work smashing at the ice because it just seemed like something we should do. Ice is cold, so smash it and toss it aside, right?\n",
      "\n",
      "We smashed ice for a while, then dug out the fire pit. We needed wood. I volunteered along with three others to gather some. We hiked to a nearby slope and started to climb. Looking back, this was an ice axe/crampons type of job.\n",
      "\n",
      "We fought our way up to the \"usable wood branches,\" slipping down often and starting over. Whenever we fell, we'd yell \"SAW!\" and throw our saws so they didn't cut us or anyone else on the way down.\n",
      "\n",
      "We were mountain men and knew the rules: you always yell \"SAW!\" when you're throwing a saw as you tumble down a snowy slope.\n",
      "\n",
      "Somehow, we gathered enough wood to get a fire started and lumbered back to camp.\n",
      "\n",
      "Fire blazing (with the help of some gasoline), we brought out the beer and food (MREs) and huge jugs of water. After four hours of driving and a few hours of grueling professional mountain man work, we were hungry and grumpy and freezing.\n",
      "\n",
      "That's when the ranger showed up. He took one look at our fire and shook his head.\n",
      "\n",
      "\"That's not dead wood. I could charge you a thousand dollars for each of those branches,\" he said.\n",
      "\n",
      "We were shocked. Isn't this how things were supposed to go out in the wilderness?\n",
      "\n",
      "\"I'll give you a warning this time, but you better put that fire out and toss the branches aside.\"\n",
      "\n",
      "\"But it's freezing,\" Tom, one of the Marines, said.\n",
      "\n",
      "\"Then you'd better find dead wood, or drive to town and pick some up.\"\n",
      "\n",
      "Tom and a few others went to buy the wood while the rest of us huddled together like idiots.\n",
      "\n",
      "A million hours later, they returned with stacks of plastic-wrapped wood and we got things going again. Soon it was dark, and with the dark came an endless barrage of cold winds the likes of which we had never before experienced in our lives. We didn't have the proper gear--leather jackets, hooded sweatshirts, so much cotton. I wore a fleece-lined coat that was useless below 40 degrees. I'm not sure what the temps were, but based on my cold weather experience since then, I'd have to guess it was well below freezing. Possibly in the teens.\n",
      "\n",
      "When it came time for bed, we split up into our tents. I was the only one with a one-person tent, and I made it maybe a half hour before I had to shack up in one of the bigger tents for some extra body heat. No one spoke. We all just laid there shivering and miserable. I earnestly thought I was going to die, but I didn't want to be the first guy to complain so I resigned myself to it. My whole body hurt and my breath came in quick gasps. I remember vividly picturing the few survivors finding my body in the morning.\n",
      "\n",
      "An hour passed. The world began to spin. All the shivering had worn me out, but I couldn't sleep. Then Shaun, the other Marine, yelled, \"Is anyone else fucking dying?\"\n",
      "\n",
      "We all screamed, \"Yes!\"\n",
      "\n",
      "\"We need to start the damn fire right now,\" Shaun yelled.\n",
      "\n",
      "I grabbed my 2 pound flashlight and stumbled out of the tent. First one. My beam cut through the utter blackness surrounding us. I made my way to the fire pit. I heard others stirring. Shaun joined me. I shined the light on our cooler. It was opened. I shined the light around the cooler, revealing scraps of food and wrappers everywhere. A single apple with a chunk bit off sat in the distance like an omen.\n",
      "\n",
      "Shaun poured gasoline on the wood and threw a match on it and boom the fire blazed. I told him about the food. Shaun said it was probably a deer, no big deal. A few people joined us while others worked up the nerve to get out of their sleeping bags. I felt the first wave of warmth against my body and it was good. Then, Shaun pointed behind me and said, \"Oh shit.\"\n",
      "\n",
      "I turned around to see yellow eyes watching us from two hundred feet away. We froze. The eyes moved towards us. They didn't stop moving. I grabbed my hatchet and scurried up a small tree. The eyes came faster now. People were stuttering and going, \"Ummm,\" and cursing to themselves.\n",
      "\n",
      "Shaun, finger still pointing at the creature coming towards us, screamed, \"Tom, get the shotgun, there's a fucking bear coming!\"\n",
      "\n",
      "Legend has it you can still hear the echo of that scream on cold winter nights.\n",
      "\n",
      "Click, click, I heard Tom loading up. He brought a damn shotgun. I raised my hatchet, ready for war.\n",
      "\n",
      "The closer the eyes got, the lower to the ground they looked. It went from huge bear to adolescent bear to \"maybe a raccoon or something?\" The eyes dipped below a ditch and that was that. Gone.\n",
      "\n",
      "\"Tom, never mind!\" Shaun yelled.\n",
      "\n",
      "“OK,” Tom said, his tone mellow and even. He stayed in his tent all night.\n",
      "\n",
      "The rest of us stuck to the fire until first light, then we ate and hiked back to the cars and drove home. We left any food scraps on the ground because \"the animals will take care of it.\"\n",
      "\n",
      "What a bunch of idiots.\n",
      "\n",
      "Predicted: 1 - Actual: 0\n",
      "Anyone know of any good synthetic ultralight/compact sleeping bags and jackets? I do not use animal products. I have looked at the Enlightened Equipment Prodigy quilt which looks pretty nice. Has anyone used it? Thanks.\n",
      "\n",
      "Predicted: 1 - Actual: 0\n",
      "although it sounds like a quite common thing to do i havent found any qood stories about showering in the rain. i haven't found much about it at all, have you done it? how was it? where were you?\n",
      "\n",
      "Predicted: 0 - Actual: 1\n",
      "**Where**: The Sespe Wilderness and Piru Creek area. My intended route was from the Piedra Blanca trailhead up to Pine Mountain Lodge, then the Cedar Creek Trail, Grade Valley Road, Johnston Ridge, Stonehouse trail, Piru Creek Trail, Miller Jeep Road, Snowy Creek motorcycle trail, bushwhack down Piru Creek to Hardluck, Buck Creek Trail, Little Mutau creek trail, Johnston Ridge, Sespe Trail, Red Reef, and finally Lion Canyon trail. Unfortunately, I had to bail out from the Buck Creek Trail, so I cut off a significant portion of my route.\n",
      "\n",
      "**When**: 2021-04-11 to 2021-04-15\n",
      "\n",
      "**Distance**: I'm unsure of the total miles because maps don't generally provide mileage for motorcycle trails or dirt roads and also I bushwhacked and on the Buck Creek trail miles became meaningless. Generally I hiked 12 miles per day, though.\n",
      "\n",
      "**Conditions**: Nights were right around freezing, days were generally cool in the upper 60s with a cold wind and blazing hot sun in the middle of the day.\n",
      "\n",
      "**Lighterpack**:  [**https://lighterpack.com/r/0un6on**](https://lighterpack.com/r/0un6on) I don't know how accurate this is because I kept finding things and picking them up to take with me and I probably had more little random things in my pockets than listed here. But it's pretty close.\n",
      "\n",
      "**Useful Pre-Trip Information or Overview**: I would recommend you research the trails of this area on [http://www.hikelospadres.com](http://www.hikelospadres.com) before you go. I would also not recommend hiking on motorcycle trails after they open the trails to motorcycles. I hiked while they were still closed. Don't hike in the Sespe in the summer.\n",
      "\n",
      "**Photo Album**: [https://imgur.com/a/a6ptxvC](https://imgur.com/a/a6ptxvC) I also made videos if you prefer them. [https://www.youtube.com/watch?v=ebLpYAHThow&list=PL-9yXoCfg54P5oE19RcQg8scVspwDGby-](https://www.youtube.com/watch?v=ebLpYAHThow&list=PL-9yXoCfg54P5oE19RcQg8scVspwDGby-)\n",
      "\n",
      "**The Report**:\n",
      "\n",
      "**Day 1**: Piedras Blancas to Cedar Creek, with a detour to Fishbowls. All of this was lovely. There were some ticks on the Piedras Blancas trail after Twin Oaks camp. Cedar Creek campsite is a really nice campsite with three fire pits.\n",
      "\n",
      "**Day 2**: Stonehouse trail is sort of boring. I'm not sure if this is a hiking trail or a motorcycle trail, but it appears to be more used by motorcycles and OHVs than hikers. The stone house and Stonehouse camp is hard to get to. It has been ruined by a gigantic fallen tree. I got pretty torn up by wild roses trying to get to it. The confluence with Piru Creek is a pretty area and there is a guerilla campsite there with a lot of trash. Lots of birds: owls, ducks, hawks and tweeting birds.\n",
      "\n",
      "**Day 3**: Sunset is a nice camp for OHVers, although there's a ton of trash. I was in all these areas before gates were open for OHV use so it was all peaceful and quiet. I have no idea how anyone survives driving any sort of vehicle on Miller Jeep road. From the look of all the broken brake levers and other parts that looked super important for holding crucial things together, there are a lot of crashes. It was a very steep hike. Three miles and about 3000 feet of elevation gain. Dutchman campsite is an OHV camp and again it's completely trashed. Up on Alamo mountain, there are amazing views into Hungry Valley, Cuddy Valley, the Antelope Valley, the Tehachapis, the Liebres and the Southern Sierras. Lots of angry Stellars jays yelled at me constantly. You are surrounded by what I consider the pantheon of high peaks that form the roof of the Los Padres: Snowy Peak, White mountain, Black mountain, Cobblestone, Sewart, McDonald, and Alamo mountain. Seen from the Pacific Crest trail in the Liebres, these mountains look shockingly huge, steep and remote. The Snowy motorcycle trail had a lot of fallen trees at the top. It was a steep decline into Snowy creek canyon where I found a very peaceful place to camp by the creek.\n",
      "\n",
      "**Day 4**: The hike from Snowy creek down to Piru Creek is a long descent with amazing views. It's a difficult trail to walk because motorcycles grind up the trail leaving a loose rocky bed that is hard to walk on. This is a motorcycle trail and I would not want to be here when motorcycles are using it. There is no room to pass.\n",
      "\n",
      "Once I reached Piru Creek I bushwhacked the two miles down the creek to Hardluck road. There was evidence that other people do this and it was not hard, but not easy either.\n",
      "\n",
      "From Hardluck I took the Buck Creek trail to Buck Creek camp. The first couple of miles from closed Hardluck campground are easy and relatively flat. Once you reach the narrows where Piru flows into Pyramid Lake, you turn inward up Buck Creek canyon and the trail instantly starts to become more and more faint until it virtually disappears. The map says that it is 6.1 miles from the junction of Piru and Buck creeks to the trailhead at the top of Sewart mountain. Buck Creek camp and spring lie about half-way along this 6.1 miles. It took me 6 hours to go the approximately 3 miles from the junction to Buck Creek camp.\n",
      "\n",
      "This trail is pretty much gone. There are numerous very large trees crashed all over the trail. Much of the trail is obscured by brush and wild roses and other vines that tangled around my legs and entire body making it impossible to push through. At times I found myself suspended 6 feet above the ground walking on logs covered in vines. At one point I could not figure out how to get through, trying to climb over and through deadfall and failing, trying to find a trail through the creek and failing, trying to follow a bear trail high up the slope only to find that I returned to the same pile of shit, walking in circles. Eventually I figured it out.\n",
      "\n",
      "Here and there are some red and yellow cloth strips, pink tape and yellow caution tape tied to things to help you find your way. I figured out that sometimes they are there to tell whoever is lost wallowing in the vines below to get up to where you already are, not always telling you to follow them. I scared the same rattlesnake in the same spot two days in a row and screamed the same scream both times! Occasionally there were ticks, poison oak and stinging nettles. There's a long section of cruisy trail as you near Buck Creek camp that offers a little bit of relief, only to disappear after a little while. I saw the biggest bear prints I have ever seen in my life.\n",
      "\n",
      "Around 5pm, I realized that I had not seen any water for a while. I figured I would be okay once I reached Buck Creek camp and spring. I had seen the spring in May of 2019 and it was a burbling and delightful little spring. At 7pm, probably half a mile later, I reached the camp with half a liter of water and eagerly looked for the spring. I could not find it. Either I could not find it or it is an unreliable spring. I was standing on the spot the GPS said the spring should be. I was where I thought I remembered it should be. It smelled like there was water somewhere, but it was dry. I made camp and went to bed with only half a liter of water, not enough to make dinner or breakfast. I listened to owls. I saw one flutter up into the trees. I had startled a flock of band-tailed pigeons when I arrived. There had been so many song birds chirping in the area I thought for sure there had to be water somewhere nearby, but alas.\n",
      "\n",
      "**Day 5**: In the morning I decided I would try to look for the spring again. Still no luck. I decided if Anish can go 40 miles a day without water maybe I can climb out of this canyon and get water at Little Mutau 10 miles away, but I worried I could get into serious trouble because I was already so thirsty. I looked for the trail going forward but I was not able to find my way. I wallowed in wild roses and vines getting nowhere. I decided a smart person would go back and get water. I estimated water was probably 3 hours back, which would mean it would add 6 hours of time were I to go get water and return. This would add a whole day to my itinerary and my partner would be waiting at the trailhead for me out of cell range with no way to contact him to let him know I was going to be late. He might call SAR. I don't need SAR if I can get myself out of here. So I decided to bail out.\n",
      "\n",
      "It still took me 6 hours to go those 3 miles back to the junction. I washed my poison oak saturated clothes in Piru Creek, probably to little avail. I discovered I had cell service right there so I called my partner and in the time it took me to hike out Hardluck road he was able to drive there all the way from Santa Barbara.\n",
      "\n",
      "I did all this to maybe find my Zpacks pointy hat that I lost on the Buck Creek trail in 2019. I didn't find my hat but I found somebody else's hat. On this trip I gained one Canadian flag wool hat and one pack towel. I could have picked up a hundred dollars worth of recyclable glass and aluminum. Not one container had a cold beverage left inside. C'mon guys, at least drop a few cold ones for the struggling hiker who might come by.\n",
      "\n",
      "**tl;dr;** Buck Creek trail is non-existent, which is a shame.\n",
      "\n",
      "**Gear Notes**:\n",
      "\n",
      "Once again, the **Pocket tarp** is the perfect shelter for the Los Padres. I never deployed the doors. I really didn't even need to deploy the shelter but I like having a little house.\n",
      "\n",
      "I used **polycryo AND a DCF poncho groundsheet**. I made the poncho groundsheet and want to protect it. I also discovered if I put my **thinlight** on the polycryo and the groundsheet on top of the thinlight there's a lot less slipping around. It just feels like my whole tent floor is cushioned.\n",
      "\n",
      "My **Zpacks Arc Blast** backpack survived the Buck Creek trail. Held up to the light I can see numerous tears in the outer material, which is unsurprising after the beating I gave it on Buck Creek. The inner DCF layer is unscathed.\n",
      "\n",
      "The **Trail Designs Fosters pot Caldera Cone system** is awesome. It boils super fast and doesn't need a lot of alcohol. There was no ban on alcohol stoves at the time I went. I brought a backup Graham cracker stove and a few esbits in case I ran out of alcohol. I never used it. The Fosters pot survived the Buck Creek trail. The cone fits inside and makes it quite rigid.\n",
      "\n",
      "I was super toasty warm in my **10 degree sleeping bag** (Zpacks again, sorry, I swear they don't sponsor me) wearing just my wind shirt and pants with bare feet, my down jacket, a down hood cinched tight around my face with my down jacket hood over it. I woke up to frozen shoes and socks stiff as a board.\n",
      "\n",
      "I think I lost about 10lbs.\n",
      "\n",
      "Edit: fixed broken link\n",
      "\n",
      "Edit 2: Fixed broken lighterpack link\n",
      "\n",
      "Predicted: 0 - Actual: 1\n",
      "I have worked for REI for 5 years now, and over the course of this time I have worked hard to provide honest, accurate and accountable service to the many types of customers that walk through the door. I work hard to train my team to do the same, I work in camping, and I’m well equipped to handle UL conversations.\n",
      "\n",
      "I feel like a portion of the outdoor community feels that if they walk into REI for an outfitting, they’ll walk out with gear that’s too heavy, and not suited for the customer or upcoming trip. That does NOT happen at my REI or in my department, but I’m curious to know if that’s what you’ll get at an REI near you?\n",
      "\n",
      "Predicted: 1 - Actual: 0\n",
      "I bought this sleeping pad 2 weeks ago and it had not disappoint me at all with its quality. It is easy to inflate by using inbuilt pump and deflate. Quality of material has attracted me more. And we can also filp it to use another colour. Inbuilt cushion for head makes it more comfortable. Definitely recommended.\n",
      "\n",
      "Predicted: 0 - Actual: 1\n",
      "Hey Ultralight people!\n",
      "\n",
      "Part of the sub is the [Ultralight Wiki](https://www.reddit.com/r/Ultralight/wiki/index), a great introduction to all things ultralight. \n",
      "\n",
      "However, it's been a while since any work has been done on it. I think it is time to give it a little overhaul/update/upgrade. Some of the text just needs to be brought into 2023 but there are still a few gaps and articles that need to be written etc..\n",
      "\n",
      "So I'd like to ask if there are any volunteers out there, willing to chip in. The wiki has been a collective effort and I know multiple people contributed in the past. \n",
      "\n",
      "This would probably take a while and can be done in small increments. We can set up a Dischord or Trello or Google doc etc.. Even people just willing to take a look and make suggestions are welcome. \n",
      "\n",
      "So please get in touch if you are interested.\n",
      "\n",
      "Predicted: 0 - Actual: 1\n",
      "Get it off your chest, you’ll feel better.\n",
      "\n",
      "&#x200B;\n",
      "\n",
      "* I frequently forget to grab 2 smartwaters at the last gas station so I end up taking 2 nalgenes from my car half the time if used smartwater bottles aren’t floating around in my car (which they aren’t because my wife throws them out lol).\n",
      "* My keys add about 6 oz and definitely they aren’t worn weight.\n",
      "* If you add up the various ziplocks for food and trash it should add another couple ounces.\n",
      "* Camp sandals and camp shorts make it into the pack 90% of the time but my gear list 0% of the time.\n",
      "* A pack beer probably should be put on the base weight list not the consumables.\n",
      "* I’ve never not brought my kindle. I’ve never not....not (? lol) put it on my weight lists.\n",
      "* Not a lighterpack but I’m super lazy about stopping for water and end up carrying 2-3 liters even though I’m crossing a stream every half mile.\n",
      "* I say my dog carries her own food, water and gear but I definitely do if she looks tired after the first or second day (she’s 10, I don’t feel bad about that one).\n",
      "\n",
      "Predicted: 0 - Actual: 1\n",
      "An ultralight backpack for 2.5€? A 30L hiking one for 27? 10 years of warranty? Is it good? It feels too good to be true..\n",
      "\n",
      "Anyway, my question is, does anyone here have Quechua gear? What do you think about it?\n",
      "\n",
      "Predicted: 0 - Actual: 1\n",
      "Hey Ultralight people!\n",
      "\n",
      "Part of the sub is the [Ultralight Wiki](https://www.reddit.com/r/Ultralight/wiki/index), a great introduction to all things ultralight. \n",
      "\n",
      "However, it's been a while since any work has been done on it. I think it is time to give it a little overhaul/update/upgrade. Some of the text just needs to be brought into 2023 but there are still a few gaps and articles that need to be written etc..\n",
      "\n",
      "So I'd like to ask if there are any volunteers out there, willing to chip in. The wiki has been a collective effort and I know multiple people contributed in the past. \n",
      "\n",
      "This would probably take a while and can be done in small increments. We can set up a Dischord or Trello or Google doc etc.. Even people just willing to take a look and make suggestions are welcome. \n",
      "\n",
      "So please get in touch if you are interested.\n",
      "\n",
      "Predicted: 1 - Actual: 0\n",
      " I was thinking of using Google Fi unlimited plan but from what I've heard after certain data limits it'll slow down after a certain a certain point...\n",
      "\n",
      "Predicted: 1 - Actual: 0\n",
      "Can anyone help me out here? Where can I go out into the wilderness and camp without worrying about any regulations like passes, entry fees or citations. I also have to reserve the right to camp anywhere and even then its only specific areas I understand why obviously but it's really killing the dream.\n",
      "\n",
      "Predicted: 0 - Actual: 1\n",
      "**Where**: The Sespe Wilderness and Piru Creek area. My intended route was from the Piedra Blanca trailhead up to Pine Mountain Lodge, then the Cedar Creek Trail, Grade Valley Road, Johnston Ridge, Stonehouse trail, Piru Creek Trail, Miller Jeep Road, Snowy Creek motorcycle trail, bushwhack down Piru Creek to Hardluck, Buck Creek Trail, Little Mutau creek trail, Johnston Ridge, Sespe Trail, Red Reef, and finally Lion Canyon trail. Unfortunately, I had to bail out from the Buck Creek Trail, so I cut off a significant portion of my route.\n",
      "\n",
      "**When**: 2021-04-11 to 2021-04-15\n",
      "\n",
      "**Distance**: I'm unsure of the total miles because maps don't generally provide mileage for motorcycle trails or dirt roads and also I bushwhacked and on the Buck Creek trail miles became meaningless. Generally I hiked 12 miles per day, though.\n",
      "\n",
      "**Conditions**: Nights were right around freezing, days were generally cool in the upper 60s with a cold wind and blazing hot sun in the middle of the day.\n",
      "\n",
      "**Lighterpack**:  [**https://lighterpack.com/r/0un6on**](https://lighterpack.com/r/0un6on) I don't know how accurate this is because I kept finding things and picking them up to take with me and I probably had more little random things in my pockets than listed here. But it's pretty close.\n",
      "\n",
      "**Useful Pre-Trip Information or Overview**: I would recommend you research the trails of this area on [http://www.hikelospadres.com](http://www.hikelospadres.com) before you go. I would also not recommend hiking on motorcycle trails after they open the trails to motorcycles. I hiked while they were still closed. Don't hike in the Sespe in the summer.\n",
      "\n",
      "**Photo Album**: [https://imgur.com/a/a6ptxvC](https://imgur.com/a/a6ptxvC) I also made videos if you prefer them. [https://www.youtube.com/watch?v=ebLpYAHThow&list=PL-9yXoCfg54P5oE19RcQg8scVspwDGby-](https://www.youtube.com/watch?v=ebLpYAHThow&list=PL-9yXoCfg54P5oE19RcQg8scVspwDGby-)\n",
      "\n",
      "**The Report**:\n",
      "\n",
      "**Day 1**: Piedras Blancas to Cedar Creek, with a detour to Fishbowls. All of this was lovely. There were some ticks on the Piedras Blancas trail after Twin Oaks camp. Cedar Creek campsite is a really nice campsite with three fire pits.\n",
      "\n",
      "**Day 2**: Stonehouse trail is sort of boring. I'm not sure if this is a hiking trail or a motorcycle trail, but it appears to be more used by motorcycles and OHVs than hikers. The stone house and Stonehouse camp is hard to get to. It has been ruined by a gigantic fallen tree. I got pretty torn up by wild roses trying to get to it. The confluence with Piru Creek is a pretty area and there is a guerilla campsite there with a lot of trash. Lots of birds: owls, ducks, hawks and tweeting birds.\n",
      "\n",
      "**Day 3**: Sunset is a nice camp for OHVers, although there's a ton of trash. I was in all these areas before gates were open for OHV use so it was all peaceful and quiet. I have no idea how anyone survives driving any sort of vehicle on Miller Jeep road. From the look of all the broken brake levers and other parts that looked super important for holding crucial things together, there are a lot of crashes. It was a very steep hike. Three miles and about 3000 feet of elevation gain. Dutchman campsite is an OHV camp and again it's completely trashed. Up on Alamo mountain, there are amazing views into Hungry Valley, Cuddy Valley, the Antelope Valley, the Tehachapis, the Liebres and the Southern Sierras. Lots of angry Stellars jays yelled at me constantly. You are surrounded by what I consider the pantheon of high peaks that form the roof of the Los Padres: Snowy Peak, White mountain, Black mountain, Cobblestone, Sewart, McDonald, and Alamo mountain. Seen from the Pacific Crest trail in the Liebres, these mountains look shockingly huge, steep and remote. The Snowy motorcycle trail had a lot of fallen trees at the top. It was a steep decline into Snowy creek canyon where I found a very peaceful place to camp by the creek.\n",
      "\n",
      "**Day 4**: The hike from Snowy creek down to Piru Creek is a long descent with amazing views. It's a difficult trail to walk because motorcycles grind up the trail leaving a loose rocky bed that is hard to walk on. This is a motorcycle trail and I would not want to be here when motorcycles are using it. There is no room to pass.\n",
      "\n",
      "Once I reached Piru Creek I bushwhacked the two miles down the creek to Hardluck road. There was evidence that other people do this and it was not hard, but not easy either.\n",
      "\n",
      "From Hardluck I took the Buck Creek trail to Buck Creek camp. The first couple of miles from closed Hardluck campground are easy and relatively flat. Once you reach the narrows where Piru flows into Pyramid Lake, you turn inward up Buck Creek canyon and the trail instantly starts to become more and more faint until it virtually disappears. The map says that it is 6.1 miles from the junction of Piru and Buck creeks to the trailhead at the top of Sewart mountain. Buck Creek camp and spring lie about half-way along this 6.1 miles. It took me 6 hours to go the approximately 3 miles from the junction to Buck Creek camp.\n",
      "\n",
      "This trail is pretty much gone. There are numerous very large trees crashed all over the trail. Much of the trail is obscured by brush and wild roses and other vines that tangled around my legs and entire body making it impossible to push through. At times I found myself suspended 6 feet above the ground walking on logs covered in vines. At one point I could not figure out how to get through, trying to climb over and through deadfall and failing, trying to find a trail through the creek and failing, trying to follow a bear trail high up the slope only to find that I returned to the same pile of shit, walking in circles. Eventually I figured it out.\n",
      "\n",
      "Here and there are some red and yellow cloth strips, pink tape and yellow caution tape tied to things to help you find your way. I figured out that sometimes they are there to tell whoever is lost wallowing in the vines below to get up to where you already are, not always telling you to follow them. I scared the same rattlesnake in the same spot two days in a row and screamed the same scream both times! Occasionally there were ticks, poison oak and stinging nettles. There's a long section of cruisy trail as you near Buck Creek camp that offers a little bit of relief, only to disappear after a little while. I saw the biggest bear prints I have ever seen in my life.\n",
      "\n",
      "Around 5pm, I realized that I had not seen any water for a while. I figured I would be okay once I reached Buck Creek camp and spring. I had seen the spring in May of 2019 and it was a burbling and delightful little spring. At 7pm, probably half a mile later, I reached the camp with half a liter of water and eagerly looked for the spring. I could not find it. Either I could not find it or it is an unreliable spring. I was standing on the spot the GPS said the spring should be. I was where I thought I remembered it should be. It smelled like there was water somewhere, but it was dry. I made camp and went to bed with only half a liter of water, not enough to make dinner or breakfast. I listened to owls. I saw one flutter up into the trees. I had startled a flock of band-tailed pigeons when I arrived. There had been so many song birds chirping in the area I thought for sure there had to be water somewhere nearby, but alas.\n",
      "\n",
      "**Day 5**: In the morning I decided I would try to look for the spring again. Still no luck. I decided if Anish can go 40 miles a day without water maybe I can climb out of this canyon and get water at Little Mutau 10 miles away, but I worried I could get into serious trouble because I was already so thirsty. I looked for the trail going forward but I was not able to find my way. I wallowed in wild roses and vines getting nowhere. I decided a smart person would go back and get water. I estimated water was probably 3 hours back, which would mean it would add 6 hours of time were I to go get water and return. This would add a whole day to my itinerary and my partner would be waiting at the trailhead for me out of cell range with no way to contact him to let him know I was going to be late. He might call SAR. I don't need SAR if I can get myself out of here. So I decided to bail out.\n",
      "\n",
      "It still took me 6 hours to go those 3 miles back to the junction. I washed my poison oak saturated clothes in Piru Creek, probably to little avail. I discovered I had cell service right there so I called my partner and in the time it took me to hike out Hardluck road he was able to drive there all the way from Santa Barbara.\n",
      "\n",
      "I did all this to maybe find my Zpacks pointy hat that I lost on the Buck Creek trail in 2019. I didn't find my hat but I found somebody else's hat. On this trip I gained one Canadian flag wool hat and one pack towel. I could have picked up a hundred dollars worth of recyclable glass and aluminum. Not one container had a cold beverage left inside. C'mon guys, at least drop a few cold ones for the struggling hiker who might come by.\n",
      "\n",
      "**tl;dr;** Buck Creek trail is non-existent, which is a shame.\n",
      "\n",
      "**Gear Notes**:\n",
      "\n",
      "Once again, the **Pocket tarp** is the perfect shelter for the Los Padres. I never deployed the doors. I really didn't even need to deploy the shelter but I like having a little house.\n",
      "\n",
      "I used **polycryo AND a DCF poncho groundsheet**. I made the poncho groundsheet and want to protect it. I also discovered if I put my **thinlight** on the polycryo and the groundsheet on top of the thinlight there's a lot less slipping around. It just feels like my whole tent floor is cushioned.\n",
      "\n",
      "My **Zpacks Arc Blast** backpack survived the Buck Creek trail. Held up to the light I can see numerous tears in the outer material, which is unsurprising after the beating I gave it on Buck Creek. The inner DCF layer is unscathed.\n",
      "\n",
      "The **Trail Designs Fosters pot Caldera Cone system** is awesome. It boils super fast and doesn't need a lot of alcohol. There was no ban on alcohol stoves at the time I went. I brought a backup Graham cracker stove and a few esbits in case I ran out of alcohol. I never used it. The Fosters pot survived the Buck Creek trail. The cone fits inside and makes it quite rigid.\n",
      "\n",
      "I was super toasty warm in my **10 degree sleeping bag** (Zpacks again, sorry, I swear they don't sponsor me) wearing just my wind shirt and pants with bare feet, my down jacket, a down hood cinched tight around my face with my down jacket hood over it. I woke up to frozen shoes and socks stiff as a board.\n",
      "\n",
      "I think I lost about 10lbs.\n",
      "\n",
      "Edit: fixed broken link\n",
      "\n",
      "Edit 2: Fixed broken lighterpack link\n",
      "\n",
      "Predicted: 1 - Actual: 0\n",
      "And it’s closing in on midnight… I don’t want to go back to work but I’m thankful for the retreat\n",
      "\n",
      "Predicted: 0 - Actual: 1\n",
      "I have worked for REI for 5 years now, and over the course of this time I have worked hard to provide honest, accurate and accountable service to the many types of customers that walk through the door. I work hard to train my team to do the same, I work in camping, and I’m well equipped to handle UL conversations.\n",
      "\n",
      "I feel like a portion of the outdoor community feels that if they walk into REI for an outfitting, they’ll walk out with gear that’s too heavy, and not suited for the customer or upcoming trip. That does NOT happen at my REI or in my department, but I’m curious to know if that’s what you’ll get at an REI near you?\n",
      "\n",
      "Predicted: 1 - Actual: 0\n",
      "I'm a pretty nerdy guy... Like I play games all the time and stream on Twitch and I love science. I'm going camping with my family for 1 week tomorrow and we have WiFi there but I can't bring my PC and we don't own a console so what can a person like me do while I'm there? Also, I don't enjoy the sun or the outdoors in general so I need something that doesn't rely on the sun or something. Also, try not to make it something in the trailer because I can guarantee they're not going to allow me to just sit in the trailer. Thanks!\n",
      "\n",
      "Predicted: 0 - Actual: 1\n",
      "Quick trip into Joshua Tree last night. Using the Boy Scout trail as a starting point I left the trail after four miles and scaled on of the many stunning rock formations. \n",
      "\n",
      "Quite interesting with some weight on your back as your Center of balance shifts. \n",
      "\n",
      "Took my hexamid from Zpacks and it was great. Anchored with slip knots and rocks. \n",
      "\n",
      "It was cold, just at freezing or above and it was at the edge of comfortable with my pad and EE blanket. \n",
      "\n",
      "A great night and an incredible moment watching the moon rise over the desert below. \n",
      "\n",
      "https://imgur.com/ffDxhHG\n",
      "\n",
      "Predicted: 0 - Actual: 1\n",
      "I'm sure most of you have shared stuff like this already, but please post below if you have a similar story. Always crazy looking back at shit like this. If I saw this happening now I'd be infuriated, but we just didn't know any better.\n",
      "\n",
      "&#x200B;\n",
      "\n",
      "\\*correction - Just confirmed with friend. This trip took place in February. Still dangerous and extremely cold, but not technically the dead of winter, which I'd say is Janurary.\\*\n",
      "\n",
      "&#x200B;\n",
      "\n",
      "In my late teens I went on a one night camping trip with ten of my friends. None of us had any real experience, but two were Marines so we figured they'd become the de facto leaders and teach us the mountain man way.\n",
      "\n",
      "I carried maybe 35-40 pounds, including a small hacksaw and a hatchet. The only (accidental) ultralight stuff on me was a silk sleeping bag liner, a titanium esbit stove, and a freestanding tent, which at the time seemed impossibly small. All the gear belonged to my uncle.\n",
      "\n",
      "Oh, and it was the dead of winter on Peekamoose Mountain. I had a silk sleeping bag liner in the dead of winter.\n",
      "\n",
      "We hiked out in our jeans and either Converse or duck boots, and arrived with numb feet at an ice-covered campsite two hours later. We cleared the area of snow and debris, then went to work smashing at the ice because it just seemed like something we should do. Ice is cold, so smash it and toss it aside, right?\n",
      "\n",
      "We smashed ice for a while, then dug out the fire pit. We needed wood. I volunteered along with three others to gather some. We hiked to a nearby slope and started to climb. Looking back, this was an ice axe/crampons type of job.\n",
      "\n",
      "We fought our way up to the \"usable wood branches,\" slipping down often and starting over. Whenever we fell, we'd yell \"SAW!\" and throw our saws so they didn't cut us or anyone else on the way down.\n",
      "\n",
      "We were mountain men and knew the rules: you always yell \"SAW!\" when you're throwing a saw as you tumble down a snowy slope.\n",
      "\n",
      "Somehow, we gathered enough wood to get a fire started and lumbered back to camp.\n",
      "\n",
      "Fire blazing (with the help of some gasoline), we brought out the beer and food (MREs) and huge jugs of water. After four hours of driving and a few hours of grueling professional mountain man work, we were hungry and grumpy and freezing.\n",
      "\n",
      "That's when the ranger showed up. He took one look at our fire and shook his head.\n",
      "\n",
      "\"That's not dead wood. I could charge you a thousand dollars for each of those branches,\" he said.\n",
      "\n",
      "We were shocked. Isn't this how things were supposed to go out in the wilderness?\n",
      "\n",
      "\"I'll give you a warning this time, but you better put that fire out and toss the branches aside.\"\n",
      "\n",
      "\"But it's freezing,\" Tom, one of the Marines, said.\n",
      "\n",
      "\"Then you'd better find dead wood, or drive to town and pick some up.\"\n",
      "\n",
      "Tom and a few others went to buy the wood while the rest of us huddled together like idiots.\n",
      "\n",
      "A million hours later, they returned with stacks of plastic-wrapped wood and we got things going again. Soon it was dark, and with the dark came an endless barrage of cold winds the likes of which we had never before experienced in our lives. We didn't have the proper gear--leather jackets, hooded sweatshirts, so much cotton. I wore a fleece-lined coat that was useless below 40 degrees. I'm not sure what the temps were, but based on my cold weather experience since then, I'd have to guess it was well below freezing. Possibly in the teens.\n",
      "\n",
      "When it came time for bed, we split up into our tents. I was the only one with a one-person tent, and I made it maybe a half hour before I had to shack up in one of the bigger tents for some extra body heat. No one spoke. We all just laid there shivering and miserable. I earnestly thought I was going to die, but I didn't want to be the first guy to complain so I resigned myself to it. My whole body hurt and my breath came in quick gasps. I remember vividly picturing the few survivors finding my body in the morning.\n",
      "\n",
      "An hour passed. The world began to spin. All the shivering had worn me out, but I couldn't sleep. Then Shaun, the other Marine, yelled, \"Is anyone else fucking dying?\"\n",
      "\n",
      "We all screamed, \"Yes!\"\n",
      "\n",
      "\"We need to start the damn fire right now,\" Shaun yelled.\n",
      "\n",
      "I grabbed my 2 pound flashlight and stumbled out of the tent. First one. My beam cut through the utter blackness surrounding us. I made my way to the fire pit. I heard others stirring. Shaun joined me. I shined the light on our cooler. It was opened. I shined the light around the cooler, revealing scraps of food and wrappers everywhere. A single apple with a chunk bit off sat in the distance like an omen.\n",
      "\n",
      "Shaun poured gasoline on the wood and threw a match on it and boom the fire blazed. I told him about the food. Shaun said it was probably a deer, no big deal. A few people joined us while others worked up the nerve to get out of their sleeping bags. I felt the first wave of warmth against my body and it was good. Then, Shaun pointed behind me and said, \"Oh shit.\"\n",
      "\n",
      "I turned around to see yellow eyes watching us from two hundred feet away. We froze. The eyes moved towards us. They didn't stop moving. I grabbed my hatchet and scurried up a small tree. The eyes came faster now. People were stuttering and going, \"Ummm,\" and cursing to themselves.\n",
      "\n",
      "Shaun, finger still pointing at the creature coming towards us, screamed, \"Tom, get the shotgun, there's a fucking bear coming!\"\n",
      "\n",
      "Legend has it you can still hear the echo of that scream on cold winter nights.\n",
      "\n",
      "Click, click, I heard Tom loading up. He brought a damn shotgun. I raised my hatchet, ready for war.\n",
      "\n",
      "The closer the eyes got, the lower to the ground they looked. It went from huge bear to adolescent bear to \"maybe a raccoon or something?\" The eyes dipped below a ditch and that was that. Gone.\n",
      "\n",
      "\"Tom, never mind!\" Shaun yelled.\n",
      "\n",
      "“OK,” Tom said, his tone mellow and even. He stayed in his tent all night.\n",
      "\n",
      "The rest of us stuck to the fire until first light, then we ate and hiked back to the cars and drove home. We left any food scraps on the ground because \"the animals will take care of it.\"\n",
      "\n",
      "What a bunch of idiots.\n",
      "\n",
      "Predicted: 1 - Actual: 0\n",
      "I have been seeing a lot of people over the past few years coming up with excellent products that are either an improvement of what was already existing in the camping world (the [coolest](https://www.kickstarter.com/projects/ryangrepper/coolest-cooler-21st-century-cooler-thats-actually), the [wind catcher airpad](http://www.windcatchergear.com/)) or products applying renewable energy sources to old cooking systems (this [gosun grill](http://www.gosunstove.com/products/gosun-sport) is AMAZING). \n",
      "\n",
      "So my question to you, fellow campers around the world is: what products do you wish existed for camping but you can't find? Or what products you wished were better (greener, more efficient, lighter, whatever \"better\" means to you). \n",
      "\n",
      "And: how about we sit down and discuss how to make it and commercialize it together? I am serious. I have done this in the past in other sectors, but motorcycling and the outdoors are my passions, so why not here. \n",
      "\n",
      "Anyone wants to brainstorm with me? \n",
      "\n",
      "Posting this in other subreddits too. If there is enough interest for a serious discussion, I will build an appropriate subforum. Moderators, please let me know if I am violating some rules here...\n",
      "\n",
      "Predicted: 0 - Actual: 1\n",
      "https://www.google.com/amp/s/www.washingtonpost.com/amphtml/nation/2019/03/05/two-young-sisters-were-lost-woods-they-used-their-wilderness-training-survive/\n",
      "\n",
      "So glad this story had a happy ending. I heard about this when they went missing. I don’t live to far from there and we’ve been having a historically bad winter of rain and cold in Norcal. These basic skills all kids should learn. Proud of these girls and hopefully they learned there lesson to not explore without mom or dad. And they were ultralight only bringing there worn weight and some bars. \n",
      "\n",
      "Predicted: 0 - Actual: 1\n",
      "Quick trip into Joshua Tree last night. Using the Boy Scout trail as a starting point I left the trail after four miles and scaled on of the many stunning rock formations. \n",
      "\n",
      "Quite interesting with some weight on your back as your Center of balance shifts. \n",
      "\n",
      "Took my hexamid from Zpacks and it was great. Anchored with slip knots and rocks. \n",
      "\n",
      "It was cold, just at freezing or above and it was at the edge of comfortable with my pad and EE blanket. \n",
      "\n",
      "A great night and an incredible moment watching the moon rise over the desert below. \n",
      "\n",
      "https://imgur.com/ffDxhHG\n",
      "\n",
      "Predicted: 1 - Actual: 0\n",
      "I feel like I’m not utilizing my lash squares to the best of their abilities and looking for inspiration. I’m sure the most common uses are binding blankets and axes to their packs, but I’d love to hear what you’re tying to your pig noses.\n",
      "\n",
      "Predicted: 0 - Actual: 1\n",
      "An ultralight backpack for 2.5€? A 30L hiking one for 27? 10 years of warranty? Is it good? It feels too good to be true..\n",
      "\n",
      "Anyway, my question is, does anyone here have Quechua gear? What do you think about it?\n",
      "\n",
      "Predicted: 0 - Actual: 1\n",
      " [https://imgur.com/a/Tul1cEa](https://imgur.com/a/Tul1cEa) \n",
      "\n",
      "Shockingly, they stay put when I'm walking or shaking my feet around. I'll go out on a limb and guess they won't be very durable, but the total cost for the pair was about $2.50 (half of a Litesmith sit pad and a few inches of shock cord).\n",
      "\n",
      "I'm normally in the \"Ban Camp Shoes\" crowd, but I think I'll take these out this weekend just for shits.\n",
      "\n",
      "Thought I'd share - hope everyone is staying healthy!\n",
      "\n"
     ]
    }
   ],
   "source": [
    "mismatched_indices = (svc_preds != y_test)\n",
    "mismatched_texts = X_test[mismatched_indices]\n",
    "\n",
    "for i, text in enumerate(mismatched_texts):\n",
    "    predicted_label = svc_preds[mismatched_indices][i]\n",
    "    true_label = y_test.values[mismatched_indices][i]\n",
    "    print(f\"Predicted: {predicted_label} - Actual: {true_label}\\n{text}\\n\")\n"
   ]
  },
  {
   "cell_type": "markdown",
   "id": "6562efaa-505a-4bd2-bed7-ec569d97d3f9",
   "metadata": {},
   "source": [
    "### Voting Classifier misclassifications"
   ]
  },
  {
   "cell_type": "code",
   "execution_count": 47,
   "id": "75fff78c-9036-46fd-888f-0c476132d4be",
   "metadata": {
    "tags": []
   },
   "outputs": [
    {
     "name": "stdout",
     "output_type": "stream",
     "text": [
      "Predicted: 0 - Actual: 1\n",
      "With my mind all over the place lately with what's going on I needed to decompress. I cant hike, no trail running, fishing, bla bla bla  as all provincial parks are closed. I know there's worse things going on in the world than my little \"cant hike\"problems so what did I do? I gave 35 years of hiking/camping stuff away to the homeless shelter. It filled a full size van. 8 tents, 12 packs from kids to full expedition, 10 sleeping bags, sleeping pads, mats, coolers, nalgene bottles, stoves with fuel. You name it it was in there. Then I went into my closet. Bags of good clothes from socks to jackets.Every piece of cotton I own went in there plus every piece of technical clothing that I dont wear.  I feel better now. My mind and shop are decluttered and so people will get some much needed things.I reminisced and let go of many things not just gear. Here's a pick of my new go to gear closet. It's a hell of a lot lighter now. Thanks the whole point right?http://imgur.com/a/f47u4CU.\n",
      "\n",
      "Predicted: 1 - Actual: 0\n",
      "https://www.reddit.com/r/campingwithkids/\n",
      "Please contribute. If anyone wants to be a moderator, please join. \n",
      "\n",
      "Predicted: 0 - Actual: 1\n",
      "With my mind all over the place lately with what's going on I needed to decompress. I cant hike, no trail running, fishing, bla bla bla  as all provincial parks are closed. I know there's worse things going on in the world than my little \"cant hike\"problems so what did I do? I gave 35 years of hiking/camping stuff away to the homeless shelter. It filled a full size van. 8 tents, 12 packs from kids to full expedition, 10 sleeping bags, sleeping pads, mats, coolers, nalgene bottles, stoves with fuel. You name it it was in there. Then I went into my closet. Bags of good clothes from socks to jackets.Every piece of cotton I own went in there plus every piece of technical clothing that I dont wear.  I feel better now. My mind and shop are decluttered and so people will get some much needed things.I reminisced and let go of many things not just gear. Here's a pick of my new go to gear closet. It's a hell of a lot lighter now. Thanks the whole point right?http://imgur.com/a/f47u4CU.\n",
      "\n",
      "Predicted: 1 - Actual: 0\n",
      "Got a large first tent earlier in the year which a darkened bedroom and it is an amazing feature. You sleep so much better when the bright sun is not making your entire living space really bright at the crack of dawn. \n",
      "\n",
      "I've been aiming to get a smaller, lighter tent I can put up myself for solo adventures with my mtb (not necessarily bikepacking, just more time at further away trails without having to pay for a hotel/airbnb every time) and it's quite annoying to find a tent that ticks every box other than having a darkened room.\n",
      "\n",
      "Why aren't more tents like this? I'd have thought it would be an almost standard feature these days. Is it weight? Do most people just prefer to not have a darkened room?\n",
      "\n",
      "I'm considering leaving it until next year to see if more good small tents have this feature.\n",
      "\n",
      "Has anyone here tried DIY darkened bedrooms which I've read a bit about? Is it as much of a pain in the ass as I expect it be? Or even potentially trying to size up another tents bedroom with a darkened bedroom and buying that as a replacement part? I know there's the option of a sleep mask but it's not quite the same.\n",
      "\n",
      "For what its worth, I was considering the Vango Knoydart 300 for its feature/size/weight, though the closest I can really find to it with a darkened room is a Coleman Chimney Rock 3 Plus which is considerably heavier (and larger).\n",
      "\n",
      "Predicted: 1 - Actual: 0\n",
      "Anyone know of any good synthetic ultralight/compact sleeping bags and jackets? I do not use animal products. I have looked at the Enlightened Equipment Prodigy quilt which looks pretty nice. Has anyone used it? Thanks.\n",
      "\n",
      "Predicted: 1 - Actual: 0\n",
      "Edit::: to include this information for clarity.\n",
      "\n",
      "The 2022 model camper came with these batteries. \n",
      "\n",
      "(2) Interstate SRM-27 Deep Cycle Marine/RV. 88AH. 160RC. 750MCA. 12V. They are connected black/black, red/red. \n",
      "\n",
      "The only thing operating is the fridge. And NO, it can not run on propane. It's 12v Electric (it's on a fuse, not a breaker). It's a GE model GPV10FSNBSB. 12VDC, 13.5amps.\n",
      "\n",
      "The inverter is also drawing from the 12v system while in standby mode, so I will try turning that OFF at night.\n",
      "\n",
      "We have the solarflex400i solar panel system (2) 200watt panels and a Xantrex Freedom X2000 inverter. We only use 120v outlets during the day when the panels are operating efficiently. Typically, as the sun sets, our batteries are at full capacity\n",
      "\n",
      ":::::\n",
      "\n",
      "\n",
      "We have a Keystone Bullet with two deep cycle lead acid batteries. They are connected by jumper wires. When boondocking, we use the installed solar panels and inverter to power the 120v system, but the water pump, refrigerator, cabin lights, slide out, awning, power jack and power stabilizers all run on 12v. \n",
      "\n",
      "The battery is fully charged at the end of the day, but by morning, the fridge is warm, freezer is thawed and the lights flicker. The water pump is sluggish. \n",
      "\n",
      "We can monitor the battery system and solar panels by apps, and the battery app will indicate slow but steady drops as soon as the solar panels are done working for the day. It also shows the amount of useage, and calculates how long the system will operate without being recharged. One thing I noticed was that it suggested a \"remaining useage time\" of roughly 10 hours. This would explain why by 7am, our fridge is getting warm and nothing works, but it doesn't explain why, and what could possibly be draining those batteries so quickly?!?!\n",
      "\n",
      "Do we seriously need to move to Lithium batteries to boondock overnight? That doesn't seem right to me? All lights are off. No appliances are plugged in. The water pump is off. \n",
      "\n",
      "I've checked nealy every rv thread online, been to the manufacturers website and even talked to customer support. It's all circular talk with no solutions. The dealer will charge us $175/hr to evaluate, but they couldn't guarantee that they could discover the problem in an 8 hour day...\n",
      "\n",
      "So, here I am, looking for the free advice.\n",
      "\n",
      "Thanks, in advance.\n",
      "\n",
      "Predicted: 1 - Actual: 0\n",
      "This is the best stove I have ever use.\n",
      "\n",
      "Only $17.99, present price is $19.99, promo code: XSUT262P (save $2), expires on 04/27/2015 11:59 PM PDT.\n",
      "1.It is ultralight and foldable, easy to carry and easy to set up. Ideal for camping, backpacking, long-time trip\n",
      "\n",
      "2.Strong & Sturdy: Made of aluminum alloy and stainless steel, with low center of gravity and wide base, can stand high temperature and weight(max: 6kg). The stove top with anti-slip design can accommodate up to a 30cm diameter pan in a sturdy way.\n",
      "\n",
      "3.Efficient & Easy: No need to use stove windscreen. Boil 2 pints of water in 6 minutes. The valve is designed to adjust the flame from full roar to a low simmer. The efficient flame can make a disposable butane canister last for days.\n",
      "\n",
      "4.Safe & Compatible: The stainless steel mesh gas host is 11\"(28cm). It is safe and easy to connect with the fuel canister. Use with straight butane or butane-propane mixed fuel canisters with threaded 7/16 NS Lindal Valve (EN417).\n",
      "\n",
      "5.Quick to Ignite: Piezoelectric Ceramic Ignition can be fired up each and every time. It can be used up to 1-1.2 million times.\n",
      "http://www.amazon.com/Dpower-Ultralight-Backpacking-Gas-powered-Ignition/dp/B00PW7HL8A/ref=sr_1_cc_1?s=aps&ie=UTF8&qid=1428400713&sr=1-1-catcorr&keywords=DPOWER+mini+camping+stove\n",
      "\n",
      "Predicted: 1 - Actual: 0\n",
      "I'm going to go hunting for the week but I only have a tent. I don't know how to keep it comfortably warm in freezing temperatures (not including wind chill). \n",
      "\n",
      "Right now I figured I'll light a fire where I want my tent, warm up the rocks it's going to be on, then after the fire completely dies, put some hay down between the rocks and the tent, then between they hay, a thick blanket. Then have the tent on top of that.\n",
      "\n",
      "For the tent itself I'm thinking of putting a blanket over top of it and having one inside on the floor. Over top of the tent and blanket, a tarp to hold the blanket down and to add a little more insulation. \n",
      "\n",
      "I 5gal jug of hot water wrapped in foil and a blanket is reserve heat and to heat up the whole tent.\n",
      "\n",
      "For sleeping I figure a sleeping bag wrapped in a blanket and a blanket on the inside is my best bet.\n",
      "\n",
      "Note: both my sleeping bag and tent are pretty cheap and not made for supper cold weather. I'm also thinking of some half warmers incase of emergency but I'm looking for a cheap option. I'm going tomorrow and didn't think of asking y'all until just now.\n",
      "\n",
      "Note 2: I don't have a budget. I have alot of everything I said about accept for the hand warmers, I have 4.\n",
      "\n",
      "Predicted: 1 - Actual: 0\n",
      "This group is amazing.  I shared in the \"What do you consider Glamping\" [https://www.reddit.com/r/camping/comments/11m0m99/comment/jbiiz8o/?context=3](https://www.reddit.com/r/camping/comments/11m0m99/comment/jbiiz8o/?context=3) thread yesterday about our transformation through the years as my wife's (mostly) health suffered.  417 (so far) up votes and not one negative.  I was reluctant to post as I was criticized on another forum and told to either stay home or at a hotel as we were part of the problems people have to put up with while camping.  Thank you for being understanding!  \n",
      "\n",
      "Predicted: 1 - Actual: 0\n",
      "Just getting back to my roots camping when I was younger , want to put 600 or so in gear as I haven't camped since I lived in ny and dont have any gear anymore. I love function over form mostly, I'm a tech guy not looking for glamping persay but do intend some devices and a solar panel that can fit in a new backpack, looking for a multi day setup. About 3 days at a time to start. Any suggestions useful, such as places , kit, etc, to start I'm looking at a backpack and a tent and a couple starters , I also have my 4 door sedan for transport. I'm looking at the gregory bags with hydration like the zulo or paragon etc . Would love some boots on the ground ideas. Thanks!\n",
      "\n",
      "Predicted: 1 - Actual: 0\n",
      "Originally posted in /r/nosleep and made it to front page. \n",
      "I recognized at least one of the stories from a radio show on Coast To Coast AM about [strange disappearances of people in National and State Parks.](http://www.coasttocoastam.com/search/?query=missing+people+parks&search.x=18&search.y=12)\n",
      "\n",
      "Now this guy takes it to another level...\n",
      "\n",
      "part 1:\n",
      "https://www.reddit.com/r/nosleep/comments/3iex1h/im_a_search_and_rescue_officer_for_the_us_forest/?ref=share&ref_source=link\n",
      "\n",
      "part 2:\n",
      "https://www.reddit.com/r/nosleep/comments/3ijnt6/im_a_search_and_rescue_officer_for_the_us_forest/?ref=share&ref_source=link\n",
      "\n",
      "part 3:\n",
      "https://www.reddit.com/r/nosleep/comments/3iocju/im_a_search_and_rescue_officer_for_the_us_forest/?ref=share&ref_source=link\n",
      "\n",
      "(warning: walls of text)\n",
      "\n",
      "There could be something to it; or it could be a conspiracy to scare people out of the woods; or it could just be too many people with too much time on their hands - either way, it's great fodder for some freaky campfire stories on your next trip...\n",
      "\n"
     ]
    }
   ],
   "source": [
    "mismatched_indices = (vc_preds != y_test)\n",
    "mismatched_texts = X_test[mismatched_indices]\n",
    "\n",
    "for i, text in enumerate(mismatched_texts):\n",
    "    predicted_label = vc_preds[mismatched_indices][i]\n",
    "    true_label = y_test.values[mismatched_indices][i]\n",
    "    print(f\"Predicted: {predicted_label} - Actual: {true_label}\\n{text}\\n\")"
   ]
  },
  {
   "cell_type": "code",
   "execution_count": null,
   "id": "c209c9f0-75ba-4abc-b571-562ebbc309df",
   "metadata": {},
   "outputs": [],
   "source": []
  }
 ],
 "metadata": {
  "kernelspec": {
   "display_name": "Python 3 (ipykernel)",
   "language": "python",
   "name": "python3"
  },
  "language_info": {
   "codemirror_mode": {
    "name": "ipython",
    "version": 3
   },
   "file_extension": ".py",
   "mimetype": "text/x-python",
   "name": "python",
   "nbconvert_exporter": "python",
   "pygments_lexer": "ipython3",
   "version": "3.11.4"
  }
 },
 "nbformat": 4,
 "nbformat_minor": 5
}
