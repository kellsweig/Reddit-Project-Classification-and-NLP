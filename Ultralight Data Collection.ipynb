{
 "cells": [
  {
   "cell_type": "code",
   "execution_count": 1,
   "id": "8ac79d6d-3446-47c3-bab0-d69a6b9134cb",
   "metadata": {
    "tags": []
   },
   "outputs": [],
   "source": [
    "import praw\n",
    "import pandas as pd"
   ]
  },
  {
   "cell_type": "code",
   "execution_count": null,
   "id": "7400fdcc-1882-4988-9e06-2bad02bef76f",
   "metadata": {},
   "outputs": [],
   "source": [
    "var = open('../credentials.txt').readlines()\n",
    "var"
   ]
  },
  {
   "cell_type": "code",
   "execution_count": 2,
   "id": "a4d7a4f5-4cb9-4a54-bcd0-bc04d04e0f05",
   "metadata": {
    "tags": []
   },
   "outputs": [],
   "source": [
    "reddit = praw.Reddit(\n",
    "    client_id='AVV_s0cMo6_Zb6YLG7PIsg',\n",
    "    client_secret=var[0],\n",
    "    user_agent='project by u/iamnotthethrowaway',\n",
    "    username='iamnotthethrowaway'\n",
    ")"
   ]
  },
  {
   "cell_type": "code",
   "execution_count": 3,
   "id": "04048ccb-5b12-48ae-a00b-8ce230dce042",
   "metadata": {
    "tags": []
   },
   "outputs": [],
   "source": [
    "# First subreddit r/Ultralight\n",
    "subreddit = reddit.subreddit('Ultralight')\n",
    "\n",
    "# Adjust the limit as needed -- Note that this will grab the 1000 most recent posts\n",
    "posts = subreddit.top(limit = 1000)"
   ]
  },
  {
   "cell_type": "code",
   "execution_count": 4,
   "id": "a10cd40e-d8d7-42eb-b345-a40074bdd226",
   "metadata": {},
   "outputs": [],
   "source": [
    "data = []"
   ]
  },
  {
   "cell_type": "code",
   "execution_count": 11,
   "id": "d84ac6f9-afec-4822-8b27-f2aac764f4e4",
   "metadata": {
    "tags": []
   },
   "outputs": [],
   "source": [
    "#for post in posts:\n",
    "    #data.append([post.created_utc, post.title, post.selftext, post.subreddit])\n"
   ]
  },
  {
   "cell_type": "code",
   "execution_count": 6,
   "id": "b148db8a-590f-44e1-8357-82e4c7976323",
   "metadata": {},
   "outputs": [],
   "source": [
    "# First subreddit r/Ultralight\n",
    "subreddit = reddit.subreddit('Ultralight')\n",
    "\n",
    "# Adjust the limit as needed -- Note that this will grab the 1000 most recent posts\n",
    "posts = subreddit.new(limit = 1000)"
   ]
  },
  {
   "cell_type": "code",
   "execution_count": 7,
   "id": "fa8b6514-d7c3-4531-b81f-447c41b0f02c",
   "metadata": {},
   "outputs": [],
   "source": [
    "#import pandas as pd\n",
    "\n",
    "for post in posts:\n",
    "    data.append([post.created_utc, post.title, post.selftext, post.subreddit])\n"
   ]
  },
  {
   "cell_type": "code",
   "execution_count": 10,
   "id": "c82480ea-f30b-48c0-9e05-93a6e5e245ff",
   "metadata": {},
   "outputs": [],
   "source": [
    "# First subreddit r/Ultralight\n",
    "subreddit = reddit.subreddit('Ultralight')\n",
    "\n",
    "# Adjust the limit as needed -- Note that this will grab the 1000 most recent posts\n",
    "posts = subreddit.hot(limit = 1000)"
   ]
  },
  {
   "cell_type": "code",
   "execution_count": 12,
   "id": "7705fd32-67db-46e6-987f-2a7cb6c5311c",
   "metadata": {},
   "outputs": [
    {
     "data": {
      "text/html": [
       "<div>\n",
       "<style scoped>\n",
       "    .dataframe tbody tr th:only-of-type {\n",
       "        vertical-align: middle;\n",
       "    }\n",
       "\n",
       "    .dataframe tbody tr th {\n",
       "        vertical-align: top;\n",
       "    }\n",
       "\n",
       "    .dataframe thead th {\n",
       "        text-align: right;\n",
       "    }\n",
       "</style>\n",
       "<table border=\"1\" class=\"dataframe\">\n",
       "  <thead>\n",
       "    <tr style=\"text-align: right;\">\n",
       "      <th></th>\n",
       "      <th>created_utc</th>\n",
       "      <th>title</th>\n",
       "      <th>self_text</th>\n",
       "      <th>subreddit</th>\n",
       "    </tr>\n",
       "  </thead>\n",
       "  <tbody>\n",
       "    <tr>\n",
       "      <th>0</th>\n",
       "      <td>1.609726e+09</td>\n",
       "      <td>The science of your smelly base layer</td>\n",
       "      <td>\\**Edited for clarity and further information ...</td>\n",
       "      <td>Ultralight</td>\n",
       "    </tr>\n",
       "    <tr>\n",
       "      <th>1</th>\n",
       "      <td>1.612632e+09</td>\n",
       "      <td>My husband's cousin, Josh Hall, and his dog, H...</td>\n",
       "      <td>Josh is 6'4, 200 lbs. Wearing green khaki jack...</td>\n",
       "      <td>Ultralight</td>\n",
       "    </tr>\n",
       "    <tr>\n",
       "      <th>2</th>\n",
       "      <td>1.553629e+09</td>\n",
       "      <td>How to interact with women in the backcountry:...</td>\n",
       "      <td>This topic came up in the recent thread about ...</td>\n",
       "      <td>Ultralight</td>\n",
       "    </tr>\n",
       "    <tr>\n",
       "      <th>3</th>\n",
       "      <td>1.497484e+09</td>\n",
       "      <td>Don't ruin a trip for everyone because you tri...</td>\n",
       "      <td>Yes I said it, some people try too hard these ...</td>\n",
       "      <td>Ultralight</td>\n",
       "    </tr>\n",
       "    <tr>\n",
       "      <th>4</th>\n",
       "      <td>1.506729e+09</td>\n",
       "      <td>CDT/Triple Crown complete!</td>\n",
       "      <td></td>\n",
       "      <td>Ultralight</td>\n",
       "    </tr>\n",
       "  </tbody>\n",
       "</table>\n",
       "</div>"
      ],
      "text/plain": [
       "    created_utc                                              title  \\\n",
       "0  1.609726e+09              The science of your smelly base layer   \n",
       "1  1.612632e+09  My husband's cousin, Josh Hall, and his dog, H...   \n",
       "2  1.553629e+09  How to interact with women in the backcountry:...   \n",
       "3  1.497484e+09  Don't ruin a trip for everyone because you tri...   \n",
       "4  1.506729e+09                         CDT/Triple Crown complete!   \n",
       "\n",
       "                                           self_text   subreddit  \n",
       "0  \\**Edited for clarity and further information ...  Ultralight  \n",
       "1  Josh is 6'4, 200 lbs. Wearing green khaki jack...  Ultralight  \n",
       "2  This topic came up in the recent thread about ...  Ultralight  \n",
       "3  Yes I said it, some people try too hard these ...  Ultralight  \n",
       "4                                                     Ultralight  "
      ]
     },
     "execution_count": 12,
     "metadata": {},
     "output_type": "execute_result"
    }
   ],
   "source": [
    "#import pandas as pd\n",
    "\n",
    "for post in posts:\n",
    "    data.append([post.created_utc, post.title, post.selftext, post.subreddit])\n",
    "\n",
    "# Turn into a dataframe\n",
    "ultralight = pd.DataFrame(data, columns = ['created_utc', 'title', 'self_text', 'subreddit'])\n",
    "ultralight.head()"
   ]
  },
  {
   "cell_type": "code",
   "execution_count": 13,
   "id": "0f958073-4029-4e97-b7f8-c7ecec782eff",
   "metadata": {
    "tags": []
   },
   "outputs": [
    {
     "data": {
      "text/plain": [
       "(3974, 4)"
      ]
     },
     "execution_count": 13,
     "metadata": {},
     "output_type": "execute_result"
    }
   ],
   "source": [
    "ultralight.shape"
   ]
  },
  {
   "cell_type": "code",
   "execution_count": 14,
   "id": "31b24def-42b5-4e79-a364-7c32a81cdbb9",
   "metadata": {
    "tags": []
   },
   "outputs": [
    {
     "data": {
      "text/plain": [
       "created_utc    1984\n",
       "title          1979\n",
       "self_text      1741\n",
       "subreddit         1\n",
       "dtype: int64"
      ]
     },
     "execution_count": 14,
     "metadata": {},
     "output_type": "execute_result"
    }
   ],
   "source": [
    "ultralight.nunique()"
   ]
  },
  {
   "cell_type": "code",
   "execution_count": 15,
   "id": "c39767d0-fc60-41ff-9630-461789ae66f1",
   "metadata": {
    "tags": []
   },
   "outputs": [],
   "source": [
    "ultralight.to_csv('data/Ultralight/ultralight4.csv')"
   ]
  },
  {
   "cell_type": "code",
   "execution_count": null,
   "id": "34bac472-2a86-4546-a31b-1f42fc5394f9",
   "metadata": {},
   "outputs": [],
   "source": []
  }
 ],
 "metadata": {
  "kernelspec": {
   "display_name": "Python 3 (ipykernel)",
   "language": "python",
   "name": "python3"
  },
  "language_info": {
   "codemirror_mode": {
    "name": "ipython",
    "version": 3
   },
   "file_extension": ".py",
   "mimetype": "text/x-python",
   "name": "python",
   "nbconvert_exporter": "python",
   "pygments_lexer": "ipython3",
   "version": "3.11.4"
  }
 },
 "nbformat": 4,
 "nbformat_minor": 5
}
