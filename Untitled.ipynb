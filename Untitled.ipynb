{
 "cells": [
  {
   "cell_type": "code",
   "execution_count": 9,
   "id": "d9bea024-721d-455b-bc14-f11cf0198cd0",
   "metadata": {
    "tags": []
   },
   "outputs": [],
   "source": [
    "import pandas as pd\n",
    "import numpy as np\n",
    "import matplotlib.pyplot as plt\n",
    "\n",
    "from sklearn.model_selection import train_test_split, GridSearchCV, RandomizedSearchCV\n",
    "from sklearn.pipeline import Pipeline\n",
    "from sklearn.naive_bayes import MultinomialNB\n",
    "\n",
    "from nltk.sentiment.vader import SentimentIntensityAnalyzer\n",
    "from sklearn.metrics import confusion_matrix, ConfusionMatrixDisplay, f1_score\n",
    "\n",
    "from sklearn.feature_extraction.text import CountVectorizer, TfidfVectorizer\n",
    "\n",
    "from sklearn.linear_model import LogisticRegression\n",
    "from sklearn.neighbors import KNeighborsClassifier\n",
    "\n",
    "from sklearn.tree import DecisionTreeClassifier\n",
    "from sklearn.ensemble import BaggingClassifier, VotingClassifier\n",
    "\n",
    "from sklearn.ensemble import RandomForestClassifier, ExtraTreesClassifier"
   ]
  },
  {
   "cell_type": "code",
   "execution_count": 19,
   "id": "56d0f91a-57d6-4923-9a70-0172dc26d8db",
   "metadata": {
    "tags": []
   },
   "outputs": [],
   "source": [
    "df = pd.read_csv('data/combined_dataset_no_short_posts.csv')"
   ]
  },
  {
   "cell_type": "code",
   "execution_count": 20,
   "id": "07ebaaf5-da1e-4065-b864-27052c948713",
   "metadata": {
    "tags": []
   },
   "outputs": [],
   "source": [
    "X = df['self_text']\n",
    "y= df['subreddit']\n",
    "# Split the data into the training and testing sets.\n",
    "X_train, X_test, y_train, y_test = train_test_split(X, y, random_state=42)"
   ]
  },
  {
   "cell_type": "code",
   "execution_count": 28,
   "id": "c51faf7a-be07-4b09-ae3b-0e6842366f21",
   "metadata": {
    "tags": []
   },
   "outputs": [],
   "source": [
    "tvec = TfidfVectorizer(stop_words = \"english\", min_df=5)\n",
    "X_train_transformed = tvec.fit_transform(X_train)\n",
    "X_test_transformed = tvec.transform(X_test)"
   ]
  },
  {
   "cell_type": "code",
   "execution_count": 11,
   "id": "22a9aa46-1634-4309-8c95-cee61ff8704c",
   "metadata": {
    "tags": []
   },
   "outputs": [
    {
     "data": {
      "text/html": [
       "<style>#sk-container-id-1 {color: black;}#sk-container-id-1 pre{padding: 0;}#sk-container-id-1 div.sk-toggleable {background-color: white;}#sk-container-id-1 label.sk-toggleable__label {cursor: pointer;display: block;width: 100%;margin-bottom: 0;padding: 0.3em;box-sizing: border-box;text-align: center;}#sk-container-id-1 label.sk-toggleable__label-arrow:before {content: \"▸\";float: left;margin-right: 0.25em;color: #696969;}#sk-container-id-1 label.sk-toggleable__label-arrow:hover:before {color: black;}#sk-container-id-1 div.sk-estimator:hover label.sk-toggleable__label-arrow:before {color: black;}#sk-container-id-1 div.sk-toggleable__content {max-height: 0;max-width: 0;overflow: hidden;text-align: left;background-color: #f0f8ff;}#sk-container-id-1 div.sk-toggleable__content pre {margin: 0.2em;color: black;border-radius: 0.25em;background-color: #f0f8ff;}#sk-container-id-1 input.sk-toggleable__control:checked~div.sk-toggleable__content {max-height: 200px;max-width: 100%;overflow: auto;}#sk-container-id-1 input.sk-toggleable__control:checked~label.sk-toggleable__label-arrow:before {content: \"▾\";}#sk-container-id-1 div.sk-estimator input.sk-toggleable__control:checked~label.sk-toggleable__label {background-color: #d4ebff;}#sk-container-id-1 div.sk-label input.sk-toggleable__control:checked~label.sk-toggleable__label {background-color: #d4ebff;}#sk-container-id-1 input.sk-hidden--visually {border: 0;clip: rect(1px 1px 1px 1px);clip: rect(1px, 1px, 1px, 1px);height: 1px;margin: -1px;overflow: hidden;padding: 0;position: absolute;width: 1px;}#sk-container-id-1 div.sk-estimator {font-family: monospace;background-color: #f0f8ff;border: 1px dotted black;border-radius: 0.25em;box-sizing: border-box;margin-bottom: 0.5em;}#sk-container-id-1 div.sk-estimator:hover {background-color: #d4ebff;}#sk-container-id-1 div.sk-parallel-item::after {content: \"\";width: 100%;border-bottom: 1px solid gray;flex-grow: 1;}#sk-container-id-1 div.sk-label:hover label.sk-toggleable__label {background-color: #d4ebff;}#sk-container-id-1 div.sk-serial::before {content: \"\";position: absolute;border-left: 1px solid gray;box-sizing: border-box;top: 0;bottom: 0;left: 50%;z-index: 0;}#sk-container-id-1 div.sk-serial {display: flex;flex-direction: column;align-items: center;background-color: white;padding-right: 0.2em;padding-left: 0.2em;position: relative;}#sk-container-id-1 div.sk-item {position: relative;z-index: 1;}#sk-container-id-1 div.sk-parallel {display: flex;align-items: stretch;justify-content: center;background-color: white;position: relative;}#sk-container-id-1 div.sk-item::before, #sk-container-id-1 div.sk-parallel-item::before {content: \"\";position: absolute;border-left: 1px solid gray;box-sizing: border-box;top: 0;bottom: 0;left: 50%;z-index: -1;}#sk-container-id-1 div.sk-parallel-item {display: flex;flex-direction: column;z-index: 1;position: relative;background-color: white;}#sk-container-id-1 div.sk-parallel-item:first-child::after {align-self: flex-end;width: 50%;}#sk-container-id-1 div.sk-parallel-item:last-child::after {align-self: flex-start;width: 50%;}#sk-container-id-1 div.sk-parallel-item:only-child::after {width: 0;}#sk-container-id-1 div.sk-dashed-wrapped {border: 1px dashed gray;margin: 0 0.4em 0.5em 0.4em;box-sizing: border-box;padding-bottom: 0.4em;background-color: white;}#sk-container-id-1 div.sk-label label {font-family: monospace;font-weight: bold;display: inline-block;line-height: 1.2em;}#sk-container-id-1 div.sk-label-container {text-align: center;}#sk-container-id-1 div.sk-container {/* jupyter's `normalize.less` sets `[hidden] { display: none; }` but bootstrap.min.css set `[hidden] { display: none !important; }` so we also need the `!important` here to be able to override the default hidden behavior on the sphinx rendered scikit-learn.org. See: https://github.com/scikit-learn/scikit-learn/issues/21755 */display: inline-block !important;position: relative;}#sk-container-id-1 div.sk-text-repr-fallback {display: none;}</style><div id=\"sk-container-id-1\" class=\"sk-top-container\"><div class=\"sk-text-repr-fallback\"><pre>RandomForestClassifier(n_estimators=500, oob_score=True)</pre><b>In a Jupyter environment, please rerun this cell to show the HTML representation or trust the notebook. <br />On GitHub, the HTML representation is unable to render, please try loading this page with nbviewer.org.</b></div><div class=\"sk-container\" hidden><div class=\"sk-item\"><div class=\"sk-estimator sk-toggleable\"><input class=\"sk-toggleable__control sk-hidden--visually\" id=\"sk-estimator-id-1\" type=\"checkbox\" checked><label for=\"sk-estimator-id-1\" class=\"sk-toggleable__label sk-toggleable__label-arrow\">RandomForestClassifier</label><div class=\"sk-toggleable__content\"><pre>RandomForestClassifier(n_estimators=500, oob_score=True)</pre></div></div></div></div></div>"
      ],
      "text/plain": [
       "RandomForestClassifier(n_estimators=500, oob_score=True)"
      ]
     },
     "execution_count": 11,
     "metadata": {},
     "output_type": "execute_result"
    }
   ],
   "source": [
    "#Random Forest Model\n",
    "rf = RandomForestClassifier(\n",
    "    n_estimators=500,\n",
    "    max_features='sqrt',\n",
    "    oob_score=True,\n",
    ")\n",
    "\n",
    "rf.fit(X_train_transformed, y_train)"
   ]
  },
  {
   "cell_type": "code",
   "execution_count": 13,
   "id": "3e4eca08-e91c-4280-bf41-632c6c38e5b3",
   "metadata": {
    "tags": []
   },
   "outputs": [
    {
     "name": "stdout",
     "output_type": "stream",
     "text": [
      "1.0\n",
      "0.9927831816755569\n",
      "0.992050209205021\n"
     ]
    }
   ],
   "source": [
    "print(rf.score(X_train_transformed, y_train))\n",
    "print(rf.score(X_test_transformed, y_test))\n",
    "print(rf.oob_score_)"
   ]
  },
  {
   "cell_type": "code",
   "execution_count": 14,
   "id": "ac949dae-266b-439b-8565-5fc69269e73c",
   "metadata": {
    "tags": []
   },
   "outputs": [
    {
     "ename": "AttributeError",
     "evalue": "'Series' object has no attribute 'columns'",
     "output_type": "error",
     "traceback": [
      "\u001b[1;31m---------------------------------------------------------------------------\u001b[0m",
      "\u001b[1;31mAttributeError\u001b[0m                            Traceback (most recent call last)",
      "Cell \u001b[1;32mIn[14], line 5\u001b[0m\n\u001b[0;32m      1\u001b[0m rf\u001b[38;5;241m.\u001b[39mfeature_importances_\n\u001b[0;32m      3\u001b[0m \u001b[38;5;66;03m#Create a dataframe of the feature importances from Random Forest\u001b[39;00m\n\u001b[0;32m      4\u001b[0m feature_importances \u001b[38;5;241m=\u001b[39m pd\u001b[38;5;241m.\u001b[39mDataFrame({\n\u001b[1;32m----> 5\u001b[0m     \u001b[38;5;124m'\u001b[39m\u001b[38;5;124mvariable\u001b[39m\u001b[38;5;124m'\u001b[39m: X\u001b[38;5;241m.\u001b[39mcolumns,\n\u001b[0;32m      6\u001b[0m     \u001b[38;5;124m'\u001b[39m\u001b[38;5;124mimportance\u001b[39m\u001b[38;5;124m'\u001b[39m: rf\u001b[38;5;241m.\u001b[39mfeature_importances_\n\u001b[0;32m      7\u001b[0m })\u001b[38;5;241m.\u001b[39msort_values(\u001b[38;5;124m'\u001b[39m\u001b[38;5;124mimportance\u001b[39m\u001b[38;5;124m'\u001b[39m, ascending\u001b[38;5;241m=\u001b[39m\u001b[38;5;28;01mFalse\u001b[39;00m)\n\u001b[0;32m      8\u001b[0m feature_importances\u001b[38;5;241m.\u001b[39mhead(\u001b[38;5;241m25\u001b[39m)\n",
      "File \u001b[1;32m~\\anaconda3\\Lib\\site-packages\\pandas\\core\\generic.py:5902\u001b[0m, in \u001b[0;36mNDFrame.__getattr__\u001b[1;34m(self, name)\u001b[0m\n\u001b[0;32m   5895\u001b[0m \u001b[38;5;28;01mif\u001b[39;00m (\n\u001b[0;32m   5896\u001b[0m     name \u001b[38;5;129;01mnot\u001b[39;00m \u001b[38;5;129;01min\u001b[39;00m \u001b[38;5;28mself\u001b[39m\u001b[38;5;241m.\u001b[39m_internal_names_set\n\u001b[0;32m   5897\u001b[0m     \u001b[38;5;129;01mand\u001b[39;00m name \u001b[38;5;129;01mnot\u001b[39;00m \u001b[38;5;129;01min\u001b[39;00m \u001b[38;5;28mself\u001b[39m\u001b[38;5;241m.\u001b[39m_metadata\n\u001b[0;32m   5898\u001b[0m     \u001b[38;5;129;01mand\u001b[39;00m name \u001b[38;5;129;01mnot\u001b[39;00m \u001b[38;5;129;01min\u001b[39;00m \u001b[38;5;28mself\u001b[39m\u001b[38;5;241m.\u001b[39m_accessors\n\u001b[0;32m   5899\u001b[0m     \u001b[38;5;129;01mand\u001b[39;00m \u001b[38;5;28mself\u001b[39m\u001b[38;5;241m.\u001b[39m_info_axis\u001b[38;5;241m.\u001b[39m_can_hold_identifiers_and_holds_name(name)\n\u001b[0;32m   5900\u001b[0m ):\n\u001b[0;32m   5901\u001b[0m     \u001b[38;5;28;01mreturn\u001b[39;00m \u001b[38;5;28mself\u001b[39m[name]\n\u001b[1;32m-> 5902\u001b[0m \u001b[38;5;28;01mreturn\u001b[39;00m \u001b[38;5;28mobject\u001b[39m\u001b[38;5;241m.\u001b[39m\u001b[38;5;21m__getattribute__\u001b[39m(\u001b[38;5;28mself\u001b[39m, name)\n",
      "\u001b[1;31mAttributeError\u001b[0m: 'Series' object has no attribute 'columns'"
     ]
    }
   ],
   "source": [
    "rf.feature_importances_\n",
    "\n",
    "#Create a dataframe of the feature importances from Random Forest\n",
    "feature_importances = pd.DataFrame({\n",
    "    'variable': X.columns,\n",
    "    'importance': rf.feature_importances_\n",
    "}).sort_values('importance', ascending=False)\n",
    "feature_importances.head(25)"
   ]
  },
  {
   "cell_type": "code",
   "execution_count": 32,
   "id": "09a196f1-7e6d-4f89-aedd-498c1c5a273f",
   "metadata": {
    "tags": []
   },
   "outputs": [
    {
     "data": {
      "text/html": [
       "<style>#sk-container-id-6 {color: black;}#sk-container-id-6 pre{padding: 0;}#sk-container-id-6 div.sk-toggleable {background-color: white;}#sk-container-id-6 label.sk-toggleable__label {cursor: pointer;display: block;width: 100%;margin-bottom: 0;padding: 0.3em;box-sizing: border-box;text-align: center;}#sk-container-id-6 label.sk-toggleable__label-arrow:before {content: \"▸\";float: left;margin-right: 0.25em;color: #696969;}#sk-container-id-6 label.sk-toggleable__label-arrow:hover:before {color: black;}#sk-container-id-6 div.sk-estimator:hover label.sk-toggleable__label-arrow:before {color: black;}#sk-container-id-6 div.sk-toggleable__content {max-height: 0;max-width: 0;overflow: hidden;text-align: left;background-color: #f0f8ff;}#sk-container-id-6 div.sk-toggleable__content pre {margin: 0.2em;color: black;border-radius: 0.25em;background-color: #f0f8ff;}#sk-container-id-6 input.sk-toggleable__control:checked~div.sk-toggleable__content {max-height: 200px;max-width: 100%;overflow: auto;}#sk-container-id-6 input.sk-toggleable__control:checked~label.sk-toggleable__label-arrow:before {content: \"▾\";}#sk-container-id-6 div.sk-estimator input.sk-toggleable__control:checked~label.sk-toggleable__label {background-color: #d4ebff;}#sk-container-id-6 div.sk-label input.sk-toggleable__control:checked~label.sk-toggleable__label {background-color: #d4ebff;}#sk-container-id-6 input.sk-hidden--visually {border: 0;clip: rect(1px 1px 1px 1px);clip: rect(1px, 1px, 1px, 1px);height: 1px;margin: -1px;overflow: hidden;padding: 0;position: absolute;width: 1px;}#sk-container-id-6 div.sk-estimator {font-family: monospace;background-color: #f0f8ff;border: 1px dotted black;border-radius: 0.25em;box-sizing: border-box;margin-bottom: 0.5em;}#sk-container-id-6 div.sk-estimator:hover {background-color: #d4ebff;}#sk-container-id-6 div.sk-parallel-item::after {content: \"\";width: 100%;border-bottom: 1px solid gray;flex-grow: 1;}#sk-container-id-6 div.sk-label:hover label.sk-toggleable__label {background-color: #d4ebff;}#sk-container-id-6 div.sk-serial::before {content: \"\";position: absolute;border-left: 1px solid gray;box-sizing: border-box;top: 0;bottom: 0;left: 50%;z-index: 0;}#sk-container-id-6 div.sk-serial {display: flex;flex-direction: column;align-items: center;background-color: white;padding-right: 0.2em;padding-left: 0.2em;position: relative;}#sk-container-id-6 div.sk-item {position: relative;z-index: 1;}#sk-container-id-6 div.sk-parallel {display: flex;align-items: stretch;justify-content: center;background-color: white;position: relative;}#sk-container-id-6 div.sk-item::before, #sk-container-id-6 div.sk-parallel-item::before {content: \"\";position: absolute;border-left: 1px solid gray;box-sizing: border-box;top: 0;bottom: 0;left: 50%;z-index: -1;}#sk-container-id-6 div.sk-parallel-item {display: flex;flex-direction: column;z-index: 1;position: relative;background-color: white;}#sk-container-id-6 div.sk-parallel-item:first-child::after {align-self: flex-end;width: 50%;}#sk-container-id-6 div.sk-parallel-item:last-child::after {align-self: flex-start;width: 50%;}#sk-container-id-6 div.sk-parallel-item:only-child::after {width: 0;}#sk-container-id-6 div.sk-dashed-wrapped {border: 1px dashed gray;margin: 0 0.4em 0.5em 0.4em;box-sizing: border-box;padding-bottom: 0.4em;background-color: white;}#sk-container-id-6 div.sk-label label {font-family: monospace;font-weight: bold;display: inline-block;line-height: 1.2em;}#sk-container-id-6 div.sk-label-container {text-align: center;}#sk-container-id-6 div.sk-container {/* jupyter's `normalize.less` sets `[hidden] { display: none; }` but bootstrap.min.css set `[hidden] { display: none !important; }` so we also need the `!important` here to be able to override the default hidden behavior on the sphinx rendered scikit-learn.org. See: https://github.com/scikit-learn/scikit-learn/issues/21755 */display: inline-block !important;position: relative;}#sk-container-id-6 div.sk-text-repr-fallback {display: none;}</style><div id=\"sk-container-id-6\" class=\"sk-top-container\"><div class=\"sk-text-repr-fallback\"><pre>ExtraTreesClassifier(n_estimators=500, random_state=42)</pre><b>In a Jupyter environment, please rerun this cell to show the HTML representation or trust the notebook. <br />On GitHub, the HTML representation is unable to render, please try loading this page with nbviewer.org.</b></div><div class=\"sk-container\" hidden><div class=\"sk-item\"><div class=\"sk-estimator sk-toggleable\"><input class=\"sk-toggleable__control sk-hidden--visually\" id=\"sk-estimator-id-6\" type=\"checkbox\" checked><label for=\"sk-estimator-id-6\" class=\"sk-toggleable__label sk-toggleable__label-arrow\">ExtraTreesClassifier</label><div class=\"sk-toggleable__content\"><pre>ExtraTreesClassifier(n_estimators=500, random_state=42)</pre></div></div></div></div></div>"
      ],
      "text/plain": [
       "ExtraTreesClassifier(n_estimators=500, random_state=42)"
      ]
     },
     "execution_count": 32,
     "metadata": {},
     "output_type": "execute_result"
    }
   ],
   "source": [
    "# Extra Trees\n",
    "\n",
    "et = ExtraTreesClassifier(n_estimators=500, random_state=42)\n",
    "et.fit(X_train_transformed, y_train)"
   ]
  },
  {
   "cell_type": "code",
   "execution_count": 33,
   "id": "819a4701-4f14-4e40-a433-a8641187dde7",
   "metadata": {
    "tags": []
   },
   "outputs": [
    {
     "name": "stdout",
     "output_type": "stream",
     "text": [
      "1.0\n",
      "0.9927831816755569\n"
     ]
    }
   ],
   "source": [
    "print(et.score(X_train_transformed, y_train))\n",
    "\n",
    "print(et.score(X_test_transformed, y_test))"
   ]
  },
  {
   "cell_type": "code",
   "execution_count": 35,
   "id": "b43dc5ca-6b8f-4062-aafb-f7cdeb3386ae",
   "metadata": {
    "tags": []
   },
   "outputs": [
    {
     "data": {
      "image/png": "[encoded data removed]",
      "text/plain": [
       "<Figure size 640x480 with 2 Axes>"
      ]
     },
     "metadata": {},
     "output_type": "display_data"
    }
   ],
   "source": [
    "# Get predictions\n",
    "et_preds = et.predict(X_test_transformed)\n",
    "\n",
    "# View confusion matrix\n",
    "ConfusionMatrixDisplay.from_predictions(y_test, et_preds, cmap='Blues');"
   ]
  },
  {
   "cell_type": "code",
   "execution_count": 36,
   "id": "7d6b9efe-a6ce-4742-90a4-ed25b28ef93e",
   "metadata": {
    "tags": []
   },
   "outputs": [
    {
     "name": "stdout",
     "output_type": "stream",
     "text": [
      "https://www.reddit.com/r/campingwithkids/\n",
      "Please contribute. If anyone wants to be a moderator, please join. \n",
      "https://www.reddit.com/r/CampingGear/comments/141twlo/should_rcampinggear_close_for_two_days_to_protest/\n",
      "\n",
      "We are voting on this over at r/campinggear and the support is currently strongly in favor. \n",
      "\n",
      "Will the mods of r/camping support this for this subreddit?\n",
      "I have a ton of hiking and camping experience. I've been to almost all state parks and a ton of the national forests. I don't, on the other hand, have much hunting experience. I don't really know where to begin with this, as far as where I should go or what I should bring. I have a decent amount of gear. But, I think, most of it is more applicable to 3-5 day trips. Less long term stuff. I would really love to go to Alaska, because it has the largest national forests, but it is pretty far from where I am, so I think I'd like to stay in the lower 48. \n",
      "  \n",
      "Edit: [I thought you could hunt in national forests](http://www.fs.fed.us/biology/wildlife/hunters.html)\n",
      "Got a large first tent earlier in the year which a darkened bedroom and it is an amazing feature. You sleep so much better when the bright sun is not making your entire living space really bright at the crack of dawn. \n",
      "\n",
      "I've been aiming to get a smaller, lighter tent I can put up myself for solo adventures with my mtb (not necessarily bikepacking, just more time at further away trails without having to pay for a hotel/airbnb every time) and it's quite annoying to find a tent that ticks every box other than having a darkened room.\n",
      "\n",
      "Why aren't more tents like this? I'd have thought it would be an almost standard feature these days. Is it weight? Do most people just prefer to not have a darkened room?\n",
      "\n",
      "I'm considering leaving it until next year to see if more good small tents have this feature.\n",
      "\n",
      "Has anyone here tried DIY darkened bedrooms which I've read a bit about? Is it as much of a pain in the ass as I expect it be? Or even potentially trying to size up another tents bedroom with a darkened bedroom and buying that as a replacement part? I know there's the option of a sleep mask but it's not quite the same.\n",
      "\n",
      "For what its worth, I was considering the Vango Knoydart 300 for its feature/size/weight, though the closest I can really find to it with a darkened room is a Coleman Chimney Rock 3 Plus which is considerably heavier (and larger).\n",
      "I got this idea from someone else using ChatGPT for custom meal planing. I am not good at cooking and have not tried this yet, but it sounds great! Here are ChatGPT's ideas:\n",
      "\n",
      "&#x200B;\n",
      "\n",
      "**Truffle Mushroom Risotto:**\n",
      "\n",
      "Turn your camping pot into a vessel for a creamy and luxurious risotto.\n",
      "\n",
      "* Ingredients: Arborio rice, vegetable broth, dried wild mushrooms (porcini or shiitake), fresh mushrooms (cremini or portobello), truffle oil, white wine, shallots (finely chopped), garlic (minced), butter, Parmesan cheese, salt, and pepper.\n",
      "* Instructions: Rehydrate the dried mushrooms in hot water. In the pot, sauté shallots and garlic in butter until fragrant. Add Arborio rice and toast for a minute. Deglaze with white wine and allow it to absorb. Gradually add vegetable broth, stirring constantly until the rice is creamy and cooked. Sauté fresh mushrooms separately and add to the risotto. Stir in the rehydrated mushrooms, a drizzle of truffle oil, and grated Parmesan cheese. Season with salt and pepper to taste.\n",
      "\n",
      "&#x200B;\n",
      "\n",
      "**Lemon Herb Salmon with Couscous:**\n",
      "\n",
      "Impress yourself with a flavorful salmon dish accompanied by fluffy couscous.\n",
      "\n",
      "* Ingredients: Salmon fillet, lemon, fresh herbs (such as dill and thyme), couscous, vegetable broth, butter, asparagus spears, salt, and pepper.\n",
      "* Instructions: Season the salmon fillet with salt, pepper, and lemon zest. In the pot, melt butter and sear the salmon until cooked through. Remove and set aside. In the same pot, bring vegetable broth to a boil and add couscous. Remove from heat, cover, and let it steam. Meanwhile, blanch asparagus in boiling water. Fluff the couscous with a fork and stir in fresh herbs. Serve the salmon on a bed of couscous with asparagus on the side.\n",
      "\n",
      "&#x200B;\n",
      "\n",
      "**Coq au Vin Inspired Chicken Stew:**\n",
      "\n",
      "Transform your pot into a rustic French-inspired chicken stew.\n",
      "\n",
      "* Ingredients: Chicken thighs, red wine, pearl onions, mushrooms, carrots, chicken broth, bacon strips (optional), garlic, thyme, bay leaf, flour, butter, salt, and pepper.\n",
      "* Instructions: In the pot, cook bacon until crispy. Remove and set aside. Brown chicken thighs in bacon fat. Remove chicken and sauté pearl onions, mushrooms, and carrots until slightly caramelized. Add minced garlic and a sprinkle of flour. Stir to create a roux. Deglaze with red wine and let it reduce. Add chicken broth, thyme, and bay leaf. Return chicken and bacon to the pot. Simmer until chicken is tender and flavors meld.\n",
      "\n",
      "&#x200B;\n",
      "\n",
      "**Berry-Pecan Breakfast Quinoa:**\n",
      "\n",
      "Start your day with a gourmet breakfast quinoa bowl.\n",
      "\n",
      "* Ingredients: Quinoa, almond milk, mixed berries (blueberries, raspberries), toasted pecans, honey, vanilla extract, nutmeg, and a sprinkle of edible flowers (optional).\n",
      "* Instructions: Cook quinoa in almond milk for added creaminess. Stir in vanilla extract and a pinch of nutmeg. Serve in bowls, topped with mixed berries, toasted pecans, a drizzle of honey, and edible flowers for a touch of elegance.\n",
      "\n",
      "&#x200B;\n",
      "\n",
      "Remember to pack any specialty ingredients you might need and make sure to follow proper cooking and food safety guidelines while camping. Enjoy your gourmet camping experience!\n",
      "Hello there!\n",
      "\n",
      "For context I, (f) am going on a month long organized backpacking trip. I’m assuming we’re not going to be allowed deodorant. But I’m concerned about smelling bad. I know it’s inevitable but the idea of smelling super bad for an entire month is stressing me out! Does anyone know of any ways I can keep smelling fresh? Is there anything you guys spray on your clothes beforehand? A lightweight way to “shower”? Let me know!\n",
      "Anyone know of any good synthetic ultralight/compact sleeping bags and jackets? I do not use animal products. I have looked at the Enlightened Equipment Prodigy quilt which looks pretty nice. Has anyone used it? Thanks.\n",
      "Edit::: to include this information for clarity.\n",
      "\n",
      "The 2022 model camper came with these batteries. \n",
      "\n",
      "(2) Interstate SRM-27 Deep Cycle Marine/RV. 88AH. 160RC. 750MCA. 12V. They are connected black/black, red/red. \n",
      "\n",
      "The only thing operating is the fridge. And NO, it can not run on propane. It's 12v Electric (it's on a fuse, not a breaker). It's a GE model GPV10FSNBSB. 12VDC, 13.5amps.\n",
      "\n",
      "The inverter is also drawing from the 12v system while in standby mode, so I will try turning that OFF at night.\n",
      "\n",
      "We have the solarflex400i solar panel system (2) 200watt panels and a Xantrex Freedom X2000 inverter. We only use 120v outlets during the day when the panels are operating efficiently. Typically, as the sun sets, our batteries are at full capacity\n",
      "\n",
      ":::::\n",
      "\n",
      "\n",
      "We have a Keystone Bullet with two deep cycle lead acid batteries. They are connected by jumper wires. When boondocking, we use the installed solar panels and inverter to power the 120v system, but the water pump, refrigerator, cabin lights, slide out, awning, power jack and power stabilizers all run on 12v. \n",
      "\n",
      "The battery is fully charged at the end of the day, but by morning, the fridge is warm, freezer is thawed and the lights flicker. The water pump is sluggish. \n",
      "\n",
      "We can monitor the battery system and solar panels by apps, and the battery app will indicate slow but steady drops as soon as the solar panels are done working for the day. It also shows the amount of useage, and calculates how long the system will operate without being recharged. One thing I noticed was that it suggested a \"remaining useage time\" of roughly 10 hours. This would explain why by 7am, our fridge is getting warm and nothing works, but it doesn't explain why, and what could possibly be draining those batteries so quickly?!?!\n",
      "\n",
      "Do we seriously need to move to Lithium batteries to boondock overnight? That doesn't seem right to me? All lights are off. No appliances are plugged in. The water pump is off. \n",
      "\n",
      "I've checked nealy every rv thread online, been to the manufacturers website and even talked to customer support. It's all circular talk with no solutions. The dealer will charge us $175/hr to evaluate, but they couldn't guarantee that they could discover the problem in an 8 hour day...\n",
      "\n",
      "So, here I am, looking for the free advice.\n",
      "\n",
      "Thanks, in advance.\n",
      "This is the best stove I have ever use.\n",
      "\n",
      "Only $17.99, present price is $19.99, promo code: XSUT262P (save $2), expires on 04/27/2015 11:59 PM PDT.\n",
      "1.It is ultralight and foldable, easy to carry and easy to set up. Ideal for camping, backpacking, long-time trip\n",
      "\n",
      "2.Strong & Sturdy: Made of aluminum alloy and stainless steel, with low center of gravity and wide base, can stand high temperature and weight(max: 6kg). The stove top with anti-slip design can accommodate up to a 30cm diameter pan in a sturdy way.\n",
      "\n",
      "3.Efficient & Easy: No need to use stove windscreen. Boil 2 pints of water in 6 minutes. The valve is designed to adjust the flame from full roar to a low simmer. The efficient flame can make a disposable butane canister last for days.\n",
      "\n",
      "4.Safe & Compatible: The stainless steel mesh gas host is 11\"(28cm). It is safe and easy to connect with the fuel canister. Use with straight butane or butane-propane mixed fuel canisters with threaded 7/16 NS Lindal Valve (EN417).\n",
      "\n",
      "5.Quick to Ignite: Piezoelectric Ceramic Ignition can be fired up each and every time. It can be used up to 1-1.2 million times.\n",
      "http://www.amazon.com/Dpower-Ultralight-Backpacking-Gas-powered-Ignition/dp/B00PW7HL8A/ref=sr_1_cc_1?s=aps&ie=UTF8&qid=1428400713&sr=1-1-catcorr&keywords=DPOWER+mini+camping+stove\n",
      " I was thinking of using Google Fi unlimited plan but from what I've heard after certain data limits it'll slow down after a certain a certain point...\n",
      "I'm going to go hunting for the week but I only have a tent. I don't know how to keep it comfortably warm in freezing temperatures (not including wind chill). \n",
      "\n",
      "Right now I figured I'll light a fire where I want my tent, warm up the rocks it's going to be on, then after the fire completely dies, put some hay down between the rocks and the tent, then between they hay, a thick blanket. Then have the tent on top of that.\n",
      "\n",
      "For the tent itself I'm thinking of putting a blanket over top of it and having one inside on the floor. Over top of the tent and blanket, a tarp to hold the blanket down and to add a little more insulation. \n",
      "\n",
      "I 5gal jug of hot water wrapped in foil and a blanket is reserve heat and to heat up the whole tent.\n",
      "\n",
      "For sleeping I figure a sleeping bag wrapped in a blanket and a blanket on the inside is my best bet.\n",
      "\n",
      "Note: both my sleeping bag and tent are pretty cheap and not made for supper cold weather. I'm also thinking of some half warmers incase of emergency but I'm looking for a cheap option. I'm going tomorrow and didn't think of asking y'all until just now.\n",
      "\n",
      "Note 2: I don't have a budget. I have alot of everything I said about accept for the hand warmers, I have 4.\n",
      "For clarification: last year my friends and I started a capture the flag version involving airsoft. Except now we're trying to take it to a much larger scale, we're thinking of an area 8 miles long 1.5 miles wide, boundaries aren't really strict though. We're looking at central to northern NH rn. We basically play from 10-6pm and then chill super hard at a common camp. It's a cool time, we sit around a fire, music, food, etc. It'll be going on for like 3 days and people are welcome to come and go as they please. We do a tag based system to take people out. We're looking for as many people as possible, all in all its a cool time and is great if you love camping, CTF, and/or airsoft\n",
      "PM me if have any questions\n",
      "Hi everyone, I'm looking at investing into a single ensuite tent.\n",
      "\n",
      "Currently looking at the OZtrail fast frame and the Coleman single instant on Tentworld.\n",
      "\n",
      "I can't seem to choose between them, the OZtrail is $20 cheaper. Both brands are reputable in my opinion through usage of other products of theirs. \n",
      "\n",
      "Anyone able to weigh in with experience from either?\n",
      "\n",
      "Cheers!\n",
      "This group is amazing.  I shared in the \"What do you consider Glamping\" [https://www.reddit.com/r/camping/comments/11m0m99/comment/jbiiz8o/?context=3](https://www.reddit.com/r/camping/comments/11m0m99/comment/jbiiz8o/?context=3) thread yesterday about our transformation through the years as my wife's (mostly) health suffered.  417 (so far) up votes and not one negative.  I was reluctant to post as I was criticized on another forum and told to either stay home or at a hotel as we were part of the problems people have to put up with while camping.  Thank you for being understanding!  \n",
      "Just getting back to my roots camping when I was younger , want to put 600 or so in gear as I haven't camped since I lived in ny and dont have any gear anymore. I love function over form mostly, I'm a tech guy not looking for glamping persay but do intend some devices and a solar panel that can fit in a new backpack, looking for a multi day setup. About 3 days at a time to start. Any suggestions useful, such as places , kit, etc, to start I'm looking at a backpack and a tent and a couple starters , I also have my 4 door sedan for transport. I'm looking at the gregory bags with hydration like the zulo or paragon etc . Would love some boots on the ground ideas. Thanks!\n",
      "Many people are embracing the use of hammocks in their outdoor living and adventures. If you are yet to jump on this bandwagon, let me give you 6 reasons why you need to put a hammock in your backpack next time you are travelling.\n",
      "\n",
      "**1.** **The absolute outdoor relaxation**\n",
      "\n",
      "The hammock gives you a chance to relax outdoors. Using tree-friendly super straps, you can hang it on the beach and enjoy yourself without the bother of the sand getting into your clothes! A peaceful and relaxing nap when hiking in the woods simply requires a quiet place to hang your parachute hammock. \n",
      "\n",
      "**2.** **It has lots of uses**\n",
      "\n",
      "The parachute nylon material that the camping hammock is made up of makes it a versatile item that you should always carry when travelling. It can come in handy wherever you may be. You can use it as a blanket, a picnic mat, a pillow, sunshade or even a backpack cover during light drizzles. \n",
      "\n",
      "**3.** **Offers cheaper accommodation**\n",
      "\n",
      "Having a camping hammock is just like carrying a tent, only much better. Find yourself in a hotel or hostel with no more room? No worry, for a small fee you just need a small space to hang your hammock, and you are good to go! \n",
      "\n",
      "**4. much better sleep**\n",
      "\n",
      "Sleep therapists and doctors advise one to sleep on their back for quality sleep. There is no other way other than this to sleep in a hammock. The gentle swinging of the hammock will relax you and before you know it you are soon asleep! Sleeping in a parachute hammock is also much more comfortable than in a sleeping bag on the hard ground. \n",
      "\n",
      "**5.** **Easily portable**\n",
      "\n",
      "The parachute hammocks are lightweight and fit easily in a bag attached to it. This makes it very portable and can be carried everywhere. Compared to the bother of carrying a sleeping bag, you will love taking your hammock with you.\n",
      "\n",
      "**6.** **Make friends easily**\n",
      "\n",
      "The presence of a hammock surely attracts many people who want to try it out. A double-size hammock will give you a chance to make friends easily and have the joy of sharing with others. For hotel owners, hammocks are sure to pull people who would want to camp in your grounds.\n",
      "\n",
      "Next time your adventure bug hits you, don’t forget to throw in your hammock in the car trunk. You never know when an opportunity will come calling for you to use it. You don’t want to miss that, do you?\n",
      "https://www.reddit.com/r/CampingGear/comments/141twlo/should_rcampinggear_close_for_two_days_to_protest/\n",
      "\n",
      "We are voting on this over at r/campinggear and the support is currently strongly in favor. \n",
      "\n",
      "Will the mods of r/camping support this for this subreddit?\n",
      "I have been seeing a lot of people over the past few years coming up with excellent products that are either an improvement of what was already existing in the camping world (the [coolest](https://www.kickstarter.com/projects/ryangrepper/coolest-cooler-21st-century-cooler-thats-actually), the [wind catcher airpad](http://www.windcatchergear.com/)) or products applying renewable energy sources to old cooking systems (this [gosun grill](http://www.gosunstove.com/products/gosun-sport) is AMAZING). \n",
      "\n",
      "So my question to you, fellow campers around the world is: what products do you wish existed for camping but you can't find? Or what products you wished were better (greener, more efficient, lighter, whatever \"better\" means to you). \n",
      "\n",
      "And: how about we sit down and discuss how to make it and commercialize it together? I am serious. I have done this in the past in other sectors, but motorcycling and the outdoors are my passions, so why not here. \n",
      "\n",
      "Anyone wants to brainstorm with me? \n",
      "\n",
      "Posting this in other subreddits too. If there is enough interest for a serious discussion, I will build an appropriate subforum. Moderators, please let me know if I am violating some rules here...\n",
      "Hi everyone, I'm looking at investing into a single ensuite tent.\n",
      "\n",
      "Currently looking at the OZtrail fast frame and the Coleman single instant on Tentworld.\n",
      "\n",
      "I can't seem to choose between them, the OZtrail is $20 cheaper. Both brands are reputable in my opinion through usage of other products of theirs. \n",
      "\n",
      "Anyone able to weigh in with experience from either?\n",
      "\n",
      "Cheers!\n",
      "Many people are embracing the use of hammocks in their outdoor living and adventures. If you are yet to jump on this bandwagon, let me give you 6 reasons why you need to put a hammock in your backpack next time you are travelling.\n",
      "\n",
      "**1.** **The absolute outdoor relaxation**\n",
      "\n",
      "The hammock gives you a chance to relax outdoors. Using tree-friendly super straps, you can hang it on the beach and enjoy yourself without the bother of the sand getting into your clothes! A peaceful and relaxing nap when hiking in the woods simply requires a quiet place to hang your parachute hammock. \n",
      "\n",
      "**2.** **It has lots of uses**\n",
      "\n",
      "The parachute nylon material that the camping hammock is made up of makes it a versatile item that you should always carry when travelling. It can come in handy wherever you may be. You can use it as a blanket, a picnic mat, a pillow, sunshade or even a backpack cover during light drizzles. \n",
      "\n",
      "**3.** **Offers cheaper accommodation**\n",
      "\n",
      "Having a camping hammock is just like carrying a tent, only much better. Find yourself in a hotel or hostel with no more room? No worry, for a small fee you just need a small space to hang your hammock, and you are good to go! \n",
      "\n",
      "**4. much better sleep**\n",
      "\n",
      "Sleep therapists and doctors advise one to sleep on their back for quality sleep. There is no other way other than this to sleep in a hammock. The gentle swinging of the hammock will relax you and before you know it you are soon asleep! Sleeping in a parachute hammock is also much more comfortable than in a sleeping bag on the hard ground. \n",
      "\n",
      "**5.** **Easily portable**\n",
      "\n",
      "The parachute hammocks are lightweight and fit easily in a bag attached to it. This makes it very portable and can be carried everywhere. Compared to the bother of carrying a sleeping bag, you will love taking your hammock with you.\n",
      "\n",
      "**6.** **Make friends easily**\n",
      "\n",
      "The presence of a hammock surely attracts many people who want to try it out. A double-size hammock will give you a chance to make friends easily and have the joy of sharing with others. For hotel owners, hammocks are sure to pull people who would want to camp in your grounds.\n",
      "\n",
      "Next time your adventure bug hits you, don’t forget to throw in your hammock in the car trunk. You never know when an opportunity will come calling for you to use it. You don’t want to miss that, do you?\n",
      "Obviously, this wouldn’t be for everyone. But I’ve been thinking about finding alternatives to working my “normal” job and this idea came to mind.\n",
      "\n",
      "I’m super organized and love planning out trips and adventures. I also have tons of experience with camping, hiking, backpacking, and cycling. \n",
      "\n",
      "Would it take stress out of your life if I took care of the little details for you?\n",
      "\n",
      "And the tricky questions I’m trying to figure out: how should I market this idea? How do I find the people who would use this service? I’m guessing most people on this subreddit know how to plan a camping trip and wouldn’t need the help, but I’m willing to bet there are people out there who would love to have assistance.\n",
      "\n",
      "If I did plan a camping trip for you, what kind of help would you want? I could find a campsite that meets your criteria, make the reservation, create packing lists, and provide maps and local info. For a more full-on experience, I could come help you set up camp - if that’s what would help.\n",
      "\n",
      "Anyways, this is very much is the brainstorming phase right now, but I feel like it has potential. Please weigh in and let me know what you think!\n",
      "Every year in the Spring, my boy scout troop goes to this awesome military base for a camping trip. It's not like normal camping trips where we hike or something: We do swimming, golfing, ping pong, and all sorts of awesome stuff. It's consistently one of the best weekends of the year. Most years, despite the awesomeness *something* goes wrong, as they generally do on camping trips. One year I forgot to bring money, another I got really sick... But this one takes the cake.\n",
      "\n",
      "It was the last night of our trip, and our troop decided to play a big game of capture the flag. And I mean **BIG.** It went from a field behind our campsite, the other team's base, through a fairly large forest, past an arcade, and across a big field to a baseball field which was our area. The game went pretty slow, considering our troop is rather small, but it was really fun. About an hour in (it was close to pitch black at this point) while I was playing defense, I saw the entire other team and some of ours running to us. While I was thinking *\"I'm gonna have to play some really good defense,\"* they started yelling at me and another guy who was playing defense to come over. I remember thinking something like *\"Do they think I'm stupid?\"* But after some more yelling we walked over.\n",
      "\n",
      "Turns out that some teenager ran away and was on the run from the cops right around us. Also, the police description of them sounded exactly like me (not relevant, but I was scared shitless). We walked back to the campsite, and we were the only ones out. When we were exactly one campsite over from ours, all hell broke loose. There was suddenly a group of teenagers a few yards away from us, yelling and cussing. Then I see some sort of bright red thing being shot at us from them. I didn't think *\"The hell? Is this related to the guy on the run from the cops?\"* I didn't think *\"What's even happening right now?\"* I just thought ***\"HOLY FUCK THERE ARE FIRECRACKERS BEING SHOT AT US, RUN!\"*** They probably would only have given us minor injuries had they hit us, but it was the scariest, most adrenaline filled moment of my life so I just booked it. Fast forward to when we are back at the campsite, me and another guy are walking to the tents about to go and sleep and he says something to sum it up perfectly.\n",
      "\n",
      "\"I'm fucking done with this camping trip.\"\n",
      "\n",
      "I have no idea if the guy on the run had anything to do with the firecrackers, or why they shot them at us (probably just assholes screwing around). There was also a guy that came to our campsite telling a pretty badass story of how he caught the guy a bit later, but at that point I didn't care. I just wanted to leave.\n",
      "Originally posted in /r/nosleep and made it to front page. \n",
      "I recognized at least one of the stories from a radio show on Coast To Coast AM about [strange disappearances of people in National and State Parks.](http://www.coasttocoastam.com/search/?query=missing+people+parks&search.x=18&search.y=12)\n",
      "\n",
      "Now this guy takes it to another level...\n",
      "\n",
      "part 1:\n",
      "https://www.reddit.com/r/nosleep/comments/3iex1h/im_a_search_and_rescue_officer_for_the_us_forest/?ref=share&ref_source=link\n",
      "\n",
      "part 2:\n",
      "https://www.reddit.com/r/nosleep/comments/3ijnt6/im_a_search_and_rescue_officer_for_the_us_forest/?ref=share&ref_source=link\n",
      "\n",
      "part 3:\n",
      "https://www.reddit.com/r/nosleep/comments/3iocju/im_a_search_and_rescue_officer_for_the_us_forest/?ref=share&ref_source=link\n",
      "\n",
      "(warning: walls of text)\n",
      "\n",
      "There could be something to it; or it could be a conspiracy to scare people out of the woods; or it could just be too many people with too much time on their hands - either way, it's great fodder for some freaky campfire stories on your next trip...\n"
     ]
    }
   ],
   "source": [
    "mismatched_indices = (et_preds != y_test)\n",
    "mismatched_texts = X_test[mismatched_indices]\n",
    "\n",
    "for text in mismatched_texts:\n",
    "    print(text)"
   ]
  },
  {
   "cell_type": "code",
   "execution_count": null,
   "id": "fc389bf0-a680-4f66-bf7c-b2c257424f7b",
   "metadata": {},
   "outputs": [],
   "source": []
  },
  {
   "cell_type": "code",
   "execution_count": null,
   "id": "7a3ac020-0f12-411b-8864-6c5c53dce601",
   "metadata": {},
   "outputs": [],
   "source": [
    "%%time\n",
    "# Fit the grid search for each step\n",
    "# Fit the grid search on your preprocessed and vectorized data\n",
    "rs.fit(X_train, y_train)"
   ]
  }
 ],
 "metadata": {
  "kernelspec": {
   "display_name": "Python 3 (ipykernel)",
   "language": "python",
   "name": "python3"
  },
  "language_info": {
   "codemirror_mode": {
    "name": "ipython",
    "version": 3
   },
   "file_extension": ".py",
   "mimetype": "text/x-python",
   "name": "python",
   "nbconvert_exporter": "python",
   "pygments_lexer": "ipython3",
   "version": "3.11.4"
  }
 },
 "nbformat": 4,
 "nbformat_minor": 5
}
